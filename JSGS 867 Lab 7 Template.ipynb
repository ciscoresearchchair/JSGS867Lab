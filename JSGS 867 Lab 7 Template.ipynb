{
 "cells": [
  {
   "cell_type": "markdown",
   "metadata": {},
   "source": [
    "# An Interactive Briefing Note(book)"
   ]
  },
  {
   "cell_type": "markdown",
   "metadata": {},
   "source": [
    "Lab 7 is an exercise to get acquainted with `Jupyter Notebooks`, using the familiarity of a policy briefing note as a framework. \n",
    "\n",
    "Notebooks allow for a mix of code, text, and graphics, making them an ideal platform for policy analytics briefing notes. \n",
    "\n",
    "Start by renaming this notebook template \"JSGS 867 Lab 7 *Your Name*\", and then edit this template to produce your own interactive briefing notebook. \n",
    "\n",
    "In this document, wherever you see *italicized text*, replace it with your own text.\n",
    "\n",
    "This is a toy problem to illustrate how a briefing note might be written in Jupyter Notebook. The final briefing note you create won't necessarily make sense, but it will illustrate how markdown text and code can be combined into a dynamic policy analytics briefing note. Don't spend long writing the text in the note below. The task involves mostly cutting-and-pasting your work from lab #5 In the format of a briefing note. \n",
    "\n",
    "When you are done reading these introductory instructions, delete this cell and the one above it (the title).\n",
    "\n",
    "For any of the following Markdown or Code cells, delete whatever is unnEcessary after you have run the commands. Leave other code and markdown cells needed for the final briefing note."
   ]
  },
  {
   "cell_type": "markdown",
   "metadata": {},
   "source": [
    "Date: *(enter the date of your submission)*\n",
    "\n",
    "File: *(make up a file number)*"
   ]
  },
  {
   "cell_type": "markdown",
   "metadata": {
    "slideshow": {
     "slide_type": "-"
    }
   },
   "source": [
    "MINISTRY of CENTRAL SERVICES\n",
    "\n",
    "BRIEFING NOTE FOR INFORMATION"
   ]
  },
  {
   "cell_type": "markdown",
   "metadata": {},
   "source": [
    "In the cell above, change the name of the Ministry to \"MINISTRY of CORPORATE SERVICES\" then delete this cell."
   ]
  },
  {
   "cell_type": "markdown",
   "metadata": {
    "collapsed": true
   },
   "source": [
    "I. PREPARED FOR: Paula C. Anilitics, Deputy Minister"
   ]
  },
  {
   "cell_type": "markdown",
   "metadata": {},
   "source": [
    "insert a Python command in the next cell that prints the output \"PREPARED BY: *Your Name*\"."
   ]
  },
  {
   "cell_type": "code",
   "execution_count": null,
   "metadata": {
    "collapsed": true
   },
   "outputs": [],
   "source": []
  },
  {
   "cell_type": "markdown",
   "metadata": {},
   "source": [
    "First, we have to prepare the environment we're working in."
   ]
  },
  {
   "cell_type": "markdown",
   "metadata": {},
   "source": [
    "\"Requests\" is a simple HTTP library for Python. Run the following command using Cell Magic"
   ]
  },
  {
   "cell_type": "code",
   "execution_count": null,
   "metadata": {
    "collapsed": true
   },
   "outputs": [],
   "source": [
    "# If you're using a Mac or Linux, use %%bash (Unix shell)\n",
    "# If you're using Windows, use %%cmd (DOS shell)\n",
    "# to find Linux <--> DOS conversions, consult a web resource like https://access.redhat.com/documentation/en-US/Red_Hat_Enterprise_Linux/4/html/Step_by_Step_Guide/ap-doslinux.html\n",
    "\n",
    "%%bash\n",
    "pip install requests"
   ]
  },
  {
   "cell_type": "markdown",
   "metadata": {},
   "source": [
    "Now install Python Twitter Tools (as we did with Lab 5)\n",
    "\n",
    "Download and uncompress twitter-1.17.1.tar.gz from https://pypi.python.org/packages/75/30/86a053e40068daece37a8167edc710fd6630ee58d14bcf2aa0997d79bfd4/twitter-1.17.1.tar.gz#md5=65219549f09a030719bac6e20b12c3eb \n",
    "\n",
    "Move the twitter-1.17.1 folder to the folder you're working in. (Use your desktop file manager). "
   ]
  },
  {
   "cell_type": "code",
   "execution_count": null,
   "metadata": {
    "collapsed": true
   },
   "outputs": [],
   "source": [
    "# find out what directory you are in using the following Magic command \n",
    "# Use %chdir in Windows\n",
    "%pwd"
   ]
  },
  {
   "cell_type": "code",
   "execution_count": null,
   "metadata": {
    "collapsed": true
   },
   "outputs": [],
   "source": [
    "# N.B.: The following command will list all magic commands\n",
    "%lsmagic"
   ]
  },
  {
   "cell_type": "code",
   "execution_count": null,
   "metadata": {
    "collapsed": true
   },
   "outputs": [],
   "source": [
    "# change to the directory with the twitter-1.17.1Setup.py file \n",
    "# The line below is an example - use your working directory\n",
    "# cd works on both Windows and Mac\n",
    "%cd /Users/justinlongo 1/AnacondaProjects/JSGS867/JSGS867Lab/twitter-1.17.1"
   ]
  },
  {
   "cell_type": "markdown",
   "metadata": {},
   "source": [
    "Install the Python Twitter Tools package using three separate commands. Delete this comment and the three commands when done. "
   ]
  },
  {
   "cell_type": "code",
   "execution_count": null,
   "metadata": {
    "collapsed": true
   },
   "outputs": [],
   "source": [
    "# If you're using Windows, use %%cmd\n",
    "%%bash\n",
    "python setup.py --help"
   ]
  },
  {
   "cell_type": "code",
   "execution_count": null,
   "metadata": {
    "collapsed": true
   },
   "outputs": [],
   "source": [
    "# If you're using Windows, use %%cmd\n",
    "%%bash\n",
    "python setup.py build"
   ]
  },
  {
   "cell_type": "code",
   "execution_count": null,
   "metadata": {
    "collapsed": true
   },
   "outputs": [],
   "source": [
    "# If you're using Windows, use %%cmd\n",
    "%%bash\n",
    "python setup.py install"
   ]
  },
  {
   "cell_type": "markdown",
   "metadata": {},
   "source": [
    "II. ISSUE"
   ]
  },
  {
   "cell_type": "code",
   "execution_count": null,
   "metadata": {
    "code_folding": [],
    "collapsed": true
   },
   "outputs": [],
   "source": [
    "# copy-and-paste Python code from lab 5 - the first twitter_streaming.py file\n",
    "# (it starts with the line \"# Import the necessary package to process data in JSON format),\" \n",
    "# and can be found in the tutorial at http://socialmedia-class.org/twittertutorial.html under\n",
    "# \"Basic Uses of Streaming APIs\" and before the \"Advanced Uses of Streaming APIs\"\n",
    "\n",
    "# if you get an error at \"print json.dumps(tweet, indent=4)\", \n",
    "# it may be because you are Using Python 3. \n",
    "# Try \"print (json.dumps(tweet, indent=4))\" instead\n",
    "\n",
    "# You'll have a large output area. Double-click on the active area to the left of the output to minimize it.\n",
    "\n"
   ]
  },
  {
   "cell_type": "markdown",
   "metadata": {},
   "source": [
    "III. ANALYSIS"
   ]
  },
  {
   "cell_type": "code",
   "execution_count": null,
   "metadata": {
    "collapsed": true
   },
   "outputs": [],
   "source": [
    "# copy-and-paste Python code from lab 5 - the final twitter_streaming.py file you submitted\n",
    "# implementing the \"Advanced Uses of Streaming APIs\" (i.e., searching by keyword and geolocation)\n",
    "\n"
   ]
  },
  {
   "cell_type": "markdown",
   "metadata": {},
   "source": [
    "V. RECOMMENDATION\n",
    "\n",
    "| Option | Description |\n",
    "| :------:| -----------:|\n",
    "| 1   | Markdown does not allow for a lot of formatting. |\n",
    "| 2 | This is one way. |\n",
    "| 3    | You can look up other formatting tricks. |"
   ]
  },
  {
   "cell_type": "markdown",
   "metadata": {},
   "source": [
    "Submit your notebook file by email to justin.longo.phd@gmail.com or put online (e.g., GitHub) and send me the URL."
   ]
  }
 ],
 "metadata": {
  "kernelspec": {
   "display_name": "Python 3",
   "language": "python",
   "name": "python3"
  },
  "language_info": {
   "codemirror_mode": {
    "name": "ipython",
    "version": 3
   },
   "file_extension": ".py",
   "mimetype": "text/x-python",
   "name": "python",
   "nbconvert_exporter": "python",
   "pygments_lexer": "ipython3",
   "version": "3.6.3"
  }
 },
 "nbformat": 4,
 "nbformat_minor": 1
}
