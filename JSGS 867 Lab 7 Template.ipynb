{
 "cells": [
  {
   "cell_type": "markdown",
   "metadata": {},
   "source": [
    "# An Interactive Briefing Note(book)"
   ]
  },
  {
   "cell_type": "markdown",
   "metadata": {},
   "source": [
    "Run the following four commands to be able to collapse cells when you no longer need to show them (as in a briefing note). \n",
    "\n",
    "Note that if you double-click in the space to the left of some output, the output space will collapse (useful when running commands like these).\n",
    "\n",
    "After running these four commands, \"Save and Checkpoint\" this notebook, Logout and re-start your Notebook server."
   ]
  },
  {
   "cell_type": "code",
   "execution_count": 72,
   "metadata": {
    "collapsed": true
   },
   "outputs": [
    {
     "name": "stdout",
     "output_type": "stream",
     "text": [
      "Requirement already satisfied: jupyter_contrib_nbextensions in /anaconda3/lib/python3.6/site-packages\n",
      "Requirement already satisfied: ipython-genutils in /anaconda3/lib/python3.6/site-packages (from jupyter_contrib_nbextensions)\n",
      "Requirement already satisfied: notebook>=4.0 in /anaconda3/lib/python3.6/site-packages (from jupyter_contrib_nbextensions)\n",
      "Requirement already satisfied: traitlets>=4.1 in /anaconda3/lib/python3.6/site-packages (from jupyter_contrib_nbextensions)\n",
      "Requirement already satisfied: jupyter-highlight-selected-word>=0.0.10 in /anaconda3/lib/python3.6/site-packages (from jupyter_contrib_nbextensions)\n",
      "Requirement already satisfied: pyyaml in /anaconda3/lib/python3.6/site-packages (from jupyter_contrib_nbextensions)\n",
      "Requirement already satisfied: jupyter-contrib-core>=0.3.3 in /anaconda3/lib/python3.6/site-packages (from jupyter_contrib_nbextensions)\n",
      "Requirement already satisfied: tornado in /anaconda3/lib/python3.6/site-packages (from jupyter_contrib_nbextensions)\n",
      "Requirement already satisfied: jupyter-nbextensions-configurator>=0.2.8 in /anaconda3/lib/python3.6/site-packages (from jupyter_contrib_nbextensions)\n",
      "Requirement already satisfied: nbconvert>=4.2 in /anaconda3/lib/python3.6/site-packages (from jupyter_contrib_nbextensions)\n",
      "Requirement already satisfied: jupyter-latex-envs>=1.3.8 in /anaconda3/lib/python3.6/site-packages (from jupyter_contrib_nbextensions)\n",
      "Requirement already satisfied: lxml>=3.8.0 in /anaconda3/lib/python3.6/site-packages (from jupyter_contrib_nbextensions)\n",
      "Requirement already satisfied: jupyter-core in /anaconda3/lib/python3.6/site-packages (from jupyter_contrib_nbextensions)\n",
      "Requirement already satisfied: six in /anaconda3/lib/python3.6/site-packages (from traitlets>=4.1->jupyter_contrib_nbextensions)\n",
      "Requirement already satisfied: decorator in /anaconda3/lib/python3.6/site-packages (from traitlets>=4.1->jupyter_contrib_nbextensions)\n",
      "Requirement already satisfied: setuptools in /anaconda3/lib/python3.6/site-packages (from jupyter-contrib-core>=0.3.3->jupyter_contrib_nbextensions)\n",
      "Requirement already satisfied: mistune>=0.7.4 in /anaconda3/lib/python3.6/site-packages (from nbconvert>=4.2->jupyter_contrib_nbextensions)\n",
      "Requirement already satisfied: jinja2 in /anaconda3/lib/python3.6/site-packages (from nbconvert>=4.2->jupyter_contrib_nbextensions)\n",
      "Requirement already satisfied: pygments in /anaconda3/lib/python3.6/site-packages (from nbconvert>=4.2->jupyter_contrib_nbextensions)\n",
      "Requirement already satisfied: nbformat>=4.4 in /anaconda3/lib/python3.6/site-packages (from nbconvert>=4.2->jupyter_contrib_nbextensions)\n",
      "Requirement already satisfied: entrypoints>=0.2.2 in /anaconda3/lib/python3.6/site-packages (from nbconvert>=4.2->jupyter_contrib_nbextensions)\n",
      "Requirement already satisfied: bleach in /anaconda3/lib/python3.6/site-packages (from nbconvert>=4.2->jupyter_contrib_nbextensions)\n",
      "Requirement already satisfied: pandocfilters>=1.4.1 in /anaconda3/lib/python3.6/site-packages (from nbconvert>=4.2->jupyter_contrib_nbextensions)\n",
      "Requirement already satisfied: testpath in /anaconda3/lib/python3.6/site-packages (from nbconvert>=4.2->jupyter_contrib_nbextensions)\n",
      "Requirement already satisfied: ipython in /anaconda3/lib/python3.6/site-packages (from jupyter-latex-envs>=1.3.8->jupyter_contrib_nbextensions)\n",
      "Requirement already satisfied: MarkupSafe>=0.23 in /anaconda3/lib/python3.6/site-packages (from jinja2->nbconvert>=4.2->jupyter_contrib_nbextensions)\n",
      "Requirement already satisfied: jsonschema!=2.5.0,>=2.4 in /anaconda3/lib/python3.6/site-packages (from nbformat>=4.4->nbconvert>=4.2->jupyter_contrib_nbextensions)\n",
      "Requirement already satisfied: html5lib>=0.99999999 in /anaconda3/lib/python3.6/site-packages (from bleach->nbconvert>=4.2->jupyter_contrib_nbextensions)\n",
      "Requirement already satisfied: jedi>=0.10 in /anaconda3/lib/python3.6/site-packages (from ipython->jupyter-latex-envs>=1.3.8->jupyter_contrib_nbextensions)\n",
      "Requirement already satisfied: pickleshare in /anaconda3/lib/python3.6/site-packages (from ipython->jupyter-latex-envs>=1.3.8->jupyter_contrib_nbextensions)\n",
      "Requirement already satisfied: simplegeneric>0.8 in /anaconda3/lib/python3.6/site-packages (from ipython->jupyter-latex-envs>=1.3.8->jupyter_contrib_nbextensions)\n",
      "Requirement already satisfied: prompt_toolkit<2.0.0,>=1.0.4 in /anaconda3/lib/python3.6/site-packages (from ipython->jupyter-latex-envs>=1.3.8->jupyter_contrib_nbextensions)\n",
      "Requirement already satisfied: appnope in /anaconda3/lib/python3.6/site-packages (from ipython->jupyter-latex-envs>=1.3.8->jupyter_contrib_nbextensions)\n",
      "Requirement already satisfied: pexpect in /anaconda3/lib/python3.6/site-packages (from ipython->jupyter-latex-envs>=1.3.8->jupyter_contrib_nbextensions)\n",
      "Requirement already satisfied: webencodings in /anaconda3/lib/python3.6/site-packages (from html5lib>=0.99999999->bleach->nbconvert>=4.2->jupyter_contrib_nbextensions)\n",
      "Requirement already satisfied: wcwidth in /anaconda3/lib/python3.6/site-packages (from prompt_toolkit<2.0.0,>=1.0.4->ipython->jupyter-latex-envs>=1.3.8->jupyter_contrib_nbextensions)\n"
     ]
    }
   ],
   "source": [
    "%%bash\n",
    "conda install -c conda-forge jupyter_contrib_nbextensions"
   ]
  },
  {
   "cell_type": "code",
   "execution_count": 61,
   "metadata": {
    "collapsed": true
   },
   "outputs": [
    {
     "name": "stderr",
     "output_type": "stream",
     "text": [
      "[I 13:32:49 InstallContribNbextensionsApp] jupyter contrib nbextension install --sys-prefix --skip-running-check\n",
      "[I 13:32:49 InstallContribNbextensionsApp] Installing jupyter_contrib_nbextensions nbextension files to jupyter data directory\n",
      "[I 13:32:49 InstallContribNbextensionsApp] Installing /anaconda3/lib/python3.6/site-packages/jupyter_contrib_nbextensions/nbextensions/addbefore -> addbefore\n",
      "[I 13:32:49 InstallContribNbextensionsApp] Making directory: /anaconda3/share/jupyter/nbextensions/addbefore/\n",
      "[I 13:32:49 InstallContribNbextensionsApp] Copying: /anaconda3/lib/python3.6/site-packages/jupyter_contrib_nbextensions/nbextensions/addbefore/addbefore.yaml -> /anaconda3/share/jupyter/nbextensions/addbefore/addbefore.yaml\n",
      "[I 13:32:49 InstallContribNbextensionsApp] Copying: /anaconda3/lib/python3.6/site-packages/jupyter_contrib_nbextensions/nbextensions/addbefore/icon.png -> /anaconda3/share/jupyter/nbextensions/addbefore/icon.png\n",
      "[I 13:32:49 InstallContribNbextensionsApp] Copying: /anaconda3/lib/python3.6/site-packages/jupyter_contrib_nbextensions/nbextensions/addbefore/main.js -> /anaconda3/share/jupyter/nbextensions/addbefore/main.js\n",
      "[I 13:32:49 InstallContribNbextensionsApp] Copying: /anaconda3/lib/python3.6/site-packages/jupyter_contrib_nbextensions/nbextensions/addbefore/readme.md -> /anaconda3/share/jupyter/nbextensions/addbefore/readme.md\n",
      "[I 13:32:49 InstallContribNbextensionsApp] - Validating: \u001b[32mOK\u001b[0m\n",
      "[I 13:32:49 InstallContribNbextensionsApp] Installing /anaconda3/lib/python3.6/site-packages/jupyter_contrib_nbextensions/nbextensions/autosavetime -> autosavetime\n",
      "[I 13:32:49 InstallContribNbextensionsApp] Making directory: /anaconda3/share/jupyter/nbextensions/autosavetime/\n",
      "[I 13:32:49 InstallContribNbextensionsApp] Copying: /anaconda3/lib/python3.6/site-packages/jupyter_contrib_nbextensions/nbextensions/autosavetime/autosavetime.yaml -> /anaconda3/share/jupyter/nbextensions/autosavetime/autosavetime.yaml\n",
      "[I 13:32:49 InstallContribNbextensionsApp] Copying: /anaconda3/lib/python3.6/site-packages/jupyter_contrib_nbextensions/nbextensions/autosavetime/icon.png -> /anaconda3/share/jupyter/nbextensions/autosavetime/icon.png\n",
      "[I 13:32:49 InstallContribNbextensionsApp] Copying: /anaconda3/lib/python3.6/site-packages/jupyter_contrib_nbextensions/nbextensions/autosavetime/main.js -> /anaconda3/share/jupyter/nbextensions/autosavetime/main.js\n",
      "[I 13:32:49 InstallContribNbextensionsApp] Copying: /anaconda3/lib/python3.6/site-packages/jupyter_contrib_nbextensions/nbextensions/autosavetime/README.md -> /anaconda3/share/jupyter/nbextensions/autosavetime/README.md\n",
      "[I 13:32:49 InstallContribNbextensionsApp] - Validating: \u001b[32mOK\u001b[0m\n",
      "[I 13:32:49 InstallContribNbextensionsApp] Installing /anaconda3/lib/python3.6/site-packages/jupyter_contrib_nbextensions/nbextensions/autoscroll -> autoscroll\n",
      "[I 13:32:49 InstallContribNbextensionsApp] Making directory: /anaconda3/share/jupyter/nbextensions/autoscroll/\n",
      "[I 13:32:49 InstallContribNbextensionsApp] Copying: /anaconda3/lib/python3.6/site-packages/jupyter_contrib_nbextensions/nbextensions/autoscroll/autoscroll.yaml -> /anaconda3/share/jupyter/nbextensions/autoscroll/autoscroll.yaml\n",
      "[I 13:32:49 InstallContribNbextensionsApp] Copying: /anaconda3/lib/python3.6/site-packages/jupyter_contrib_nbextensions/nbextensions/autoscroll/icon.png -> /anaconda3/share/jupyter/nbextensions/autoscroll/icon.png\n",
      "[I 13:32:49 InstallContribNbextensionsApp] Copying: /anaconda3/lib/python3.6/site-packages/jupyter_contrib_nbextensions/nbextensions/autoscroll/main.js -> /anaconda3/share/jupyter/nbextensions/autoscroll/main.js\n",
      "[I 13:32:49 InstallContribNbextensionsApp] Copying: /anaconda3/lib/python3.6/site-packages/jupyter_contrib_nbextensions/nbextensions/autoscroll/README.md -> /anaconda3/share/jupyter/nbextensions/autoscroll/README.md\n",
      "[I 13:32:49 InstallContribNbextensionsApp] - Validating: \u001b[32mOK\u001b[0m\n",
      "[I 13:32:49 InstallContribNbextensionsApp] Installing /anaconda3/lib/python3.6/site-packages/jupyter_contrib_nbextensions/nbextensions/code_font_size -> code_font_size\n",
      "[I 13:32:49 InstallContribNbextensionsApp] Making directory: /anaconda3/share/jupyter/nbextensions/code_font_size/\n",
      "[I 13:32:49 InstallContribNbextensionsApp] Copying: /anaconda3/lib/python3.6/site-packages/jupyter_contrib_nbextensions/nbextensions/code_font_size/code_font_size.js -> /anaconda3/share/jupyter/nbextensions/code_font_size/code_font_size.js\n",
      "[I 13:32:49 InstallContribNbextensionsApp] Copying: /anaconda3/lib/python3.6/site-packages/jupyter_contrib_nbextensions/nbextensions/code_font_size/code_font_size.yaml -> /anaconda3/share/jupyter/nbextensions/code_font_size/code_font_size.yaml\n",
      "[I 13:32:49 InstallContribNbextensionsApp] Copying: /anaconda3/lib/python3.6/site-packages/jupyter_contrib_nbextensions/nbextensions/code_font_size/README.md -> /anaconda3/share/jupyter/nbextensions/code_font_size/README.md\n",
      "[I 13:32:49 InstallContribNbextensionsApp] - Validating: \u001b[32mOK\u001b[0m\n",
      "[I 13:32:49 InstallContribNbextensionsApp] Installing /anaconda3/lib/python3.6/site-packages/jupyter_contrib_nbextensions/nbextensions/code_prettify -> code_prettify\n",
      "[I 13:32:49 InstallContribNbextensionsApp] Making directory: /anaconda3/share/jupyter/nbextensions/code_prettify/\n",
      "[I 13:32:49 InstallContribNbextensionsApp] Copying: /anaconda3/lib/python3.6/site-packages/jupyter_contrib_nbextensions/nbextensions/code_prettify/2to3.js -> /anaconda3/share/jupyter/nbextensions/code_prettify/2to3.js\n",
      "[I 13:32:49 InstallContribNbextensionsApp] Copying: /anaconda3/lib/python3.6/site-packages/jupyter_contrib_nbextensions/nbextensions/code_prettify/2to3.yaml -> /anaconda3/share/jupyter/nbextensions/code_prettify/2to3.yaml\n",
      "[I 13:32:49 InstallContribNbextensionsApp] Copying: /anaconda3/lib/python3.6/site-packages/jupyter_contrib_nbextensions/nbextensions/code_prettify/autopep8.js -> /anaconda3/share/jupyter/nbextensions/code_prettify/autopep8.js\n",
      "[I 13:32:49 InstallContribNbextensionsApp] Copying: /anaconda3/lib/python3.6/site-packages/jupyter_contrib_nbextensions/nbextensions/code_prettify/autopep8.yaml -> /anaconda3/share/jupyter/nbextensions/code_prettify/autopep8.yaml\n",
      "[I 13:32:49 InstallContribNbextensionsApp] Copying: /anaconda3/lib/python3.6/site-packages/jupyter_contrib_nbextensions/nbextensions/code_prettify/code_prettify.js -> /anaconda3/share/jupyter/nbextensions/code_prettify/code_prettify.js\n",
      "[I 13:32:49 InstallContribNbextensionsApp] Copying: /anaconda3/lib/python3.6/site-packages/jupyter_contrib_nbextensions/nbextensions/code_prettify/code_prettify.yaml -> /anaconda3/share/jupyter/nbextensions/code_prettify/code_prettify.yaml\n",
      "[I 13:32:49 InstallContribNbextensionsApp] Copying: /anaconda3/lib/python3.6/site-packages/jupyter_contrib_nbextensions/nbextensions/code_prettify/demo-jv.gif -> /anaconda3/share/jupyter/nbextensions/code_prettify/demo-jv.gif\n",
      "[I 13:32:49 InstallContribNbextensionsApp] Copying: /anaconda3/lib/python3.6/site-packages/jupyter_contrib_nbextensions/nbextensions/code_prettify/demo-py.gif -> /anaconda3/share/jupyter/nbextensions/code_prettify/demo-py.gif\n",
      "[I 13:32:49 InstallContribNbextensionsApp] Copying: /anaconda3/lib/python3.6/site-packages/jupyter_contrib_nbextensions/nbextensions/code_prettify/demo-R.gif -> /anaconda3/share/jupyter/nbextensions/code_prettify/demo-R.gif\n",
      "[I 13:32:49 InstallContribNbextensionsApp] Copying: /anaconda3/lib/python3.6/site-packages/jupyter_contrib_nbextensions/nbextensions/code_prettify/demo_2to3.gif -> /anaconda3/share/jupyter/nbextensions/code_prettify/demo_2to3.gif\n",
      "[I 13:32:49 InstallContribNbextensionsApp] Copying: /anaconda3/lib/python3.6/site-packages/jupyter_contrib_nbextensions/nbextensions/code_prettify/kernel_exec_on_cell.js -> /anaconda3/share/jupyter/nbextensions/code_prettify/kernel_exec_on_cell.js\n",
      "[I 13:32:49 InstallContribNbextensionsApp] Copying: /anaconda3/lib/python3.6/site-packages/jupyter_contrib_nbextensions/nbextensions/code_prettify/README.md -> /anaconda3/share/jupyter/nbextensions/code_prettify/README.md\n",
      "[I 13:32:49 InstallContribNbextensionsApp] Copying: /anaconda3/lib/python3.6/site-packages/jupyter_contrib_nbextensions/nbextensions/code_prettify/README_2to3.md -> /anaconda3/share/jupyter/nbextensions/code_prettify/README_2to3.md\n",
      "[I 13:32:49 InstallContribNbextensionsApp] Copying: /anaconda3/lib/python3.6/site-packages/jupyter_contrib_nbextensions/nbextensions/code_prettify/README_autopep8.md -> /anaconda3/share/jupyter/nbextensions/code_prettify/README_autopep8.md\n",
      "[I 13:32:49 InstallContribNbextensionsApp] Copying: /anaconda3/lib/python3.6/site-packages/jupyter_contrib_nbextensions/nbextensions/code_prettify/README_code_prettify.md -> /anaconda3/share/jupyter/nbextensions/code_prettify/README_code_prettify.md\n",
      "[I 13:32:49 InstallContribNbextensionsApp] - Validating: \u001b[32mOK\u001b[0m\n",
      "[I 13:32:49 InstallContribNbextensionsApp] Installing /anaconda3/lib/python3.6/site-packages/jupyter_contrib_nbextensions/nbextensions/code_prettify -> code_prettify\n",
      "[I 13:32:49 InstallContribNbextensionsApp] Up to date: /anaconda3/share/jupyter/nbextensions/code_prettify/2to3.js\n",
      "[I 13:32:49 InstallContribNbextensionsApp] Up to date: /anaconda3/share/jupyter/nbextensions/code_prettify/2to3.yaml\n",
      "[I 13:32:49 InstallContribNbextensionsApp] Up to date: /anaconda3/share/jupyter/nbextensions/code_prettify/autopep8.js\n",
      "[I 13:32:49 InstallContribNbextensionsApp] Up to date: /anaconda3/share/jupyter/nbextensions/code_prettify/autopep8.yaml\n",
      "[I 13:32:49 InstallContribNbextensionsApp] Up to date: /anaconda3/share/jupyter/nbextensions/code_prettify/code_prettify.js\n",
      "[I 13:32:49 InstallContribNbextensionsApp] Up to date: /anaconda3/share/jupyter/nbextensions/code_prettify/code_prettify.yaml\n",
      "[I 13:32:49 InstallContribNbextensionsApp] Up to date: /anaconda3/share/jupyter/nbextensions/code_prettify/demo-jv.gif\n",
      "[I 13:32:49 InstallContribNbextensionsApp] Up to date: /anaconda3/share/jupyter/nbextensions/code_prettify/demo-py.gif\n",
      "[I 13:32:49 InstallContribNbextensionsApp] Up to date: /anaconda3/share/jupyter/nbextensions/code_prettify/demo-R.gif\n",
      "[I 13:32:49 InstallContribNbextensionsApp] Up to date: /anaconda3/share/jupyter/nbextensions/code_prettify/demo_2to3.gif\n",
      "[I 13:32:49 InstallContribNbextensionsApp] Up to date: /anaconda3/share/jupyter/nbextensions/code_prettify/kernel_exec_on_cell.js\n",
      "[I 13:32:49 InstallContribNbextensionsApp] Up to date: /anaconda3/share/jupyter/nbextensions/code_prettify/README.md\n",
      "[I 13:32:49 InstallContribNbextensionsApp] Up to date: /anaconda3/share/jupyter/nbextensions/code_prettify/README_2to3.md\n",
      "[I 13:32:49 InstallContribNbextensionsApp] Up to date: /anaconda3/share/jupyter/nbextensions/code_prettify/README_autopep8.md\n",
      "[I 13:32:49 InstallContribNbextensionsApp] Up to date: /anaconda3/share/jupyter/nbextensions/code_prettify/README_code_prettify.md\n",
      "[I 13:32:49 InstallContribNbextensionsApp] - Validating: \u001b[32mOK\u001b[0m\n",
      "[I 13:32:49 InstallContribNbextensionsApp] Installing /anaconda3/lib/python3.6/site-packages/jupyter_contrib_nbextensions/nbextensions/code_prettify -> code_prettify\n",
      "[I 13:32:49 InstallContribNbextensionsApp] Up to date: /anaconda3/share/jupyter/nbextensions/code_prettify/2to3.js\n",
      "[I 13:32:49 InstallContribNbextensionsApp] Up to date: /anaconda3/share/jupyter/nbextensions/code_prettify/2to3.yaml\n",
      "[I 13:32:49 InstallContribNbextensionsApp] Up to date: /anaconda3/share/jupyter/nbextensions/code_prettify/autopep8.js\n",
      "[I 13:32:49 InstallContribNbextensionsApp] Up to date: /anaconda3/share/jupyter/nbextensions/code_prettify/autopep8.yaml\n",
      "[I 13:32:49 InstallContribNbextensionsApp] Up to date: /anaconda3/share/jupyter/nbextensions/code_prettify/code_prettify.js\n",
      "[I 13:32:49 InstallContribNbextensionsApp] Up to date: /anaconda3/share/jupyter/nbextensions/code_prettify/code_prettify.yaml\n",
      "[I 13:32:49 InstallContribNbextensionsApp] Up to date: /anaconda3/share/jupyter/nbextensions/code_prettify/demo-jv.gif\n",
      "[I 13:32:49 InstallContribNbextensionsApp] Up to date: /anaconda3/share/jupyter/nbextensions/code_prettify/demo-py.gif\n",
      "[I 13:32:49 InstallContribNbextensionsApp] Up to date: /anaconda3/share/jupyter/nbextensions/code_prettify/demo-R.gif\n",
      "[I 13:32:49 InstallContribNbextensionsApp] Up to date: /anaconda3/share/jupyter/nbextensions/code_prettify/demo_2to3.gif\n",
      "[I 13:32:49 InstallContribNbextensionsApp] Up to date: /anaconda3/share/jupyter/nbextensions/code_prettify/kernel_exec_on_cell.js\n",
      "[I 13:32:49 InstallContribNbextensionsApp] Up to date: /anaconda3/share/jupyter/nbextensions/code_prettify/README.md\n",
      "[I 13:32:49 InstallContribNbextensionsApp] Up to date: /anaconda3/share/jupyter/nbextensions/code_prettify/README_2to3.md\n",
      "[I 13:32:49 InstallContribNbextensionsApp] Up to date: /anaconda3/share/jupyter/nbextensions/code_prettify/README_autopep8.md\n",
      "[I 13:32:49 InstallContribNbextensionsApp] Up to date: /anaconda3/share/jupyter/nbextensions/code_prettify/README_code_prettify.md\n",
      "[I 13:32:49 InstallContribNbextensionsApp] - Validating: \u001b[32mOK\u001b[0m\n",
      "[I 13:32:49 InstallContribNbextensionsApp] Installing /anaconda3/lib/python3.6/site-packages/jupyter_contrib_nbextensions/nbextensions/codefolding -> codefolding\n",
      "[I 13:32:49 InstallContribNbextensionsApp] Making directory: /anaconda3/share/jupyter/nbextensions/codefolding/\n",
      "[I 13:32:49 InstallContribNbextensionsApp] Copying: /anaconda3/lib/python3.6/site-packages/jupyter_contrib_nbextensions/nbextensions/codefolding/codefolding.yaml -> /anaconda3/share/jupyter/nbextensions/codefolding/codefolding.yaml\n",
      "[I 13:32:49 InstallContribNbextensionsApp] Copying: /anaconda3/lib/python3.6/site-packages/jupyter_contrib_nbextensions/nbextensions/codefolding/codefolding_editor.png -> /anaconda3/share/jupyter/nbextensions/codefolding/codefolding_editor.png\n",
      "[I 13:32:49 InstallContribNbextensionsApp] Copying: /anaconda3/lib/python3.6/site-packages/jupyter_contrib_nbextensions/nbextensions/codefolding/codefolding_editor.yaml -> /anaconda3/share/jupyter/nbextensions/codefolding/codefolding_editor.yaml\n",
      "[I 13:32:49 InstallContribNbextensionsApp] Copying: /anaconda3/lib/python3.6/site-packages/jupyter_contrib_nbextensions/nbextensions/codefolding/codefolding_firstline_folded.png -> /anaconda3/share/jupyter/nbextensions/codefolding/codefolding_firstline_folded.png\n",
      "[I 13:32:49 InstallContribNbextensionsApp] Copying: /anaconda3/lib/python3.6/site-packages/jupyter_contrib_nbextensions/nbextensions/codefolding/codefolding_firstline_unfolded.png -> /anaconda3/share/jupyter/nbextensions/codefolding/codefolding_firstline_unfolded.png\n",
      "[I 13:32:49 InstallContribNbextensionsApp] Copying: /anaconda3/lib/python3.6/site-packages/jupyter_contrib_nbextensions/nbextensions/codefolding/codefolding_indent_folded_1.png -> /anaconda3/share/jupyter/nbextensions/codefolding/codefolding_indent_folded_1.png\n",
      "[I 13:32:49 InstallContribNbextensionsApp] Copying: /anaconda3/lib/python3.6/site-packages/jupyter_contrib_nbextensions/nbextensions/codefolding/codefolding_indent_folded_2.png -> /anaconda3/share/jupyter/nbextensions/codefolding/codefolding_indent_folded_2.png\n",
      "[I 13:32:49 InstallContribNbextensionsApp] Copying: /anaconda3/lib/python3.6/site-packages/jupyter_contrib_nbextensions/nbextensions/codefolding/codefolding_indent_unfolded.png -> /anaconda3/share/jupyter/nbextensions/codefolding/codefolding_indent_unfolded.png\n",
      "[I 13:32:49 InstallContribNbextensionsApp] Copying: /anaconda3/lib/python3.6/site-packages/jupyter_contrib_nbextensions/nbextensions/codefolding/edit.js -> /anaconda3/share/jupyter/nbextensions/codefolding/edit.js\n",
      "[I 13:32:49 InstallContribNbextensionsApp] Copying: /anaconda3/lib/python3.6/site-packages/jupyter_contrib_nbextensions/nbextensions/codefolding/firstline-fold.js -> /anaconda3/share/jupyter/nbextensions/codefolding/firstline-fold.js\n",
      "[I 13:32:49 InstallContribNbextensionsApp] Copying: /anaconda3/lib/python3.6/site-packages/jupyter_contrib_nbextensions/nbextensions/codefolding/foldgutter.css -> /anaconda3/share/jupyter/nbextensions/codefolding/foldgutter.css\n",
      "[I 13:32:49 InstallContribNbextensionsApp] Copying: /anaconda3/lib/python3.6/site-packages/jupyter_contrib_nbextensions/nbextensions/codefolding/icon.png -> /anaconda3/share/jupyter/nbextensions/codefolding/icon.png\n",
      "[I 13:32:49 InstallContribNbextensionsApp] Copying: /anaconda3/lib/python3.6/site-packages/jupyter_contrib_nbextensions/nbextensions/codefolding/magic-fold.js -> /anaconda3/share/jupyter/nbextensions/codefolding/magic-fold.js\n",
      "[I 13:32:49 InstallContribNbextensionsApp] Copying: /anaconda3/lib/python3.6/site-packages/jupyter_contrib_nbextensions/nbextensions/codefolding/magic-folded.png -> /anaconda3/share/jupyter/nbextensions/codefolding/magic-folded.png\n",
      "[I 13:32:49 InstallContribNbextensionsApp] Copying: /anaconda3/lib/python3.6/site-packages/jupyter_contrib_nbextensions/nbextensions/codefolding/magic-unfolded.png -> /anaconda3/share/jupyter/nbextensions/codefolding/magic-unfolded.png\n",
      "[I 13:32:49 InstallContribNbextensionsApp] Copying: /anaconda3/lib/python3.6/site-packages/jupyter_contrib_nbextensions/nbextensions/codefolding/main.js -> /anaconda3/share/jupyter/nbextensions/codefolding/main.js\n",
      "[I 13:32:49 InstallContribNbextensionsApp] Copying: /anaconda3/lib/python3.6/site-packages/jupyter_contrib_nbextensions/nbextensions/codefolding/readme.md -> /anaconda3/share/jupyter/nbextensions/codefolding/readme.md\n",
      "[I 13:32:49 InstallContribNbextensionsApp] - Validating: \u001b[32mOK\u001b[0m\n",
      "[I 13:32:49 InstallContribNbextensionsApp] Installing /anaconda3/lib/python3.6/site-packages/jupyter_contrib_nbextensions/nbextensions/codefolding -> codefolding\n",
      "[I 13:32:49 InstallContribNbextensionsApp] Up to date: /anaconda3/share/jupyter/nbextensions/codefolding/codefolding.yaml\n",
      "[I 13:32:49 InstallContribNbextensionsApp] Up to date: /anaconda3/share/jupyter/nbextensions/codefolding/codefolding_editor.png\n",
      "[I 13:32:49 InstallContribNbextensionsApp] Up to date: /anaconda3/share/jupyter/nbextensions/codefolding/codefolding_editor.yaml\n",
      "[I 13:32:49 InstallContribNbextensionsApp] Up to date: /anaconda3/share/jupyter/nbextensions/codefolding/codefolding_firstline_folded.png\n",
      "[I 13:32:49 InstallContribNbextensionsApp] Up to date: /anaconda3/share/jupyter/nbextensions/codefolding/codefolding_firstline_unfolded.png\n",
      "[I 13:32:49 InstallContribNbextensionsApp] Up to date: /anaconda3/share/jupyter/nbextensions/codefolding/codefolding_indent_folded_1.png\n",
      "[I 13:32:49 InstallContribNbextensionsApp] Up to date: /anaconda3/share/jupyter/nbextensions/codefolding/codefolding_indent_folded_2.png\n",
      "[I 13:32:49 InstallContribNbextensionsApp] Up to date: /anaconda3/share/jupyter/nbextensions/codefolding/codefolding_indent_unfolded.png\n",
      "[I 13:32:49 InstallContribNbextensionsApp] Up to date: /anaconda3/share/jupyter/nbextensions/codefolding/edit.js\n",
      "[I 13:32:49 InstallContribNbextensionsApp] Up to date: /anaconda3/share/jupyter/nbextensions/codefolding/firstline-fold.js\n",
      "[I 13:32:49 InstallContribNbextensionsApp] Up to date: /anaconda3/share/jupyter/nbextensions/codefolding/foldgutter.css\n",
      "[I 13:32:49 InstallContribNbextensionsApp] Up to date: /anaconda3/share/jupyter/nbextensions/codefolding/icon.png\n",
      "[I 13:32:49 InstallContribNbextensionsApp] Up to date: /anaconda3/share/jupyter/nbextensions/codefolding/magic-fold.js\n",
      "[I 13:32:49 InstallContribNbextensionsApp] Up to date: /anaconda3/share/jupyter/nbextensions/codefolding/magic-folded.png\n",
      "[I 13:32:49 InstallContribNbextensionsApp] Up to date: /anaconda3/share/jupyter/nbextensions/codefolding/magic-unfolded.png\n",
      "[I 13:32:49 InstallContribNbextensionsApp] Up to date: /anaconda3/share/jupyter/nbextensions/codefolding/main.js\n",
      "[I 13:32:49 InstallContribNbextensionsApp] Up to date: /anaconda3/share/jupyter/nbextensions/codefolding/readme.md\n",
      "[I 13:32:49 InstallContribNbextensionsApp] - Validating: \u001b[32mOK\u001b[0m\n",
      "[I 13:32:49 InstallContribNbextensionsApp] Installing /anaconda3/lib/python3.6/site-packages/jupyter_contrib_nbextensions/nbextensions/codemirror_mode_extensions -> codemirror_mode_extensions\n",
      "[I 13:32:49 InstallContribNbextensionsApp] Making directory: /anaconda3/share/jupyter/nbextensions/codemirror_mode_extensions/\n",
      "[I 13:32:49 InstallContribNbextensionsApp] Copying: /anaconda3/lib/python3.6/site-packages/jupyter_contrib_nbextensions/nbextensions/codemirror_mode_extensions/codemirror_mode_extensions.yaml -> /anaconda3/share/jupyter/nbextensions/codemirror_mode_extensions/codemirror_mode_extensions.yaml\n",
      "[I 13:32:49 InstallContribNbextensionsApp] Copying: /anaconda3/lib/python3.6/site-packages/jupyter_contrib_nbextensions/nbextensions/codemirror_mode_extensions/main.js -> /anaconda3/share/jupyter/nbextensions/codemirror_mode_extensions/main.js\n",
      "[I 13:32:49 InstallContribNbextensionsApp] - Validating: \u001b[32mOK\u001b[0m\n",
      "[I 13:32:49 InstallContribNbextensionsApp] Installing /anaconda3/lib/python3.6/site-packages/jupyter_contrib_nbextensions/nbextensions/collapsible_headings -> collapsible_headings\n",
      "[I 13:32:49 InstallContribNbextensionsApp] Making directory: /anaconda3/share/jupyter/nbextensions/collapsible_headings/\n",
      "[I 13:32:49 InstallContribNbextensionsApp] Copying: /anaconda3/lib/python3.6/site-packages/jupyter_contrib_nbextensions/nbextensions/collapsible_headings/collapsible_headings.yaml -> /anaconda3/share/jupyter/nbextensions/collapsible_headings/collapsible_headings.yaml\n",
      "[I 13:32:49 InstallContribNbextensionsApp] Copying: /anaconda3/lib/python3.6/site-packages/jupyter_contrib_nbextensions/nbextensions/collapsible_headings/icon.png -> /anaconda3/share/jupyter/nbextensions/collapsible_headings/icon.png\n",
      "[I 13:32:49 InstallContribNbextensionsApp] Copying: /anaconda3/lib/python3.6/site-packages/jupyter_contrib_nbextensions/nbextensions/collapsible_headings/main.css -> /anaconda3/share/jupyter/nbextensions/collapsible_headings/main.css\n",
      "[I 13:32:49 InstallContribNbextensionsApp] Copying: /anaconda3/lib/python3.6/site-packages/jupyter_contrib_nbextensions/nbextensions/collapsible_headings/main.js -> /anaconda3/share/jupyter/nbextensions/collapsible_headings/main.js\n",
      "[I 13:32:49 InstallContribNbextensionsApp] Copying: /anaconda3/lib/python3.6/site-packages/jupyter_contrib_nbextensions/nbextensions/collapsible_headings/readme.md -> /anaconda3/share/jupyter/nbextensions/collapsible_headings/readme.md\n",
      "[I 13:32:49 InstallContribNbextensionsApp] Copying: /anaconda3/lib/python3.6/site-packages/jupyter_contrib_nbextensions/nbextensions/collapsible_headings/screenshot.png -> /anaconda3/share/jupyter/nbextensions/collapsible_headings/screenshot.png\n",
      "[I 13:32:49 InstallContribNbextensionsApp] - Validating: \u001b[32mOK\u001b[0m\n",
      "[I 13:32:49 InstallContribNbextensionsApp] Installing /anaconda3/lib/python3.6/site-packages/jupyter_contrib_nbextensions/nbextensions/comment-uncomment -> comment-uncomment\n",
      "[I 13:32:49 InstallContribNbextensionsApp] Making directory: /anaconda3/share/jupyter/nbextensions/comment-uncomment/\n",
      "[I 13:32:49 InstallContribNbextensionsApp] Copying: /anaconda3/lib/python3.6/site-packages/jupyter_contrib_nbextensions/nbextensions/comment-uncomment/comment-uncomment.yaml -> /anaconda3/share/jupyter/nbextensions/comment-uncomment/comment-uncomment.yaml\n",
      "[I 13:32:49 InstallContribNbextensionsApp] Copying: /anaconda3/lib/python3.6/site-packages/jupyter_contrib_nbextensions/nbextensions/comment-uncomment/icon.png -> /anaconda3/share/jupyter/nbextensions/comment-uncomment/icon.png\n",
      "[I 13:32:49 InstallContribNbextensionsApp] Copying: /anaconda3/lib/python3.6/site-packages/jupyter_contrib_nbextensions/nbextensions/comment-uncomment/main.js -> /anaconda3/share/jupyter/nbextensions/comment-uncomment/main.js\n",
      "[I 13:32:49 InstallContribNbextensionsApp] Copying: /anaconda3/lib/python3.6/site-packages/jupyter_contrib_nbextensions/nbextensions/comment-uncomment/readme.md -> /anaconda3/share/jupyter/nbextensions/comment-uncomment/readme.md\n",
      "[I 13:32:49 InstallContribNbextensionsApp] - Validating: \u001b[32mOK\u001b[0m\n",
      "[I 13:32:49 InstallContribNbextensionsApp] Installing /anaconda3/lib/python3.6/site-packages/jupyter_contrib_nbextensions/nbextensions/contrib_nbextensions_help_item -> contrib_nbextensions_help_item\n",
      "[I 13:32:49 InstallContribNbextensionsApp] Making directory: /anaconda3/share/jupyter/nbextensions/contrib_nbextensions_help_item/\n",
      "[I 13:32:49 InstallContribNbextensionsApp] Copying: /anaconda3/lib/python3.6/site-packages/jupyter_contrib_nbextensions/nbextensions/contrib_nbextensions_help_item/contrib_nbextensions_help_item.yaml -> /anaconda3/share/jupyter/nbextensions/contrib_nbextensions_help_item/contrib_nbextensions_help_item.yaml\n",
      "[I 13:32:49 InstallContribNbextensionsApp] Copying: /anaconda3/lib/python3.6/site-packages/jupyter_contrib_nbextensions/nbextensions/contrib_nbextensions_help_item/main.js -> /anaconda3/share/jupyter/nbextensions/contrib_nbextensions_help_item/main.js\n",
      "[I 13:32:49 InstallContribNbextensionsApp] Copying: /anaconda3/lib/python3.6/site-packages/jupyter_contrib_nbextensions/nbextensions/contrib_nbextensions_help_item/README.md -> /anaconda3/share/jupyter/nbextensions/contrib_nbextensions_help_item/README.md\n",
      "[I 13:32:49 InstallContribNbextensionsApp] - Validating: \u001b[32mOK\u001b[0m\n",
      "[I 13:32:49 InstallContribNbextensionsApp] Installing /anaconda3/lib/python3.6/site-packages/jupyter_contrib_nbextensions/nbextensions/datestamper -> datestamper\n",
      "[I 13:32:49 InstallContribNbextensionsApp] Making directory: /anaconda3/share/jupyter/nbextensions/datestamper/\n",
      "[I 13:32:49 InstallContribNbextensionsApp] Copying: /anaconda3/lib/python3.6/site-packages/jupyter_contrib_nbextensions/nbextensions/datestamper/icon.png -> /anaconda3/share/jupyter/nbextensions/datestamper/icon.png\n",
      "[I 13:32:49 InstallContribNbextensionsApp] Copying: /anaconda3/lib/python3.6/site-packages/jupyter_contrib_nbextensions/nbextensions/datestamper/main.js -> /anaconda3/share/jupyter/nbextensions/datestamper/main.js\n",
      "[I 13:32:49 InstallContribNbextensionsApp] Copying: /anaconda3/lib/python3.6/site-packages/jupyter_contrib_nbextensions/nbextensions/datestamper/main.yaml -> /anaconda3/share/jupyter/nbextensions/datestamper/main.yaml\n",
      "[I 13:32:49 InstallContribNbextensionsApp] Copying: /anaconda3/lib/python3.6/site-packages/jupyter_contrib_nbextensions/nbextensions/datestamper/readme.md -> /anaconda3/share/jupyter/nbextensions/datestamper/readme.md\n",
      "[I 13:32:49 InstallContribNbextensionsApp] - Validating: \u001b[32mOK\u001b[0m\n",
      "[I 13:32:49 InstallContribNbextensionsApp] Installing /anaconda3/lib/python3.6/site-packages/jupyter_contrib_nbextensions/nbextensions/equation-numbering -> equation-numbering\n",
      "[I 13:32:49 InstallContribNbextensionsApp] Making directory: /anaconda3/share/jupyter/nbextensions/equation-numbering/\n",
      "[I 13:32:49 InstallContribNbextensionsApp] Copying: /anaconda3/lib/python3.6/site-packages/jupyter_contrib_nbextensions/nbextensions/equation-numbering/button.png -> /anaconda3/share/jupyter/nbextensions/equation-numbering/button.png\n",
      "[I 13:32:49 InstallContribNbextensionsApp] Copying: /anaconda3/lib/python3.6/site-packages/jupyter_contrib_nbextensions/nbextensions/equation-numbering/icon.png -> /anaconda3/share/jupyter/nbextensions/equation-numbering/icon.png\n",
      "[I 13:32:49 InstallContribNbextensionsApp] Copying: /anaconda3/lib/python3.6/site-packages/jupyter_contrib_nbextensions/nbextensions/equation-numbering/info.yaml -> /anaconda3/share/jupyter/nbextensions/equation-numbering/info.yaml\n",
      "[I 13:32:49 InstallContribNbextensionsApp] Copying: /anaconda3/lib/python3.6/site-packages/jupyter_contrib_nbextensions/nbextensions/equation-numbering/main.js -> /anaconda3/share/jupyter/nbextensions/equation-numbering/main.js\n",
      "[I 13:32:49 InstallContribNbextensionsApp] Copying: /anaconda3/lib/python3.6/site-packages/jupyter_contrib_nbextensions/nbextensions/equation-numbering/readme.md -> /anaconda3/share/jupyter/nbextensions/equation-numbering/readme.md\n",
      "[I 13:32:49 InstallContribNbextensionsApp] - Validating: \u001b[32mOK\u001b[0m\n",
      "[I 13:32:49 InstallContribNbextensionsApp] Installing /anaconda3/lib/python3.6/site-packages/jupyter_contrib_nbextensions/nbextensions/execute_time -> execute_time\n",
      "[I 13:32:49 InstallContribNbextensionsApp] Making directory: /anaconda3/share/jupyter/nbextensions/execute_time/\n",
      "[I 13:32:49 InstallContribNbextensionsApp] Copying: /anaconda3/lib/python3.6/site-packages/jupyter_contrib_nbextensions/nbextensions/execute_time/ExecuteTime.css -> /anaconda3/share/jupyter/nbextensions/execute_time/ExecuteTime.css\n",
      "[I 13:32:49 InstallContribNbextensionsApp] Copying: /anaconda3/lib/python3.6/site-packages/jupyter_contrib_nbextensions/nbextensions/execute_time/ExecuteTime.js -> /anaconda3/share/jupyter/nbextensions/execute_time/ExecuteTime.js\n",
      "[I 13:32:49 InstallContribNbextensionsApp] Copying: /anaconda3/lib/python3.6/site-packages/jupyter_contrib_nbextensions/nbextensions/execute_time/ExecuteTime.yaml -> /anaconda3/share/jupyter/nbextensions/execute_time/ExecuteTime.yaml\n",
      "[I 13:32:49 InstallContribNbextensionsApp] Copying: /anaconda3/lib/python3.6/site-packages/jupyter_contrib_nbextensions/nbextensions/execute_time/execution-timings-box.png -> /anaconda3/share/jupyter/nbextensions/execute_time/execution-timings-box.png\n",
      "[I 13:32:49 InstallContribNbextensionsApp] Copying: /anaconda3/lib/python3.6/site-packages/jupyter_contrib_nbextensions/nbextensions/execute_time/execution-timings-menu.png -> /anaconda3/share/jupyter/nbextensions/execute_time/execution-timings-menu.png\n",
      "[I 13:32:49 InstallContribNbextensionsApp] Copying: /anaconda3/lib/python3.6/site-packages/jupyter_contrib_nbextensions/nbextensions/execute_time/icon.png -> /anaconda3/share/jupyter/nbextensions/execute_time/icon.png\n",
      "[I 13:32:49 InstallContribNbextensionsApp] Copying: /anaconda3/lib/python3.6/site-packages/jupyter_contrib_nbextensions/nbextensions/execute_time/readme.md -> /anaconda3/share/jupyter/nbextensions/execute_time/readme.md\n",
      "[I 13:32:49 InstallContribNbextensionsApp] - Validating: \u001b[32mOK\u001b[0m\n",
      "[I 13:32:49 InstallContribNbextensionsApp] Installing /anaconda3/lib/python3.6/site-packages/jupyter_contrib_nbextensions/nbextensions/exercise -> exercise\n",
      "[I 13:32:49 InstallContribNbextensionsApp] Making directory: /anaconda3/share/jupyter/nbextensions/exercise/\n",
      "[I 13:32:49 InstallContribNbextensionsApp] Copying: /anaconda3/lib/python3.6/site-packages/jupyter_contrib_nbextensions/nbextensions/exercise/exercise.yaml -> /anaconda3/share/jupyter/nbextensions/exercise/exercise.yaml\n",
      "[I 13:32:49 InstallContribNbextensionsApp] Copying: /anaconda3/lib/python3.6/site-packages/jupyter_contrib_nbextensions/nbextensions/exercise/history.md -> /anaconda3/share/jupyter/nbextensions/exercise/history.md\n",
      "[I 13:32:49 InstallContribNbextensionsApp] Copying: /anaconda3/lib/python3.6/site-packages/jupyter_contrib_nbextensions/nbextensions/exercise/icon.png -> /anaconda3/share/jupyter/nbextensions/exercise/icon.png\n",
      "[I 13:32:49 InstallContribNbextensionsApp] Copying: /anaconda3/lib/python3.6/site-packages/jupyter_contrib_nbextensions/nbextensions/exercise/image.gif -> /anaconda3/share/jupyter/nbextensions/exercise/image.gif\n",
      "[I 13:32:49 InstallContribNbextensionsApp] Copying: /anaconda3/lib/python3.6/site-packages/jupyter_contrib_nbextensions/nbextensions/exercise/main.css -> /anaconda3/share/jupyter/nbextensions/exercise/main.css\n",
      "[I 13:32:49 InstallContribNbextensionsApp] Copying: /anaconda3/lib/python3.6/site-packages/jupyter_contrib_nbextensions/nbextensions/exercise/main.js -> /anaconda3/share/jupyter/nbextensions/exercise/main.js\n",
      "[I 13:32:49 InstallContribNbextensionsApp] Copying: /anaconda3/lib/python3.6/site-packages/jupyter_contrib_nbextensions/nbextensions/exercise/readme.md -> /anaconda3/share/jupyter/nbextensions/exercise/readme.md\n",
      "[I 13:32:49 InstallContribNbextensionsApp] - Validating: \u001b[32mOK\u001b[0m\n",
      "[I 13:32:49 InstallContribNbextensionsApp] Installing /anaconda3/lib/python3.6/site-packages/jupyter_contrib_nbextensions/nbextensions/exercise2 -> exercise2\n",
      "[I 13:32:49 InstallContribNbextensionsApp] Making directory: /anaconda3/share/jupyter/nbextensions/exercise2/\n",
      "[I 13:32:49 InstallContribNbextensionsApp] Copying: /anaconda3/lib/python3.6/site-packages/jupyter_contrib_nbextensions/nbextensions/exercise2/exercise2.yaml -> /anaconda3/share/jupyter/nbextensions/exercise2/exercise2.yaml\n",
      "[I 13:32:49 InstallContribNbextensionsApp] Copying: /anaconda3/lib/python3.6/site-packages/jupyter_contrib_nbextensions/nbextensions/exercise2/icon.png -> /anaconda3/share/jupyter/nbextensions/exercise2/icon.png\n",
      "[I 13:32:49 InstallContribNbextensionsApp] Copying: /anaconda3/lib/python3.6/site-packages/jupyter_contrib_nbextensions/nbextensions/exercise2/image.gif -> /anaconda3/share/jupyter/nbextensions/exercise2/image.gif\n",
      "[I 13:32:49 InstallContribNbextensionsApp] Copying: /anaconda3/lib/python3.6/site-packages/jupyter_contrib_nbextensions/nbextensions/exercise2/main.css -> /anaconda3/share/jupyter/nbextensions/exercise2/main.css\n",
      "[I 13:32:49 InstallContribNbextensionsApp] Copying: /anaconda3/lib/python3.6/site-packages/jupyter_contrib_nbextensions/nbextensions/exercise2/main.js -> /anaconda3/share/jupyter/nbextensions/exercise2/main.js\n",
      "[I 13:32:49 InstallContribNbextensionsApp] Copying: /anaconda3/lib/python3.6/site-packages/jupyter_contrib_nbextensions/nbextensions/exercise2/readme.md -> /anaconda3/share/jupyter/nbextensions/exercise2/readme.md\n",
      "[I 13:32:49 InstallContribNbextensionsApp] - Validating: \u001b[32mOK\u001b[0m\n",
      "[I 13:32:49 InstallContribNbextensionsApp] Installing /anaconda3/lib/python3.6/site-packages/jupyter_contrib_nbextensions/nbextensions/export_embedded -> export_embedded\n",
      "[I 13:32:49 InstallContribNbextensionsApp] Making directory: /anaconda3/share/jupyter/nbextensions/export_embedded/\n",
      "[I 13:32:49 InstallContribNbextensionsApp] Copying: /anaconda3/lib/python3.6/site-packages/jupyter_contrib_nbextensions/nbextensions/export_embedded/export_embedded.yaml -> /anaconda3/share/jupyter/nbextensions/export_embedded/export_embedded.yaml\n",
      "[I 13:32:49 InstallContribNbextensionsApp] Copying: /anaconda3/lib/python3.6/site-packages/jupyter_contrib_nbextensions/nbextensions/export_embedded/icon.png -> /anaconda3/share/jupyter/nbextensions/export_embedded/icon.png\n",
      "[I 13:32:49 InstallContribNbextensionsApp] Copying: /anaconda3/lib/python3.6/site-packages/jupyter_contrib_nbextensions/nbextensions/export_embedded/main.js -> /anaconda3/share/jupyter/nbextensions/export_embedded/main.js\n",
      "[I 13:32:49 InstallContribNbextensionsApp] Copying: /anaconda3/lib/python3.6/site-packages/jupyter_contrib_nbextensions/nbextensions/export_embedded/readme.md -> /anaconda3/share/jupyter/nbextensions/export_embedded/readme.md\n",
      "[I 13:32:49 InstallContribNbextensionsApp] - Validating: \u001b[32mOK\u001b[0m\n",
      "[I 13:32:49 InstallContribNbextensionsApp] Installing /anaconda3/lib/python3.6/site-packages/jupyter_contrib_nbextensions/nbextensions/freeze -> freeze\n",
      "[I 13:32:49 InstallContribNbextensionsApp] Making directory: /anaconda3/share/jupyter/nbextensions/freeze/\n",
      "[I 13:32:49 InstallContribNbextensionsApp] Copying: /anaconda3/lib/python3.6/site-packages/jupyter_contrib_nbextensions/nbextensions/freeze/config.yaml -> /anaconda3/share/jupyter/nbextensions/freeze/config.yaml\n",
      "[I 13:32:49 InstallContribNbextensionsApp] Copying: /anaconda3/lib/python3.6/site-packages/jupyter_contrib_nbextensions/nbextensions/freeze/icon.png -> /anaconda3/share/jupyter/nbextensions/freeze/icon.png\n",
      "[I 13:32:49 InstallContribNbextensionsApp] Copying: /anaconda3/lib/python3.6/site-packages/jupyter_contrib_nbextensions/nbextensions/freeze/main.js -> /anaconda3/share/jupyter/nbextensions/freeze/main.js\n",
      "[I 13:32:49 InstallContribNbextensionsApp] Copying: /anaconda3/lib/python3.6/site-packages/jupyter_contrib_nbextensions/nbextensions/freeze/readme.md -> /anaconda3/share/jupyter/nbextensions/freeze/readme.md\n",
      "[I 13:32:49 InstallContribNbextensionsApp] - Validating: \u001b[32mOK\u001b[0m\n",
      "[I 13:32:49 InstallContribNbextensionsApp] Installing /anaconda3/lib/python3.6/site-packages/jupyter_contrib_nbextensions/nbextensions/gist_it -> gist_it\n",
      "[I 13:32:49 InstallContribNbextensionsApp] Making directory: /anaconda3/share/jupyter/nbextensions/gist_it/\n",
      "[I 13:32:49 InstallContribNbextensionsApp] Copying: /anaconda3/lib/python3.6/site-packages/jupyter_contrib_nbextensions/nbextensions/gist_it/gist_it.yaml -> /anaconda3/share/jupyter/nbextensions/gist_it/gist_it.yaml\n",
      "[I 13:32:49 InstallContribNbextensionsApp] Copying: /anaconda3/lib/python3.6/site-packages/jupyter_contrib_nbextensions/nbextensions/gist_it/icon.png -> /anaconda3/share/jupyter/nbextensions/gist_it/icon.png\n",
      "[I 13:32:49 InstallContribNbextensionsApp] Copying: /anaconda3/lib/python3.6/site-packages/jupyter_contrib_nbextensions/nbextensions/gist_it/main.js -> /anaconda3/share/jupyter/nbextensions/gist_it/main.js\n",
      "[I 13:32:49 InstallContribNbextensionsApp] Copying: /anaconda3/lib/python3.6/site-packages/jupyter_contrib_nbextensions/nbextensions/gist_it/readme.md -> /anaconda3/share/jupyter/nbextensions/gist_it/readme.md\n",
      "[I 13:32:49 InstallContribNbextensionsApp] - Validating: \u001b[32mOK\u001b[0m\n",
      "[I 13:32:49 InstallContribNbextensionsApp] Installing /anaconda3/lib/python3.6/site-packages/jupyter_contrib_nbextensions/nbextensions/help_panel -> help_panel\n",
      "[I 13:32:49 InstallContribNbextensionsApp] Making directory: /anaconda3/share/jupyter/nbextensions/help_panel/\n",
      "[I 13:32:49 InstallContribNbextensionsApp] Copying: /anaconda3/lib/python3.6/site-packages/jupyter_contrib_nbextensions/nbextensions/help_panel/help_panel.css -> /anaconda3/share/jupyter/nbextensions/help_panel/help_panel.css\n",
      "[I 13:32:49 InstallContribNbextensionsApp] Copying: /anaconda3/lib/python3.6/site-packages/jupyter_contrib_nbextensions/nbextensions/help_panel/help_panel.js -> /anaconda3/share/jupyter/nbextensions/help_panel/help_panel.js\n",
      "[I 13:32:49 InstallContribNbextensionsApp] Copying: /anaconda3/lib/python3.6/site-packages/jupyter_contrib_nbextensions/nbextensions/help_panel/help_panel.yaml -> /anaconda3/share/jupyter/nbextensions/help_panel/help_panel.yaml\n",
      "[I 13:32:49 InstallContribNbextensionsApp] Copying: /anaconda3/lib/python3.6/site-packages/jupyter_contrib_nbextensions/nbextensions/help_panel/help_panel_ext.png -> /anaconda3/share/jupyter/nbextensions/help_panel/help_panel_ext.png\n",
      "[I 13:32:49 InstallContribNbextensionsApp] Copying: /anaconda3/lib/python3.6/site-packages/jupyter_contrib_nbextensions/nbextensions/help_panel/help_panel_ext_fullscreen.png -> /anaconda3/share/jupyter/nbextensions/help_panel/help_panel_ext_fullscreen.png\n",
      "[I 13:32:49 InstallContribNbextensionsApp] Copying: /anaconda3/lib/python3.6/site-packages/jupyter_contrib_nbextensions/nbextensions/help_panel/icon.png -> /anaconda3/share/jupyter/nbextensions/help_panel/icon.png\n",
      "[I 13:32:49 InstallContribNbextensionsApp] Copying: /anaconda3/lib/python3.6/site-packages/jupyter_contrib_nbextensions/nbextensions/help_panel/readme.md -> /anaconda3/share/jupyter/nbextensions/help_panel/readme.md\n",
      "[I 13:32:49 InstallContribNbextensionsApp] Making directory: /anaconda3/share/jupyter/nbextensions/help_panel/img\n",
      "[I 13:32:49 InstallContribNbextensionsApp] Copying: /anaconda3/lib/python3.6/site-packages/jupyter_contrib_nbextensions/nbextensions/help_panel/img/handle-v.png -> /anaconda3/share/jupyter/nbextensions/help_panel/img/handle-v.png\n",
      "[I 13:32:49 InstallContribNbextensionsApp] - Validating: \u001b[32mOK\u001b[0m\n",
      "[I 13:32:49 InstallContribNbextensionsApp] Installing /anaconda3/lib/python3.6/site-packages/jupyter_contrib_nbextensions/nbextensions/hide_header -> hide_header\n",
      "[I 13:32:49 InstallContribNbextensionsApp] Making directory: /anaconda3/share/jupyter/nbextensions/hide_header/\n",
      "[I 13:32:49 InstallContribNbextensionsApp] Copying: /anaconda3/lib/python3.6/site-packages/jupyter_contrib_nbextensions/nbextensions/hide_header/hide_header.yaml -> /anaconda3/share/jupyter/nbextensions/hide_header/hide_header.yaml\n",
      "[I 13:32:49 InstallContribNbextensionsApp] Copying: /anaconda3/lib/python3.6/site-packages/jupyter_contrib_nbextensions/nbextensions/hide_header/main.js -> /anaconda3/share/jupyter/nbextensions/hide_header/main.js\n",
      "[I 13:32:49 InstallContribNbextensionsApp] Copying: /anaconda3/lib/python3.6/site-packages/jupyter_contrib_nbextensions/nbextensions/hide_header/README.md -> /anaconda3/share/jupyter/nbextensions/hide_header/README.md\n",
      "[I 13:32:49 InstallContribNbextensionsApp] - Validating: \u001b[32mOK\u001b[0m\n",
      "[I 13:32:49 InstallContribNbextensionsApp] Installing /anaconda3/lib/python3.6/site-packages/jupyter_contrib_nbextensions/nbextensions/hide_input -> hide_input\n",
      "[I 13:32:49 InstallContribNbextensionsApp] Making directory: /anaconda3/share/jupyter/nbextensions/hide_input/\n",
      "[I 13:32:49 InstallContribNbextensionsApp] Copying: /anaconda3/lib/python3.6/site-packages/jupyter_contrib_nbextensions/nbextensions/hide_input/hide-input.yaml -> /anaconda3/share/jupyter/nbextensions/hide_input/hide-input.yaml\n",
      "[I 13:32:49 InstallContribNbextensionsApp] Copying: /anaconda3/lib/python3.6/site-packages/jupyter_contrib_nbextensions/nbextensions/hide_input/icon.png -> /anaconda3/share/jupyter/nbextensions/hide_input/icon.png\n",
      "[I 13:32:49 InstallContribNbextensionsApp] Copying: /anaconda3/lib/python3.6/site-packages/jupyter_contrib_nbextensions/nbextensions/hide_input/main.js -> /anaconda3/share/jupyter/nbextensions/hide_input/main.js\n",
      "[I 13:32:49 InstallContribNbextensionsApp] Copying: /anaconda3/lib/python3.6/site-packages/jupyter_contrib_nbextensions/nbextensions/hide_input/readme.md -> /anaconda3/share/jupyter/nbextensions/hide_input/readme.md\n",
      "[I 13:32:49 InstallContribNbextensionsApp] - Validating: \u001b[32mOK\u001b[0m\n",
      "[I 13:32:49 InstallContribNbextensionsApp] Installing /anaconda3/lib/python3.6/site-packages/jupyter_contrib_nbextensions/nbextensions/hide_input_all -> hide_input_all\n",
      "[I 13:32:49 InstallContribNbextensionsApp] Making directory: /anaconda3/share/jupyter/nbextensions/hide_input_all/\n",
      "[I 13:32:49 InstallContribNbextensionsApp] Copying: /anaconda3/lib/python3.6/site-packages/jupyter_contrib_nbextensions/nbextensions/hide_input_all/hide_input_all.yaml -> /anaconda3/share/jupyter/nbextensions/hide_input_all/hide_input_all.yaml\n",
      "[I 13:32:49 InstallContribNbextensionsApp] Copying: /anaconda3/lib/python3.6/site-packages/jupyter_contrib_nbextensions/nbextensions/hide_input_all/hide_input_all_hide.png -> /anaconda3/share/jupyter/nbextensions/hide_input_all/hide_input_all_hide.png\n",
      "[I 13:32:49 InstallContribNbextensionsApp] Copying: /anaconda3/lib/python3.6/site-packages/jupyter_contrib_nbextensions/nbextensions/hide_input_all/hide_input_all_show.png -> /anaconda3/share/jupyter/nbextensions/hide_input_all/hide_input_all_show.png\n",
      "[I 13:32:49 InstallContribNbextensionsApp] Copying: /anaconda3/lib/python3.6/site-packages/jupyter_contrib_nbextensions/nbextensions/hide_input_all/icon.png -> /anaconda3/share/jupyter/nbextensions/hide_input_all/icon.png\n",
      "[I 13:32:49 InstallContribNbextensionsApp] Copying: /anaconda3/lib/python3.6/site-packages/jupyter_contrib_nbextensions/nbextensions/hide_input_all/main.js -> /anaconda3/share/jupyter/nbextensions/hide_input_all/main.js\n",
      "[I 13:32:49 InstallContribNbextensionsApp] Copying: /anaconda3/lib/python3.6/site-packages/jupyter_contrib_nbextensions/nbextensions/hide_input_all/readme.md -> /anaconda3/share/jupyter/nbextensions/hide_input_all/readme.md\n",
      "[I 13:32:49 InstallContribNbextensionsApp] - Validating: \u001b[32mOK\u001b[0m\n",
      "[I 13:32:49 InstallContribNbextensionsApp] Installing /anaconda3/lib/python3.6/site-packages/jupyter_contrib_nbextensions/nbextensions/highlighter -> highlighter\n",
      "[I 13:32:49 InstallContribNbextensionsApp] Making directory: /anaconda3/share/jupyter/nbextensions/highlighter/\n",
      "[I 13:32:49 InstallContribNbextensionsApp] Copying: /anaconda3/lib/python3.6/site-packages/jupyter_contrib_nbextensions/nbextensions/highlighter/demo_highlighter.html -> /anaconda3/share/jupyter/nbextensions/highlighter/demo_highlighter.html\n",
      "[I 13:32:49 InstallContribNbextensionsApp] Copying: /anaconda3/lib/python3.6/site-packages/jupyter_contrib_nbextensions/nbextensions/highlighter/demo_highlighter.ipynb -> /anaconda3/share/jupyter/nbextensions/highlighter/demo_highlighter.ipynb\n",
      "[I 13:32:49 InstallContribNbextensionsApp] Copying: /anaconda3/lib/python3.6/site-packages/jupyter_contrib_nbextensions/nbextensions/highlighter/export_highlights.html -> /anaconda3/share/jupyter/nbextensions/highlighter/export_highlights.html\n",
      "[I 13:32:49 InstallContribNbextensionsApp] Copying: /anaconda3/lib/python3.6/site-packages/jupyter_contrib_nbextensions/nbextensions/highlighter/export_highlights.ipynb -> /anaconda3/share/jupyter/nbextensions/highlighter/export_highlights.ipynb\n",
      "[I 13:32:49 InstallContribNbextensionsApp] Copying: /anaconda3/lib/python3.6/site-packages/jupyter_contrib_nbextensions/nbextensions/highlighter/export_highlights.pdf -> /anaconda3/share/jupyter/nbextensions/highlighter/export_highlights.pdf\n",
      "[I 13:32:49 InstallContribNbextensionsApp] Copying: /anaconda3/lib/python3.6/site-packages/jupyter_contrib_nbextensions/nbextensions/highlighter/export_highlights.tex -> /anaconda3/share/jupyter/nbextensions/highlighter/export_highlights.tex\n",
      "[I 13:32:49 InstallContribNbextensionsApp] Copying: /anaconda3/lib/python3.6/site-packages/jupyter_contrib_nbextensions/nbextensions/highlighter/highlighter.css -> /anaconda3/share/jupyter/nbextensions/highlighter/highlighter.css\n",
      "[I 13:32:49 InstallContribNbextensionsApp] Copying: /anaconda3/lib/python3.6/site-packages/jupyter_contrib_nbextensions/nbextensions/highlighter/highlighter.js -> /anaconda3/share/jupyter/nbextensions/highlighter/highlighter.js\n",
      "[I 13:32:49 InstallContribNbextensionsApp] Copying: /anaconda3/lib/python3.6/site-packages/jupyter_contrib_nbextensions/nbextensions/highlighter/highlighter.yaml -> /anaconda3/share/jupyter/nbextensions/highlighter/highlighter.yaml\n",
      "[I 13:32:49 InstallContribNbextensionsApp] Copying: /anaconda3/lib/python3.6/site-packages/jupyter_contrib_nbextensions/nbextensions/highlighter/icon.png -> /anaconda3/share/jupyter/nbextensions/highlighter/icon.png\n",
      "[I 13:32:49 InstallContribNbextensionsApp] Copying: /anaconda3/lib/python3.6/site-packages/jupyter_contrib_nbextensions/nbextensions/highlighter/image.gif -> /anaconda3/share/jupyter/nbextensions/highlighter/image.gif\n",
      "[I 13:32:49 InstallContribNbextensionsApp] Copying: /anaconda3/lib/python3.6/site-packages/jupyter_contrib_nbextensions/nbextensions/highlighter/readme.md -> /anaconda3/share/jupyter/nbextensions/highlighter/readme.md\n",
      "[I 13:32:49 InstallContribNbextensionsApp] Copying: /anaconda3/lib/python3.6/site-packages/jupyter_contrib_nbextensions/nbextensions/highlighter/tst_highlights.html -> /anaconda3/share/jupyter/nbextensions/highlighter/tst_highlights.html\n",
      "[I 13:32:49 InstallContribNbextensionsApp] Copying: /anaconda3/lib/python3.6/site-packages/jupyter_contrib_nbextensions/nbextensions/highlighter/tst_highlights.ipynb -> /anaconda3/share/jupyter/nbextensions/highlighter/tst_highlights.ipynb\n",
      "[I 13:32:49 InstallContribNbextensionsApp] Copying: /anaconda3/lib/python3.6/site-packages/jupyter_contrib_nbextensions/nbextensions/highlighter/tst_highlights.pdf -> /anaconda3/share/jupyter/nbextensions/highlighter/tst_highlights.pdf\n",
      "[I 13:32:49 InstallContribNbextensionsApp] Copying: /anaconda3/lib/python3.6/site-packages/jupyter_contrib_nbextensions/nbextensions/highlighter/tst_highlights.tex -> /anaconda3/share/jupyter/nbextensions/highlighter/tst_highlights.tex\n",
      "[I 13:32:49 InstallContribNbextensionsApp] - Validating: \u001b[32mOK\u001b[0m\n",
      "[I 13:32:49 InstallContribNbextensionsApp] Installing /anaconda3/lib/python3.6/site-packages/jupyter_contrib_nbextensions/nbextensions/hinterland -> hinterland\n",
      "[I 13:32:49 InstallContribNbextensionsApp] Making directory: /anaconda3/share/jupyter/nbextensions/hinterland/\n",
      "[I 13:32:49 InstallContribNbextensionsApp] Copying: /anaconda3/lib/python3.6/site-packages/jupyter_contrib_nbextensions/nbextensions/hinterland/hinterland.js -> /anaconda3/share/jupyter/nbextensions/hinterland/hinterland.js\n",
      "[I 13:32:49 InstallContribNbextensionsApp] Copying: /anaconda3/lib/python3.6/site-packages/jupyter_contrib_nbextensions/nbextensions/hinterland/hinterland.yaml -> /anaconda3/share/jupyter/nbextensions/hinterland/hinterland.yaml\n",
      "[I 13:32:49 InstallContribNbextensionsApp] Copying: /anaconda3/lib/python3.6/site-packages/jupyter_contrib_nbextensions/nbextensions/hinterland/README.md -> /anaconda3/share/jupyter/nbextensions/hinterland/README.md\n",
      "[I 13:32:50 InstallContribNbextensionsApp] - Validating: \u001b[32mOK\u001b[0m\n",
      "[I 13:32:50 InstallContribNbextensionsApp] Installing /anaconda3/lib/python3.6/site-packages/jupyter_contrib_nbextensions/nbextensions/init_cell -> init_cell\n",
      "[I 13:32:50 InstallContribNbextensionsApp] Making directory: /anaconda3/share/jupyter/nbextensions/init_cell/\n",
      "[I 13:32:50 InstallContribNbextensionsApp] Copying: /anaconda3/lib/python3.6/site-packages/jupyter_contrib_nbextensions/nbextensions/init_cell/icon.png -> /anaconda3/share/jupyter/nbextensions/init_cell/icon.png\n",
      "[I 13:32:50 InstallContribNbextensionsApp] Copying: /anaconda3/lib/python3.6/site-packages/jupyter_contrib_nbextensions/nbextensions/init_cell/init_cell.yaml -> /anaconda3/share/jupyter/nbextensions/init_cell/init_cell.yaml\n",
      "[I 13:32:50 InstallContribNbextensionsApp] Copying: /anaconda3/lib/python3.6/site-packages/jupyter_contrib_nbextensions/nbextensions/init_cell/main.js -> /anaconda3/share/jupyter/nbextensions/init_cell/main.js\n",
      "[I 13:32:50 InstallContribNbextensionsApp] Copying: /anaconda3/lib/python3.6/site-packages/jupyter_contrib_nbextensions/nbextensions/init_cell/README.md -> /anaconda3/share/jupyter/nbextensions/init_cell/README.md\n",
      "[I 13:32:50 InstallContribNbextensionsApp] - Validating: \u001b[32mOK\u001b[0m\n",
      "[I 13:32:50 InstallContribNbextensionsApp] Installing /anaconda3/lib/python3.6/site-packages/jupyter_contrib_nbextensions/nbextensions/keyboard_shortcut_editor -> keyboard_shortcut_editor\n",
      "[I 13:32:50 InstallContribNbextensionsApp] Making directory: /anaconda3/share/jupyter/nbextensions/keyboard_shortcut_editor/\n",
      "[I 13:32:50 InstallContribNbextensionsApp] Copying: /anaconda3/lib/python3.6/site-packages/jupyter_contrib_nbextensions/nbextensions/keyboard_shortcut_editor/icon.png -> /anaconda3/share/jupyter/nbextensions/keyboard_shortcut_editor/icon.png\n",
      "[I 13:32:50 InstallContribNbextensionsApp] Copying: /anaconda3/lib/python3.6/site-packages/jupyter_contrib_nbextensions/nbextensions/keyboard_shortcut_editor/keyboard_shortcut_editor.yaml -> /anaconda3/share/jupyter/nbextensions/keyboard_shortcut_editor/keyboard_shortcut_editor.yaml\n",
      "[I 13:32:50 InstallContribNbextensionsApp] Copying: /anaconda3/lib/python3.6/site-packages/jupyter_contrib_nbextensions/nbextensions/keyboard_shortcut_editor/kse_components.js -> /anaconda3/share/jupyter/nbextensions/keyboard_shortcut_editor/kse_components.js\n",
      "[I 13:32:50 InstallContribNbextensionsApp] Copying: /anaconda3/lib/python3.6/site-packages/jupyter_contrib_nbextensions/nbextensions/keyboard_shortcut_editor/main.css -> /anaconda3/share/jupyter/nbextensions/keyboard_shortcut_editor/main.css\n",
      "[I 13:32:50 InstallContribNbextensionsApp] Copying: /anaconda3/lib/python3.6/site-packages/jupyter_contrib_nbextensions/nbextensions/keyboard_shortcut_editor/main.js -> /anaconda3/share/jupyter/nbextensions/keyboard_shortcut_editor/main.js\n",
      "[I 13:32:50 InstallContribNbextensionsApp] Copying: /anaconda3/lib/python3.6/site-packages/jupyter_contrib_nbextensions/nbextensions/keyboard_shortcut_editor/quickhelp_shim.js -> /anaconda3/share/jupyter/nbextensions/keyboard_shortcut_editor/quickhelp_shim.js\n",
      "[I 13:32:50 InstallContribNbextensionsApp] Copying: /anaconda3/lib/python3.6/site-packages/jupyter_contrib_nbextensions/nbextensions/keyboard_shortcut_editor/README.md -> /anaconda3/share/jupyter/nbextensions/keyboard_shortcut_editor/README.md\n",
      "[I 13:32:50 InstallContribNbextensionsApp] Copying: /anaconda3/lib/python3.6/site-packages/jupyter_contrib_nbextensions/nbextensions/keyboard_shortcut_editor/readme_add_new_link.png -> /anaconda3/share/jupyter/nbextensions/keyboard_shortcut_editor/readme_add_new_link.png\n",
      "[I 13:32:50 InstallContribNbextensionsApp] Copying: /anaconda3/lib/python3.6/site-packages/jupyter_contrib_nbextensions/nbextensions/keyboard_shortcut_editor/readme_add_new_select_action.png -> /anaconda3/share/jupyter/nbextensions/keyboard_shortcut_editor/readme_add_new_select_action.png\n",
      "[I 13:32:50 InstallContribNbextensionsApp] Copying: /anaconda3/lib/python3.6/site-packages/jupyter_contrib_nbextensions/nbextensions/keyboard_shortcut_editor/readme_comma.png -> /anaconda3/share/jupyter/nbextensions/keyboard_shortcut_editor/readme_comma.png\n",
      "[I 13:32:50 InstallContribNbextensionsApp] Copying: /anaconda3/lib/python3.6/site-packages/jupyter_contrib_nbextensions/nbextensions/keyboard_shortcut_editor/readme_conflict.png -> /anaconda3/share/jupyter/nbextensions/keyboard_shortcut_editor/readme_conflict.png\n",
      "[I 13:32:50 InstallContribNbextensionsApp] Copying: /anaconda3/lib/python3.6/site-packages/jupyter_contrib_nbextensions/nbextensions/keyboard_shortcut_editor/readme_dropdown.png -> /anaconda3/share/jupyter/nbextensions/keyboard_shortcut_editor/readme_dropdown.png\n",
      "[I 13:32:50 InstallContribNbextensionsApp] Copying: /anaconda3/lib/python3.6/site-packages/jupyter_contrib_nbextensions/nbextensions/keyboard_shortcut_editor/readme_menu_item.png -> /anaconda3/share/jupyter/nbextensions/keyboard_shortcut_editor/readme_menu_item.png\n",
      "[I 13:32:50 InstallContribNbextensionsApp] Copying: /anaconda3/lib/python3.6/site-packages/jupyter_contrib_nbextensions/nbextensions/keyboard_shortcut_editor/readme_reset_disabled.png -> /anaconda3/share/jupyter/nbextensions/keyboard_shortcut_editor/readme_reset_disabled.png\n",
      "[I 13:32:50 InstallContribNbextensionsApp] Copying: /anaconda3/lib/python3.6/site-packages/jupyter_contrib_nbextensions/nbextensions/keyboard_shortcut_editor/readme_shortcut_editor_blank.png -> /anaconda3/share/jupyter/nbextensions/keyboard_shortcut_editor/readme_shortcut_editor_blank.png\n",
      "[I 13:32:50 InstallContribNbextensionsApp] Copying: /anaconda3/lib/python3.6/site-packages/jupyter_contrib_nbextensions/nbextensions/keyboard_shortcut_editor/readme_shortcut_editor_success.png -> /anaconda3/share/jupyter/nbextensions/keyboard_shortcut_editor/readme_shortcut_editor_success.png\n",
      "[I 13:32:50 InstallContribNbextensionsApp] Copying: /anaconda3/lib/python3.6/site-packages/jupyter_contrib_nbextensions/nbextensions/keyboard_shortcut_editor/readme_undefined_key.png -> /anaconda3/share/jupyter/nbextensions/keyboard_shortcut_editor/readme_undefined_key.png\n",
      "[I 13:32:50 InstallContribNbextensionsApp] - Validating: \u001b[32mOK\u001b[0m\n",
      "[I 13:32:50 InstallContribNbextensionsApp] Installing /anaconda3/lib/python3.6/site-packages/jupyter_contrib_nbextensions/nbextensions/limit_output -> limit_output\n",
      "[I 13:32:50 InstallContribNbextensionsApp] Making directory: /anaconda3/share/jupyter/nbextensions/limit_output/\n",
      "[I 13:32:50 InstallContribNbextensionsApp] Copying: /anaconda3/lib/python3.6/site-packages/jupyter_contrib_nbextensions/nbextensions/limit_output/icon.png -> /anaconda3/share/jupyter/nbextensions/limit_output/icon.png\n",
      "[I 13:32:50 InstallContribNbextensionsApp] Copying: /anaconda3/lib/python3.6/site-packages/jupyter_contrib_nbextensions/nbextensions/limit_output/limit-output.yaml -> /anaconda3/share/jupyter/nbextensions/limit_output/limit-output.yaml\n",
      "[I 13:32:50 InstallContribNbextensionsApp] Copying: /anaconda3/lib/python3.6/site-packages/jupyter_contrib_nbextensions/nbextensions/limit_output/main.js -> /anaconda3/share/jupyter/nbextensions/limit_output/main.js\n",
      "[I 13:32:50 InstallContribNbextensionsApp] Copying: /anaconda3/lib/python3.6/site-packages/jupyter_contrib_nbextensions/nbextensions/limit_output/readme.md -> /anaconda3/share/jupyter/nbextensions/limit_output/readme.md\n",
      "[I 13:32:50 InstallContribNbextensionsApp] - Validating: \u001b[32mOK\u001b[0m\n",
      "[I 13:32:50 InstallContribNbextensionsApp] Installing /anaconda3/lib/python3.6/site-packages/jupyter_contrib_nbextensions/nbextensions/move_selected_cells -> move_selected_cells\n",
      "[I 13:32:50 InstallContribNbextensionsApp] Making directory: /anaconda3/share/jupyter/nbextensions/move_selected_cells/\n",
      "[I 13:32:50 InstallContribNbextensionsApp] Copying: /anaconda3/lib/python3.6/site-packages/jupyter_contrib_nbextensions/nbextensions/move_selected_cells/main.js -> /anaconda3/share/jupyter/nbextensions/move_selected_cells/main.js\n",
      "[I 13:32:50 InstallContribNbextensionsApp] Copying: /anaconda3/lib/python3.6/site-packages/jupyter_contrib_nbextensions/nbextensions/move_selected_cells/move_selected_cells.yaml -> /anaconda3/share/jupyter/nbextensions/move_selected_cells/move_selected_cells.yaml\n",
      "[I 13:32:50 InstallContribNbextensionsApp] Copying: /anaconda3/lib/python3.6/site-packages/jupyter_contrib_nbextensions/nbextensions/move_selected_cells/README.md -> /anaconda3/share/jupyter/nbextensions/move_selected_cells/README.md\n",
      "[I 13:32:50 InstallContribNbextensionsApp] - Validating: \u001b[32mOK\u001b[0m\n",
      "[I 13:32:50 InstallContribNbextensionsApp] Installing /anaconda3/lib/python3.6/site-packages/jupyter_contrib_nbextensions/nbextensions/navigation-hotkeys -> navigation-hotkeys\n",
      "[I 13:32:50 InstallContribNbextensionsApp] Making directory: /anaconda3/share/jupyter/nbextensions/navigation-hotkeys/\n",
      "[I 13:32:50 InstallContribNbextensionsApp] Copying: /anaconda3/lib/python3.6/site-packages/jupyter_contrib_nbextensions/nbextensions/navigation-hotkeys/hotkeys.yaml -> /anaconda3/share/jupyter/nbextensions/navigation-hotkeys/hotkeys.yaml\n",
      "[I 13:32:50 InstallContribNbextensionsApp] Copying: /anaconda3/lib/python3.6/site-packages/jupyter_contrib_nbextensions/nbextensions/navigation-hotkeys/icon.png -> /anaconda3/share/jupyter/nbextensions/navigation-hotkeys/icon.png\n",
      "[I 13:32:50 InstallContribNbextensionsApp] Copying: /anaconda3/lib/python3.6/site-packages/jupyter_contrib_nbextensions/nbextensions/navigation-hotkeys/main.js -> /anaconda3/share/jupyter/nbextensions/navigation-hotkeys/main.js\n",
      "[I 13:32:50 InstallContribNbextensionsApp] Copying: /anaconda3/lib/python3.6/site-packages/jupyter_contrib_nbextensions/nbextensions/navigation-hotkeys/readme.md -> /anaconda3/share/jupyter/nbextensions/navigation-hotkeys/readme.md\n",
      "[I 13:32:50 InstallContribNbextensionsApp] - Validating: \u001b[32mOK\u001b[0m\n",
      "[I 13:32:50 InstallContribNbextensionsApp] Installing /anaconda3/lib/python3.6/site-packages/jupyter_contrib_nbextensions/nbextensions/nbTranslate -> nbTranslate\n",
      "[I 13:32:50 InstallContribNbextensionsApp] Making directory: /anaconda3/share/jupyter/nbextensions/nbTranslate/\n",
      "[I 13:32:50 InstallContribNbextensionsApp] Copying: /anaconda3/lib/python3.6/site-packages/jupyter_contrib_nbextensions/nbextensions/nbTranslate/demo1.gif -> /anaconda3/share/jupyter/nbextensions/nbTranslate/demo1.gif\n",
      "[I 13:32:50 InstallContribNbextensionsApp] Copying: /anaconda3/lib/python3.6/site-packages/jupyter_contrib_nbextensions/nbextensions/nbTranslate/demo2.gif -> /anaconda3/share/jupyter/nbextensions/nbTranslate/demo2.gif\n",
      "[I 13:32:50 InstallContribNbextensionsApp] Copying: /anaconda3/lib/python3.6/site-packages/jupyter_contrib_nbextensions/nbextensions/nbTranslate/languages.js -> /anaconda3/share/jupyter/nbextensions/nbTranslate/languages.js\n",
      "[I 13:32:50 InstallContribNbextensionsApp] Copying: /anaconda3/lib/python3.6/site-packages/jupyter_contrib_nbextensions/nbextensions/nbTranslate/main.js -> /anaconda3/share/jupyter/nbextensions/nbTranslate/main.js\n",
      "[I 13:32:50 InstallContribNbextensionsApp] Copying: /anaconda3/lib/python3.6/site-packages/jupyter_contrib_nbextensions/nbextensions/nbTranslate/mutils.js -> /anaconda3/share/jupyter/nbextensions/nbTranslate/mutils.js\n",
      "[I 13:32:50 InstallContribNbextensionsApp] Copying: /anaconda3/lib/python3.6/site-packages/jupyter_contrib_nbextensions/nbextensions/nbTranslate/nbTranslate.js -> /anaconda3/share/jupyter/nbextensions/nbTranslate/nbTranslate.js\n",
      "[I 13:32:50 InstallContribNbextensionsApp] Copying: /anaconda3/lib/python3.6/site-packages/jupyter_contrib_nbextensions/nbextensions/nbTranslate/nbTranslate.yaml -> /anaconda3/share/jupyter/nbextensions/nbTranslate/nbTranslate.yaml\n",
      "[I 13:32:50 InstallContribNbextensionsApp] Copying: /anaconda3/lib/python3.6/site-packages/jupyter_contrib_nbextensions/nbextensions/nbTranslate/README.md -> /anaconda3/share/jupyter/nbextensions/nbTranslate/README.md\n",
      "[I 13:32:50 InstallContribNbextensionsApp] - Validating: \u001b[32mOK\u001b[0m\n",
      "[I 13:32:50 InstallContribNbextensionsApp] Installing /anaconda3/lib/python3.6/site-packages/jupyter_contrib_nbextensions/nbextensions/notify -> notify\n",
      "[I 13:32:50 InstallContribNbextensionsApp] Making directory: /anaconda3/share/jupyter/nbextensions/notify/\n",
      "[I 13:32:50 InstallContribNbextensionsApp] Copying: /anaconda3/lib/python3.6/site-packages/jupyter_contrib_nbextensions/nbextensions/notify/notification.png -> /anaconda3/share/jupyter/nbextensions/notify/notification.png\n",
      "[I 13:32:50 InstallContribNbextensionsApp] Copying: /anaconda3/lib/python3.6/site-packages/jupyter_contrib_nbextensions/nbextensions/notify/notify.js -> /anaconda3/share/jupyter/nbextensions/notify/notify.js\n",
      "[I 13:32:50 InstallContribNbextensionsApp] Copying: /anaconda3/lib/python3.6/site-packages/jupyter_contrib_nbextensions/nbextensions/notify/notify.mp3 -> /anaconda3/share/jupyter/nbextensions/notify/notify.mp3\n",
      "[I 13:32:50 InstallContribNbextensionsApp] Copying: /anaconda3/lib/python3.6/site-packages/jupyter_contrib_nbextensions/nbextensions/notify/notify.yaml -> /anaconda3/share/jupyter/nbextensions/notify/notify.yaml\n",
      "[I 13:32:50 InstallContribNbextensionsApp] Copying: /anaconda3/lib/python3.6/site-packages/jupyter_contrib_nbextensions/nbextensions/notify/readme.md -> /anaconda3/share/jupyter/nbextensions/notify/readme.md\n",
      "[I 13:32:50 InstallContribNbextensionsApp] - Validating: \u001b[32mOK\u001b[0m\n",
      "[I 13:32:50 InstallContribNbextensionsApp] Installing /anaconda3/lib/python3.6/site-packages/jupyter_contrib_nbextensions/nbextensions/printview -> printview\n",
      "[I 13:32:50 InstallContribNbextensionsApp] Making directory: /anaconda3/share/jupyter/nbextensions/printview/\n",
      "[I 13:32:50 InstallContribNbextensionsApp] Copying: /anaconda3/lib/python3.6/site-packages/jupyter_contrib_nbextensions/nbextensions/printview/icon.png -> /anaconda3/share/jupyter/nbextensions/printview/icon.png\n",
      "[I 13:32:50 InstallContribNbextensionsApp] Copying: /anaconda3/lib/python3.6/site-packages/jupyter_contrib_nbextensions/nbextensions/printview/main.js -> /anaconda3/share/jupyter/nbextensions/printview/main.js\n",
      "[I 13:32:50 InstallContribNbextensionsApp] Copying: /anaconda3/lib/python3.6/site-packages/jupyter_contrib_nbextensions/nbextensions/printview/printview-button.png -> /anaconda3/share/jupyter/nbextensions/printview/printview-button.png\n",
      "[I 13:32:50 InstallContribNbextensionsApp] Copying: /anaconda3/lib/python3.6/site-packages/jupyter_contrib_nbextensions/nbextensions/printview/printview.yaml -> /anaconda3/share/jupyter/nbextensions/printview/printview.yaml\n",
      "[I 13:32:50 InstallContribNbextensionsApp] Copying: /anaconda3/lib/python3.6/site-packages/jupyter_contrib_nbextensions/nbextensions/printview/readme.md -> /anaconda3/share/jupyter/nbextensions/printview/readme.md\n",
      "[I 13:32:50 InstallContribNbextensionsApp] - Validating: \u001b[32mOK\u001b[0m\n",
      "[I 13:32:50 InstallContribNbextensionsApp] Installing /anaconda3/lib/python3.6/site-packages/jupyter_contrib_nbextensions/nbextensions/python-markdown -> python-markdown\n",
      "[I 13:32:50 InstallContribNbextensionsApp] Making directory: /anaconda3/share/jupyter/nbextensions/python-markdown/\n",
      "[I 13:32:50 InstallContribNbextensionsApp] Copying: /anaconda3/lib/python3.6/site-packages/jupyter_contrib_nbextensions/nbextensions/python-markdown/main.css -> /anaconda3/share/jupyter/nbextensions/python-markdown/main.css\n",
      "[I 13:32:50 InstallContribNbextensionsApp] Copying: /anaconda3/lib/python3.6/site-packages/jupyter_contrib_nbextensions/nbextensions/python-markdown/main.js -> /anaconda3/share/jupyter/nbextensions/python-markdown/main.js\n",
      "[I 13:32:50 InstallContribNbextensionsApp] Copying: /anaconda3/lib/python3.6/site-packages/jupyter_contrib_nbextensions/nbextensions/python-markdown/python-markdown-post.png -> /anaconda3/share/jupyter/nbextensions/python-markdown/python-markdown-post.png\n",
      "[I 13:32:50 InstallContribNbextensionsApp] Copying: /anaconda3/lib/python3.6/site-packages/jupyter_contrib_nbextensions/nbextensions/python-markdown/python-markdown-pre.png -> /anaconda3/share/jupyter/nbextensions/python-markdown/python-markdown-pre.png\n",
      "[I 13:32:50 InstallContribNbextensionsApp] Copying: /anaconda3/lib/python3.6/site-packages/jupyter_contrib_nbextensions/nbextensions/python-markdown/python-markdown.png -> /anaconda3/share/jupyter/nbextensions/python-markdown/python-markdown.png\n",
      "[I 13:32:50 InstallContribNbextensionsApp] Copying: /anaconda3/lib/python3.6/site-packages/jupyter_contrib_nbextensions/nbextensions/python-markdown/python-markdown.yaml -> /anaconda3/share/jupyter/nbextensions/python-markdown/python-markdown.yaml\n",
      "[I 13:32:50 InstallContribNbextensionsApp] Copying: /anaconda3/lib/python3.6/site-packages/jupyter_contrib_nbextensions/nbextensions/python-markdown/readme.md -> /anaconda3/share/jupyter/nbextensions/python-markdown/readme.md\n",
      "[I 13:32:50 InstallContribNbextensionsApp] Copying: /anaconda3/lib/python3.6/site-packages/jupyter_contrib_nbextensions/nbextensions/python-markdown/trusted.png -> /anaconda3/share/jupyter/nbextensions/python-markdown/trusted.png\n",
      "[I 13:32:50 InstallContribNbextensionsApp] Copying: /anaconda3/lib/python3.6/site-packages/jupyter_contrib_nbextensions/nbextensions/python-markdown/untrusted.png -> /anaconda3/share/jupyter/nbextensions/python-markdown/untrusted.png\n",
      "[I 13:32:50 InstallContribNbextensionsApp] - Validating: \u001b[32mOK\u001b[0m\n",
      "[I 13:32:50 InstallContribNbextensionsApp] Installing /anaconda3/lib/python3.6/site-packages/jupyter_contrib_nbextensions/nbextensions/qtconsole -> qtconsole\n",
      "[I 13:32:50 InstallContribNbextensionsApp] Making directory: /anaconda3/share/jupyter/nbextensions/qtconsole/\n",
      "[I 13:32:50 InstallContribNbextensionsApp] Copying: /anaconda3/lib/python3.6/site-packages/jupyter_contrib_nbextensions/nbextensions/qtconsole/qtconsole.js -> /anaconda3/share/jupyter/nbextensions/qtconsole/qtconsole.js\n",
      "[I 13:32:50 InstallContribNbextensionsApp] Copying: /anaconda3/lib/python3.6/site-packages/jupyter_contrib_nbextensions/nbextensions/qtconsole/qtconsole.yaml -> /anaconda3/share/jupyter/nbextensions/qtconsole/qtconsole.yaml\n",
      "[I 13:32:50 InstallContribNbextensionsApp] Copying: /anaconda3/lib/python3.6/site-packages/jupyter_contrib_nbextensions/nbextensions/qtconsole/README.md -> /anaconda3/share/jupyter/nbextensions/qtconsole/README.md\n",
      "[I 13:32:50 InstallContribNbextensionsApp] - Validating: \u001b[32mOK\u001b[0m\n",
      "[I 13:32:50 InstallContribNbextensionsApp] Installing /anaconda3/lib/python3.6/site-packages/jupyter_contrib_nbextensions/nbextensions/rubberband -> rubberband\n",
      "[I 13:32:50 InstallContribNbextensionsApp] Making directory: /anaconda3/share/jupyter/nbextensions/rubberband/\n",
      "[I 13:32:50 InstallContribNbextensionsApp] Copying: /anaconda3/lib/python3.6/site-packages/jupyter_contrib_nbextensions/nbextensions/rubberband/icon.png -> /anaconda3/share/jupyter/nbextensions/rubberband/icon.png\n",
      "[I 13:32:50 InstallContribNbextensionsApp] Copying: /anaconda3/lib/python3.6/site-packages/jupyter_contrib_nbextensions/nbextensions/rubberband/main.css -> /anaconda3/share/jupyter/nbextensions/rubberband/main.css\n",
      "[I 13:32:50 InstallContribNbextensionsApp] Copying: /anaconda3/lib/python3.6/site-packages/jupyter_contrib_nbextensions/nbextensions/rubberband/main.js -> /anaconda3/share/jupyter/nbextensions/rubberband/main.js\n",
      "[I 13:32:50 InstallContribNbextensionsApp] Copying: /anaconda3/lib/python3.6/site-packages/jupyter_contrib_nbextensions/nbextensions/rubberband/readme.md -> /anaconda3/share/jupyter/nbextensions/rubberband/readme.md\n",
      "[I 13:32:50 InstallContribNbextensionsApp] Copying: /anaconda3/lib/python3.6/site-packages/jupyter_contrib_nbextensions/nbextensions/rubberband/rubberband.yaml -> /anaconda3/share/jupyter/nbextensions/rubberband/rubberband.yaml\n",
      "[I 13:32:50 InstallContribNbextensionsApp] - Validating: \u001b[32mOK\u001b[0m\n",
      "[I 13:32:50 InstallContribNbextensionsApp] Installing /anaconda3/lib/python3.6/site-packages/jupyter_contrib_nbextensions/nbextensions/ruler -> ruler\n",
      "[I 13:32:50 InstallContribNbextensionsApp] Making directory: /anaconda3/share/jupyter/nbextensions/ruler/\n",
      "[I 13:32:50 InstallContribNbextensionsApp] Copying: /anaconda3/lib/python3.6/site-packages/jupyter_contrib_nbextensions/nbextensions/ruler/icon.png -> /anaconda3/share/jupyter/nbextensions/ruler/icon.png\n",
      "[I 13:32:50 InstallContribNbextensionsApp] Copying: /anaconda3/lib/python3.6/site-packages/jupyter_contrib_nbextensions/nbextensions/ruler/main.js -> /anaconda3/share/jupyter/nbextensions/ruler/main.js\n",
      "[I 13:32:50 InstallContribNbextensionsApp] Copying: /anaconda3/lib/python3.6/site-packages/jupyter_contrib_nbextensions/nbextensions/ruler/readme.md -> /anaconda3/share/jupyter/nbextensions/ruler/readme.md\n",
      "[I 13:32:50 InstallContribNbextensionsApp] Copying: /anaconda3/lib/python3.6/site-packages/jupyter_contrib_nbextensions/nbextensions/ruler/ruler.yaml -> /anaconda3/share/jupyter/nbextensions/ruler/ruler.yaml\n",
      "[I 13:32:50 InstallContribNbextensionsApp] - Validating: \u001b[32mOK\u001b[0m\n",
      "[I 13:32:50 InstallContribNbextensionsApp] Installing /anaconda3/lib/python3.6/site-packages/jupyter_contrib_nbextensions/nbextensions/runtools -> runtools\n",
      "[I 13:32:50 InstallContribNbextensionsApp] Making directory: /anaconda3/share/jupyter/nbextensions/runtools/\n",
      "[I 13:32:50 InstallContribNbextensionsApp] Copying: /anaconda3/lib/python3.6/site-packages/jupyter_contrib_nbextensions/nbextensions/runtools/annotations.odg -> /anaconda3/share/jupyter/nbextensions/runtools/annotations.odg\n",
      "[I 13:32:50 InstallContribNbextensionsApp] Copying: /anaconda3/lib/python3.6/site-packages/jupyter_contrib_nbextensions/nbextensions/runtools/cellstate.js -> /anaconda3/share/jupyter/nbextensions/runtools/cellstate.js\n",
      "[I 13:32:50 InstallContribNbextensionsApp] Copying: /anaconda3/lib/python3.6/site-packages/jupyter_contrib_nbextensions/nbextensions/runtools/demo.gif -> /anaconda3/share/jupyter/nbextensions/runtools/demo.gif\n",
      "[I 13:32:50 InstallContribNbextensionsApp] Copying: /anaconda3/lib/python3.6/site-packages/jupyter_contrib_nbextensions/nbextensions/runtools/gutter.css -> /anaconda3/share/jupyter/nbextensions/runtools/gutter.css\n",
      "[I 13:32:50 InstallContribNbextensionsApp] Copying: /anaconda3/lib/python3.6/site-packages/jupyter_contrib_nbextensions/nbextensions/runtools/icon.png -> /anaconda3/share/jupyter/nbextensions/runtools/icon.png\n",
      "[I 13:32:50 InstallContribNbextensionsApp] Copying: /anaconda3/lib/python3.6/site-packages/jupyter_contrib_nbextensions/nbextensions/runtools/main.css -> /anaconda3/share/jupyter/nbextensions/runtools/main.css\n",
      "[I 13:32:50 InstallContribNbextensionsApp] Copying: /anaconda3/lib/python3.6/site-packages/jupyter_contrib_nbextensions/nbextensions/runtools/main.js -> /anaconda3/share/jupyter/nbextensions/runtools/main.js\n",
      "[I 13:32:50 InstallContribNbextensionsApp] Copying: /anaconda3/lib/python3.6/site-packages/jupyter_contrib_nbextensions/nbextensions/runtools/readme.md -> /anaconda3/share/jupyter/nbextensions/runtools/readme.md\n",
      "[I 13:32:50 InstallContribNbextensionsApp] Copying: /anaconda3/lib/python3.6/site-packages/jupyter_contrib_nbextensions/nbextensions/runtools/runtools.yaml -> /anaconda3/share/jupyter/nbextensions/runtools/runtools.yaml\n",
      "[I 13:32:50 InstallContribNbextensionsApp] Copying: /anaconda3/lib/python3.6/site-packages/jupyter_contrib_nbextensions/nbextensions/runtools/runtools_execute.png -> /anaconda3/share/jupyter/nbextensions/runtools/runtools_execute.png\n",
      "[I 13:32:50 InstallContribNbextensionsApp] Copying: /anaconda3/lib/python3.6/site-packages/jupyter_contrib_nbextensions/nbextensions/runtools/runtools_lock.png -> /anaconda3/share/jupyter/nbextensions/runtools/runtools_lock.png\n",
      "[I 13:32:50 InstallContribNbextensionsApp] Copying: /anaconda3/lib/python3.6/site-packages/jupyter_contrib_nbextensions/nbextensions/runtools/runtools_marker.png -> /anaconda3/share/jupyter/nbextensions/runtools/runtools_marker.png\n",
      "[I 13:32:50 InstallContribNbextensionsApp] Copying: /anaconda3/lib/python3.6/site-packages/jupyter_contrib_nbextensions/nbextensions/runtools/runtools_nb.png -> /anaconda3/share/jupyter/nbextensions/runtools/runtools_nb.png\n",
      "[I 13:32:50 InstallContribNbextensionsApp] Copying: /anaconda3/lib/python3.6/site-packages/jupyter_contrib_nbextensions/nbextensions/runtools/runtools_show_hide.png -> /anaconda3/share/jupyter/nbextensions/runtools/runtools_show_hide.png\n",
      "[I 13:32:50 InstallContribNbextensionsApp] - Validating: \u001b[32mOK\u001b[0m\n",
      "[I 13:32:50 InstallContribNbextensionsApp] Installing /anaconda3/lib/python3.6/site-packages/jupyter_contrib_nbextensions/nbextensions/scratchpad -> scratchpad\n",
      "[I 13:32:50 InstallContribNbextensionsApp] Making directory: /anaconda3/share/jupyter/nbextensions/scratchpad/\n",
      "[I 13:32:50 InstallContribNbextensionsApp] Copying: /anaconda3/lib/python3.6/site-packages/jupyter_contrib_nbextensions/nbextensions/scratchpad/demo.gif -> /anaconda3/share/jupyter/nbextensions/scratchpad/demo.gif\n",
      "[I 13:32:50 InstallContribNbextensionsApp] Copying: /anaconda3/lib/python3.6/site-packages/jupyter_contrib_nbextensions/nbextensions/scratchpad/LICENSE -> /anaconda3/share/jupyter/nbextensions/scratchpad/LICENSE\n",
      "[I 13:32:50 InstallContribNbextensionsApp] Copying: /anaconda3/lib/python3.6/site-packages/jupyter_contrib_nbextensions/nbextensions/scratchpad/main.js -> /anaconda3/share/jupyter/nbextensions/scratchpad/main.js\n",
      "[I 13:32:50 InstallContribNbextensionsApp] Copying: /anaconda3/lib/python3.6/site-packages/jupyter_contrib_nbextensions/nbextensions/scratchpad/README.md -> /anaconda3/share/jupyter/nbextensions/scratchpad/README.md\n",
      "[I 13:32:50 InstallContribNbextensionsApp] Copying: /anaconda3/lib/python3.6/site-packages/jupyter_contrib_nbextensions/nbextensions/scratchpad/scratchpad.css -> /anaconda3/share/jupyter/nbextensions/scratchpad/scratchpad.css\n",
      "[I 13:32:50 InstallContribNbextensionsApp] Copying: /anaconda3/lib/python3.6/site-packages/jupyter_contrib_nbextensions/nbextensions/scratchpad/scratchpad.yaml -> /anaconda3/share/jupyter/nbextensions/scratchpad/scratchpad.yaml\n",
      "[I 13:32:50 InstallContribNbextensionsApp] - Validating: \u001b[32mOK\u001b[0m\n",
      "[I 13:32:50 InstallContribNbextensionsApp] Installing /anaconda3/lib/python3.6/site-packages/jupyter_contrib_nbextensions/nbextensions/scroll_down -> scroll_down\n",
      "[I 13:32:50 InstallContribNbextensionsApp] Making directory: /anaconda3/share/jupyter/nbextensions/scroll_down/\n",
      "[I 13:32:50 InstallContribNbextensionsApp] Copying: /anaconda3/lib/python3.6/site-packages/jupyter_contrib_nbextensions/nbextensions/scroll_down/config.yaml -> /anaconda3/share/jupyter/nbextensions/scroll_down/config.yaml\n",
      "[I 13:32:50 InstallContribNbextensionsApp] Copying: /anaconda3/lib/python3.6/site-packages/jupyter_contrib_nbextensions/nbextensions/scroll_down/icon.png -> /anaconda3/share/jupyter/nbextensions/scroll_down/icon.png\n",
      "[I 13:32:50 InstallContribNbextensionsApp] Copying: /anaconda3/lib/python3.6/site-packages/jupyter_contrib_nbextensions/nbextensions/scroll_down/main.js -> /anaconda3/share/jupyter/nbextensions/scroll_down/main.js\n",
      "[I 13:32:50 InstallContribNbextensionsApp] Copying: /anaconda3/lib/python3.6/site-packages/jupyter_contrib_nbextensions/nbextensions/scroll_down/readme.md -> /anaconda3/share/jupyter/nbextensions/scroll_down/readme.md\n",
      "[I 13:32:50 InstallContribNbextensionsApp] - Validating: \u001b[32mOK\u001b[0m\n",
      "[I 13:32:50 InstallContribNbextensionsApp] Installing /anaconda3/lib/python3.6/site-packages/jupyter_contrib_nbextensions/nbextensions/select_keymap -> select_keymap\n",
      "[I 13:32:50 InstallContribNbextensionsApp] Making directory: /anaconda3/share/jupyter/nbextensions/select_keymap/\n",
      "[I 13:32:50 InstallContribNbextensionsApp] Copying: /anaconda3/lib/python3.6/site-packages/jupyter_contrib_nbextensions/nbextensions/select_keymap/main.js -> /anaconda3/share/jupyter/nbextensions/select_keymap/main.js\n",
      "[I 13:32:50 InstallContribNbextensionsApp] Copying: /anaconda3/lib/python3.6/site-packages/jupyter_contrib_nbextensions/nbextensions/select_keymap/README.md -> /anaconda3/share/jupyter/nbextensions/select_keymap/README.md\n",
      "[I 13:32:50 InstallContribNbextensionsApp] Copying: /anaconda3/lib/python3.6/site-packages/jupyter_contrib_nbextensions/nbextensions/select_keymap/select_keymap.png -> /anaconda3/share/jupyter/nbextensions/select_keymap/select_keymap.png\n",
      "[I 13:32:50 InstallContribNbextensionsApp] Copying: /anaconda3/lib/python3.6/site-packages/jupyter_contrib_nbextensions/nbextensions/select_keymap/select_keymap.yaml -> /anaconda3/share/jupyter/nbextensions/select_keymap/select_keymap.yaml\n",
      "[I 13:32:50 InstallContribNbextensionsApp] - Validating: \u001b[32mOK\u001b[0m\n",
      "[I 13:32:50 InstallContribNbextensionsApp] Installing /anaconda3/lib/python3.6/site-packages/jupyter_contrib_nbextensions/nbextensions/skill -> skill\n",
      "[I 13:32:50 InstallContribNbextensionsApp] Making directory: /anaconda3/share/jupyter/nbextensions/skill/\n",
      "[I 13:32:50 InstallContribNbextensionsApp] Copying: /anaconda3/lib/python3.6/site-packages/jupyter_contrib_nbextensions/nbextensions/skill/main.js -> /anaconda3/share/jupyter/nbextensions/skill/main.js\n",
      "[I 13:32:50 InstallContribNbextensionsApp] Copying: /anaconda3/lib/python3.6/site-packages/jupyter_contrib_nbextensions/nbextensions/skill/README.md -> /anaconda3/share/jupyter/nbextensions/skill/README.md\n",
      "[I 13:32:50 InstallContribNbextensionsApp] Copying: /anaconda3/lib/python3.6/site-packages/jupyter_contrib_nbextensions/nbextensions/skill/skill.js -> /anaconda3/share/jupyter/nbextensions/skill/skill.js\n",
      "[I 13:32:50 InstallContribNbextensionsApp] Copying: /anaconda3/lib/python3.6/site-packages/jupyter_contrib_nbextensions/nbextensions/skill/skill.yaml -> /anaconda3/share/jupyter/nbextensions/skill/skill.yaml\n",
      "[I 13:32:50 InstallContribNbextensionsApp] - Validating: \u001b[32mOK\u001b[0m\n",
      "[I 13:32:50 InstallContribNbextensionsApp] Installing /anaconda3/lib/python3.6/site-packages/jupyter_contrib_nbextensions/nbextensions/skip-traceback -> skip-traceback\n",
      "[I 13:32:50 InstallContribNbextensionsApp] Making directory: /anaconda3/share/jupyter/nbextensions/skip-traceback/\n",
      "[I 13:32:50 InstallContribNbextensionsApp] Copying: /anaconda3/lib/python3.6/site-packages/jupyter_contrib_nbextensions/nbextensions/skip-traceback/icon.png -> /anaconda3/share/jupyter/nbextensions/skip-traceback/icon.png\n",
      "[I 13:32:50 InstallContribNbextensionsApp] Copying: /anaconda3/lib/python3.6/site-packages/jupyter_contrib_nbextensions/nbextensions/skip-traceback/main.js -> /anaconda3/share/jupyter/nbextensions/skip-traceback/main.js\n",
      "[I 13:32:50 InstallContribNbextensionsApp] Copying: /anaconda3/lib/python3.6/site-packages/jupyter_contrib_nbextensions/nbextensions/skip-traceback/readme.md -> /anaconda3/share/jupyter/nbextensions/skip-traceback/readme.md\n",
      "[I 13:32:50 InstallContribNbextensionsApp] Copying: /anaconda3/lib/python3.6/site-packages/jupyter_contrib_nbextensions/nbextensions/skip-traceback/skip-traceback.png -> /anaconda3/share/jupyter/nbextensions/skip-traceback/skip-traceback.png\n",
      "[I 13:32:50 InstallContribNbextensionsApp] Copying: /anaconda3/lib/python3.6/site-packages/jupyter_contrib_nbextensions/nbextensions/skip-traceback/skip-traceback.yaml -> /anaconda3/share/jupyter/nbextensions/skip-traceback/skip-traceback.yaml\n",
      "[I 13:32:50 InstallContribNbextensionsApp] Copying: /anaconda3/lib/python3.6/site-packages/jupyter_contrib_nbextensions/nbextensions/skip-traceback/traceback.png -> /anaconda3/share/jupyter/nbextensions/skip-traceback/traceback.png\n",
      "[I 13:32:50 InstallContribNbextensionsApp] - Validating: \u001b[32mOK\u001b[0m\n",
      "[I 13:32:50 InstallContribNbextensionsApp] Installing /anaconda3/lib/python3.6/site-packages/jupyter_contrib_nbextensions/nbextensions/snippets -> snippets\n",
      "[I 13:32:50 InstallContribNbextensionsApp] Making directory: /anaconda3/share/jupyter/nbextensions/snippets/\n",
      "[I 13:32:50 InstallContribNbextensionsApp] Copying: /anaconda3/lib/python3.6/site-packages/jupyter_contrib_nbextensions/nbextensions/snippets/main.js -> /anaconda3/share/jupyter/nbextensions/snippets/main.js\n",
      "[I 13:32:50 InstallContribNbextensionsApp] Copying: /anaconda3/lib/python3.6/site-packages/jupyter_contrib_nbextensions/nbextensions/snippets/README.md -> /anaconda3/share/jupyter/nbextensions/snippets/README.md\n",
      "[I 13:32:50 InstallContribNbextensionsApp] Copying: /anaconda3/lib/python3.6/site-packages/jupyter_contrib_nbextensions/nbextensions/snippets/snippets-demo.gif -> /anaconda3/share/jupyter/nbextensions/snippets/snippets-demo.gif\n",
      "[I 13:32:50 InstallContribNbextensionsApp] Copying: /anaconda3/lib/python3.6/site-packages/jupyter_contrib_nbextensions/nbextensions/snippets/snippets.json -> /anaconda3/share/jupyter/nbextensions/snippets/snippets.json\n",
      "[I 13:32:50 InstallContribNbextensionsApp] Copying: /anaconda3/lib/python3.6/site-packages/jupyter_contrib_nbextensions/nbextensions/snippets/snippets.yaml -> /anaconda3/share/jupyter/nbextensions/snippets/snippets.yaml\n",
      "[I 13:32:50 InstallContribNbextensionsApp] - Validating: \u001b[32mOK\u001b[0m\n",
      "[I 13:32:50 InstallContribNbextensionsApp] Installing /anaconda3/lib/python3.6/site-packages/jupyter_contrib_nbextensions/nbextensions/snippets_menu -> snippets_menu\n",
      "[I 13:32:50 InstallContribNbextensionsApp] Making directory: /anaconda3/share/jupyter/nbextensions/snippets_menu/\n",
      "[I 13:32:50 InstallContribNbextensionsApp] Copying: /anaconda3/lib/python3.6/site-packages/jupyter_contrib_nbextensions/nbextensions/snippets_menu/config.yaml -> /anaconda3/share/jupyter/nbextensions/snippets_menu/config.yaml\n",
      "[I 13:32:50 InstallContribNbextensionsApp] Copying: /anaconda3/lib/python3.6/site-packages/jupyter_contrib_nbextensions/nbextensions/snippets_menu/examples_for_custom.js -> /anaconda3/share/jupyter/nbextensions/snippets_menu/examples_for_custom.js\n",
      "[I 13:32:50 InstallContribNbextensionsApp] Copying: /anaconda3/lib/python3.6/site-packages/jupyter_contrib_nbextensions/nbextensions/snippets_menu/main.js -> /anaconda3/share/jupyter/nbextensions/snippets_menu/main.js\n",
      "[I 13:32:50 InstallContribNbextensionsApp] Copying: /anaconda3/lib/python3.6/site-packages/jupyter_contrib_nbextensions/nbextensions/snippets_menu/readme.md -> /anaconda3/share/jupyter/nbextensions/snippets_menu/readme.md\n",
      "[I 13:32:50 InstallContribNbextensionsApp] Copying: /anaconda3/lib/python3.6/site-packages/jupyter_contrib_nbextensions/nbextensions/snippets_menu/screenshot1.png -> /anaconda3/share/jupyter/nbextensions/snippets_menu/screenshot1.png\n",
      "[I 13:32:50 InstallContribNbextensionsApp] Copying: /anaconda3/lib/python3.6/site-packages/jupyter_contrib_nbextensions/nbextensions/snippets_menu/screenshot2.png -> /anaconda3/share/jupyter/nbextensions/snippets_menu/screenshot2.png\n",
      "[I 13:32:50 InstallContribNbextensionsApp] Copying: /anaconda3/lib/python3.6/site-packages/jupyter_contrib_nbextensions/nbextensions/snippets_menu/screenshot3.png -> /anaconda3/share/jupyter/nbextensions/snippets_menu/screenshot3.png\n",
      "[I 13:32:50 InstallContribNbextensionsApp] Copying: /anaconda3/lib/python3.6/site-packages/jupyter_contrib_nbextensions/nbextensions/snippets_menu/snippets_menu.css -> /anaconda3/share/jupyter/nbextensions/snippets_menu/snippets_menu.css\n",
      "[I 13:32:50 InstallContribNbextensionsApp] Copying: /anaconda3/lib/python3.6/site-packages/jupyter_contrib_nbextensions/nbextensions/snippets_menu/snippets_submenu_markdown.js -> /anaconda3/share/jupyter/nbextensions/snippets_menu/snippets_submenu_markdown.js\n",
      "[I 13:32:50 InstallContribNbextensionsApp] Copying: /anaconda3/lib/python3.6/site-packages/jupyter_contrib_nbextensions/nbextensions/snippets_menu/snippets_submenu_python.js -> /anaconda3/share/jupyter/nbextensions/snippets_menu/snippets_submenu_python.js\n",
      "[I 13:32:50 InstallContribNbextensionsApp] Copying: /anaconda3/lib/python3.6/site-packages/jupyter_contrib_nbextensions/nbextensions/snippets_menu/thumbnail.png -> /anaconda3/share/jupyter/nbextensions/snippets_menu/thumbnail.png\n",
      "[I 13:32:50 InstallContribNbextensionsApp] Making directory: /anaconda3/share/jupyter/nbextensions/snippets_menu/snippets_submenus_python\n",
      "[I 13:32:50 InstallContribNbextensionsApp] Copying: /anaconda3/lib/python3.6/site-packages/jupyter_contrib_nbextensions/nbextensions/snippets_menu/snippets_submenus_python/astropy.js -> /anaconda3/share/jupyter/nbextensions/snippets_menu/snippets_submenus_python/astropy.js\n",
      "[I 13:32:50 InstallContribNbextensionsApp] Copying: /anaconda3/lib/python3.6/site-packages/jupyter_contrib_nbextensions/nbextensions/snippets_menu/snippets_submenus_python/h5py.js -> /anaconda3/share/jupyter/nbextensions/snippets_menu/snippets_submenus_python/h5py.js\n",
      "[I 13:32:50 InstallContribNbextensionsApp] Copying: /anaconda3/lib/python3.6/site-packages/jupyter_contrib_nbextensions/nbextensions/snippets_menu/snippets_submenus_python/matplotlib.js -> /anaconda3/share/jupyter/nbextensions/snippets_menu/snippets_submenus_python/matplotlib.js\n",
      "[I 13:32:50 InstallContribNbextensionsApp] Copying: /anaconda3/lib/python3.6/site-packages/jupyter_contrib_nbextensions/nbextensions/snippets_menu/snippets_submenus_python/numba.js -> /anaconda3/share/jupyter/nbextensions/snippets_menu/snippets_submenus_python/numba.js\n",
      "[I 13:32:50 InstallContribNbextensionsApp] Copying: /anaconda3/lib/python3.6/site-packages/jupyter_contrib_nbextensions/nbextensions/snippets_menu/snippets_submenus_python/numpy.js -> /anaconda3/share/jupyter/nbextensions/snippets_menu/snippets_submenus_python/numpy.js\n",
      "[I 13:32:50 InstallContribNbextensionsApp] Copying: /anaconda3/lib/python3.6/site-packages/jupyter_contrib_nbextensions/nbextensions/snippets_menu/snippets_submenus_python/numpy_polynomial.js -> /anaconda3/share/jupyter/nbextensions/snippets_menu/snippets_submenus_python/numpy_polynomial.js\n",
      "[I 13:32:50 InstallContribNbextensionsApp] Copying: /anaconda3/lib/python3.6/site-packages/jupyter_contrib_nbextensions/nbextensions/snippets_menu/snippets_submenus_python/numpy_ufuncs.js -> /anaconda3/share/jupyter/nbextensions/snippets_menu/snippets_submenus_python/numpy_ufuncs.js\n",
      "[I 13:32:50 InstallContribNbextensionsApp] Copying: /anaconda3/lib/python3.6/site-packages/jupyter_contrib_nbextensions/nbextensions/snippets_menu/snippets_submenus_python/pandas.js -> /anaconda3/share/jupyter/nbextensions/snippets_menu/snippets_submenus_python/pandas.js\n",
      "[I 13:32:50 InstallContribNbextensionsApp] Copying: /anaconda3/lib/python3.6/site-packages/jupyter_contrib_nbextensions/nbextensions/snippets_menu/snippets_submenus_python/python.js -> /anaconda3/share/jupyter/nbextensions/snippets_menu/snippets_submenus_python/python.js\n",
      "[I 13:32:50 InstallContribNbextensionsApp] Copying: /anaconda3/lib/python3.6/site-packages/jupyter_contrib_nbextensions/nbextensions/snippets_menu/snippets_submenus_python/python_regex.js -> /anaconda3/share/jupyter/nbextensions/snippets_menu/snippets_submenus_python/python_regex.js\n",
      "[I 13:32:50 InstallContribNbextensionsApp] Copying: /anaconda3/lib/python3.6/site-packages/jupyter_contrib_nbextensions/nbextensions/snippets_menu/snippets_submenus_python/scipy.js -> /anaconda3/share/jupyter/nbextensions/snippets_menu/snippets_submenus_python/scipy.js\n",
      "[I 13:32:50 InstallContribNbextensionsApp] Copying: /anaconda3/lib/python3.6/site-packages/jupyter_contrib_nbextensions/nbextensions/snippets_menu/snippets_submenus_python/scipy_constants.js -> /anaconda3/share/jupyter/nbextensions/snippets_menu/snippets_submenus_python/scipy_constants.js\n",
      "[I 13:32:50 InstallContribNbextensionsApp] Copying: /anaconda3/lib/python3.6/site-packages/jupyter_contrib_nbextensions/nbextensions/snippets_menu/snippets_submenus_python/scipy_special.js -> /anaconda3/share/jupyter/nbextensions/snippets_menu/snippets_submenus_python/scipy_special.js\n",
      "[I 13:32:50 InstallContribNbextensionsApp] Copying: /anaconda3/lib/python3.6/site-packages/jupyter_contrib_nbextensions/nbextensions/snippets_menu/snippets_submenus_python/sympy.js -> /anaconda3/share/jupyter/nbextensions/snippets_menu/snippets_submenus_python/sympy.js\n",
      "[I 13:32:50 InstallContribNbextensionsApp] Copying: /anaconda3/lib/python3.6/site-packages/jupyter_contrib_nbextensions/nbextensions/snippets_menu/snippets_submenus_python/sympy_assumptions.js -> /anaconda3/share/jupyter/nbextensions/snippets_menu/snippets_submenus_python/sympy_assumptions.js\n",
      "[I 13:32:50 InstallContribNbextensionsApp] Copying: /anaconda3/lib/python3.6/site-packages/jupyter_contrib_nbextensions/nbextensions/snippets_menu/snippets_submenus_python/sympy_functions.js -> /anaconda3/share/jupyter/nbextensions/snippets_menu/snippets_submenus_python/sympy_functions.js\n",
      "[I 13:32:50 InstallContribNbextensionsApp] - Validating: \u001b[32mOK\u001b[0m\n",
      "[I 13:32:50 InstallContribNbextensionsApp] Installing /anaconda3/lib/python3.6/site-packages/jupyter_contrib_nbextensions/nbextensions/spellchecker -> spellchecker\n",
      "[I 13:32:50 InstallContribNbextensionsApp] Making directory: /anaconda3/share/jupyter/nbextensions/spellchecker/\n",
      "[I 13:32:50 InstallContribNbextensionsApp] Copying: /anaconda3/lib/python3.6/site-packages/jupyter_contrib_nbextensions/nbextensions/spellchecker/config.yaml -> /anaconda3/share/jupyter/nbextensions/spellchecker/config.yaml\n",
      "[I 13:32:50 InstallContribNbextensionsApp] Copying: /anaconda3/lib/python3.6/site-packages/jupyter_contrib_nbextensions/nbextensions/spellchecker/download_new_dict.py -> /anaconda3/share/jupyter/nbextensions/spellchecker/download_new_dict.py\n",
      "[I 13:32:50 InstallContribNbextensionsApp] Copying: /anaconda3/lib/python3.6/site-packages/jupyter_contrib_nbextensions/nbextensions/spellchecker/main.css -> /anaconda3/share/jupyter/nbextensions/spellchecker/main.css\n",
      "[I 13:32:50 InstallContribNbextensionsApp] Copying: /anaconda3/lib/python3.6/site-packages/jupyter_contrib_nbextensions/nbextensions/spellchecker/main.js -> /anaconda3/share/jupyter/nbextensions/spellchecker/main.js\n",
      "[I 13:32:50 InstallContribNbextensionsApp] Copying: /anaconda3/lib/python3.6/site-packages/jupyter_contrib_nbextensions/nbextensions/spellchecker/README.md -> /anaconda3/share/jupyter/nbextensions/spellchecker/README.md\n",
      "[I 13:32:50 InstallContribNbextensionsApp] Copying: /anaconda3/lib/python3.6/site-packages/jupyter_contrib_nbextensions/nbextensions/spellchecker/screenshot.png -> /anaconda3/share/jupyter/nbextensions/spellchecker/screenshot.png\n",
      "[I 13:32:50 InstallContribNbextensionsApp] Making directory: /anaconda3/share/jupyter/nbextensions/spellchecker/__pycache__\n",
      "[I 13:32:50 InstallContribNbextensionsApp] Copying: /anaconda3/lib/python3.6/site-packages/jupyter_contrib_nbextensions/nbextensions/spellchecker/__pycache__/download_new_dict.cpython-36.pyc -> /anaconda3/share/jupyter/nbextensions/spellchecker/__pycache__/download_new_dict.cpython-36.pyc\n",
      "[I 13:32:50 InstallContribNbextensionsApp] Making directory: /anaconda3/share/jupyter/nbextensions/spellchecker/typo\n",
      "[I 13:32:50 InstallContribNbextensionsApp] Copying: /anaconda3/lib/python3.6/site-packages/jupyter_contrib_nbextensions/nbextensions/spellchecker/typo/LICENSE.txt -> /anaconda3/share/jupyter/nbextensions/spellchecker/typo/LICENSE.txt\n",
      "[I 13:32:50 InstallContribNbextensionsApp] Copying: /anaconda3/lib/python3.6/site-packages/jupyter_contrib_nbextensions/nbextensions/spellchecker/typo/typo.js -> /anaconda3/share/jupyter/nbextensions/spellchecker/typo/typo.js\n",
      "[I 13:32:50 InstallContribNbextensionsApp] - Validating: \u001b[32mOK\u001b[0m\n",
      "[I 13:32:50 InstallContribNbextensionsApp] Installing /anaconda3/lib/python3.6/site-packages/jupyter_contrib_nbextensions/nbextensions/splitcell -> splitcell\n",
      "[I 13:32:50 InstallContribNbextensionsApp] Making directory: /anaconda3/share/jupyter/nbextensions/splitcell/\n",
      "[I 13:32:50 InstallContribNbextensionsApp] Copying: /anaconda3/lib/python3.6/site-packages/jupyter_contrib_nbextensions/nbextensions/splitcell/icon.png -> /anaconda3/share/jupyter/nbextensions/splitcell/icon.png\n",
      "[I 13:32:50 InstallContribNbextensionsApp] Copying: /anaconda3/lib/python3.6/site-packages/jupyter_contrib_nbextensions/nbextensions/splitcell/readme.md -> /anaconda3/share/jupyter/nbextensions/splitcell/readme.md\n",
      "[I 13:32:50 InstallContribNbextensionsApp] Copying: /anaconda3/lib/python3.6/site-packages/jupyter_contrib_nbextensions/nbextensions/splitcell/splitcell.js -> /anaconda3/share/jupyter/nbextensions/splitcell/splitcell.js\n",
      "[I 13:32:50 InstallContribNbextensionsApp] Copying: /anaconda3/lib/python3.6/site-packages/jupyter_contrib_nbextensions/nbextensions/splitcell/splitcell.yaml -> /anaconda3/share/jupyter/nbextensions/splitcell/splitcell.yaml\n",
      "[I 13:32:50 InstallContribNbextensionsApp] - Validating: \u001b[32mOK\u001b[0m\n",
      "[I 13:32:50 InstallContribNbextensionsApp] Installing /anaconda3/lib/python3.6/site-packages/jupyter_contrib_nbextensions/nbextensions/table_beautifier -> table_beautifier\n",
      "[I 13:32:50 InstallContribNbextensionsApp] Making directory: /anaconda3/share/jupyter/nbextensions/table_beautifier/\n",
      "[I 13:32:50 InstallContribNbextensionsApp] Copying: /anaconda3/lib/python3.6/site-packages/jupyter_contrib_nbextensions/nbextensions/table_beautifier/main.css -> /anaconda3/share/jupyter/nbextensions/table_beautifier/main.css\n",
      "[I 13:32:50 InstallContribNbextensionsApp] Copying: /anaconda3/lib/python3.6/site-packages/jupyter_contrib_nbextensions/nbextensions/table_beautifier/main.js -> /anaconda3/share/jupyter/nbextensions/table_beautifier/main.js\n",
      "[I 13:32:50 InstallContribNbextensionsApp] Copying: /anaconda3/lib/python3.6/site-packages/jupyter_contrib_nbextensions/nbextensions/table_beautifier/README.md -> /anaconda3/share/jupyter/nbextensions/table_beautifier/README.md\n",
      "[I 13:32:50 InstallContribNbextensionsApp] Copying: /anaconda3/lib/python3.6/site-packages/jupyter_contrib_nbextensions/nbextensions/table_beautifier/table_beautifier.yaml -> /anaconda3/share/jupyter/nbextensions/table_beautifier/table_beautifier.yaml\n",
      "[I 13:32:50 InstallContribNbextensionsApp] - Validating: \u001b[32mOK\u001b[0m\n",
      "[I 13:32:50 InstallContribNbextensionsApp] Installing /anaconda3/lib/python3.6/site-packages/jupyter_contrib_nbextensions/nbextensions/toc2 -> toc2\n",
      "[I 13:32:50 InstallContribNbextensionsApp] Making directory: /anaconda3/share/jupyter/nbextensions/toc2/\n",
      "[I 13:32:50 InstallContribNbextensionsApp] Copying: /anaconda3/lib/python3.6/site-packages/jupyter_contrib_nbextensions/nbextensions/toc2/demo.gif -> /anaconda3/share/jupyter/nbextensions/toc2/demo.gif\n",
      "[I 13:32:50 InstallContribNbextensionsApp] Copying: /anaconda3/lib/python3.6/site-packages/jupyter_contrib_nbextensions/nbextensions/toc2/demo2.gif -> /anaconda3/share/jupyter/nbextensions/toc2/demo2.gif\n",
      "[I 13:32:50 InstallContribNbextensionsApp] Copying: /anaconda3/lib/python3.6/site-packages/jupyter_contrib_nbextensions/nbextensions/toc2/demo3.gif -> /anaconda3/share/jupyter/nbextensions/toc2/demo3.gif\n",
      "[I 13:32:50 InstallContribNbextensionsApp] Copying: /anaconda3/lib/python3.6/site-packages/jupyter_contrib_nbextensions/nbextensions/toc2/demo_dark.png -> /anaconda3/share/jupyter/nbextensions/toc2/demo_dark.png\n",
      "[I 13:32:50 InstallContribNbextensionsApp] Copying: /anaconda3/lib/python3.6/site-packages/jupyter_contrib_nbextensions/nbextensions/toc2/icon.png -> /anaconda3/share/jupyter/nbextensions/toc2/icon.png\n",
      "[I 13:32:50 InstallContribNbextensionsApp] Copying: /anaconda3/lib/python3.6/site-packages/jupyter_contrib_nbextensions/nbextensions/toc2/image.png -> /anaconda3/share/jupyter/nbextensions/toc2/image.png\n",
      "[I 13:32:50 InstallContribNbextensionsApp] Copying: /anaconda3/lib/python3.6/site-packages/jupyter_contrib_nbextensions/nbextensions/toc2/main.css -> /anaconda3/share/jupyter/nbextensions/toc2/main.css\n",
      "[I 13:32:50 InstallContribNbextensionsApp] Copying: /anaconda3/lib/python3.6/site-packages/jupyter_contrib_nbextensions/nbextensions/toc2/main.js -> /anaconda3/share/jupyter/nbextensions/toc2/main.js\n",
      "[I 13:32:50 InstallContribNbextensionsApp] Copying: /anaconda3/lib/python3.6/site-packages/jupyter_contrib_nbextensions/nbextensions/toc2/README.md -> /anaconda3/share/jupyter/nbextensions/toc2/README.md\n",
      "[I 13:32:50 InstallContribNbextensionsApp] Copying: /anaconda3/lib/python3.6/site-packages/jupyter_contrib_nbextensions/nbextensions/toc2/toc2.js -> /anaconda3/share/jupyter/nbextensions/toc2/toc2.js\n",
      "[I 13:32:50 InstallContribNbextensionsApp] Copying: /anaconda3/lib/python3.6/site-packages/jupyter_contrib_nbextensions/nbextensions/toc2/toc2.yaml -> /anaconda3/share/jupyter/nbextensions/toc2/toc2.yaml\n",
      "[I 13:32:50 InstallContribNbextensionsApp] - Validating: \u001b[32mOK\u001b[0m\n",
      "[I 13:32:50 InstallContribNbextensionsApp] Installing /anaconda3/lib/python3.6/site-packages/jupyter_contrib_nbextensions/nbextensions/toggle_all_line_numbers -> toggle_all_line_numbers\n",
      "[I 13:32:50 InstallContribNbextensionsApp] Making directory: /anaconda3/share/jupyter/nbextensions/toggle_all_line_numbers/\n",
      "[I 13:32:50 InstallContribNbextensionsApp] Copying: /anaconda3/lib/python3.6/site-packages/jupyter_contrib_nbextensions/nbextensions/toggle_all_line_numbers/icon.png -> /anaconda3/share/jupyter/nbextensions/toggle_all_line_numbers/icon.png\n",
      "[I 13:32:50 InstallContribNbextensionsApp] Copying: /anaconda3/lib/python3.6/site-packages/jupyter_contrib_nbextensions/nbextensions/toggle_all_line_numbers/main.js -> /anaconda3/share/jupyter/nbextensions/toggle_all_line_numbers/main.js\n",
      "[I 13:32:50 InstallContribNbextensionsApp] Copying: /anaconda3/lib/python3.6/site-packages/jupyter_contrib_nbextensions/nbextensions/toggle_all_line_numbers/main.yaml -> /anaconda3/share/jupyter/nbextensions/toggle_all_line_numbers/main.yaml\n",
      "[I 13:32:50 InstallContribNbextensionsApp] Copying: /anaconda3/lib/python3.6/site-packages/jupyter_contrib_nbextensions/nbextensions/toggle_all_line_numbers/readme.md -> /anaconda3/share/jupyter/nbextensions/toggle_all_line_numbers/readme.md\n",
      "[I 13:32:50 InstallContribNbextensionsApp] - Validating: \u001b[32mOK\u001b[0m\n",
      "[I 13:32:50 InstallContribNbextensionsApp] Installing /anaconda3/lib/python3.6/site-packages/jupyter_contrib_nbextensions/nbextensions/tree-filter -> tree-filter\n",
      "[I 13:32:50 InstallContribNbextensionsApp] Making directory: /anaconda3/share/jupyter/nbextensions/tree-filter/\n",
      "[I 13:32:50 InstallContribNbextensionsApp] Copying: /anaconda3/lib/python3.6/site-packages/jupyter_contrib_nbextensions/nbextensions/tree-filter/demo.gif -> /anaconda3/share/jupyter/nbextensions/tree-filter/demo.gif\n",
      "[I 13:32:50 InstallContribNbextensionsApp] Copying: /anaconda3/lib/python3.6/site-packages/jupyter_contrib_nbextensions/nbextensions/tree-filter/index.js -> /anaconda3/share/jupyter/nbextensions/tree-filter/index.js\n",
      "[I 13:32:50 InstallContribNbextensionsApp] Copying: /anaconda3/lib/python3.6/site-packages/jupyter_contrib_nbextensions/nbextensions/tree-filter/readme.md -> /anaconda3/share/jupyter/nbextensions/tree-filter/readme.md\n",
      "[I 13:32:50 InstallContribNbextensionsApp] Copying: /anaconda3/lib/python3.6/site-packages/jupyter_contrib_nbextensions/nbextensions/tree-filter/tree-filter.yaml -> /anaconda3/share/jupyter/nbextensions/tree-filter/tree-filter.yaml\n",
      "[I 13:32:50 InstallContribNbextensionsApp] - Validating: \u001b[32mOK\u001b[0m\n",
      "[I 13:32:50 InstallContribNbextensionsApp] Installing /anaconda3/lib/python3.6/site-packages/jupyter_contrib_nbextensions/nbextensions/varInspector -> varInspector\n",
      "[I 13:32:50 InstallContribNbextensionsApp] Making directory: /anaconda3/share/jupyter/nbextensions/varInspector/\n",
      "[I 13:32:50 InstallContribNbextensionsApp] Copying: /anaconda3/lib/python3.6/site-packages/jupyter_contrib_nbextensions/nbextensions/varInspector/demo.gif -> /anaconda3/share/jupyter/nbextensions/varInspector/demo.gif\n",
      "[I 13:32:50 InstallContribNbextensionsApp] Copying: /anaconda3/lib/python3.6/site-packages/jupyter_contrib_nbextensions/nbextensions/varInspector/icon.png -> /anaconda3/share/jupyter/nbextensions/varInspector/icon.png\n",
      "[I 13:32:50 InstallContribNbextensionsApp] Copying: /anaconda3/lib/python3.6/site-packages/jupyter_contrib_nbextensions/nbextensions/varInspector/jquery.tablesorter.min.js -> /anaconda3/share/jupyter/nbextensions/varInspector/jquery.tablesorter.min.js\n",
      "[I 13:32:50 InstallContribNbextensionsApp] Copying: /anaconda3/lib/python3.6/site-packages/jupyter_contrib_nbextensions/nbextensions/varInspector/main.css -> /anaconda3/share/jupyter/nbextensions/varInspector/main.css\n",
      "[I 13:32:50 InstallContribNbextensionsApp] Copying: /anaconda3/lib/python3.6/site-packages/jupyter_contrib_nbextensions/nbextensions/varInspector/main.js -> /anaconda3/share/jupyter/nbextensions/varInspector/main.js\n",
      "[I 13:32:50 InstallContribNbextensionsApp] Copying: /anaconda3/lib/python3.6/site-packages/jupyter_contrib_nbextensions/nbextensions/varInspector/README.md -> /anaconda3/share/jupyter/nbextensions/varInspector/README.md\n",
      "[I 13:32:50 InstallContribNbextensionsApp] Copying: /anaconda3/lib/python3.6/site-packages/jupyter_contrib_nbextensions/nbextensions/varInspector/tablesorter_LICENSE.txt -> /anaconda3/share/jupyter/nbextensions/varInspector/tablesorter_LICENSE.txt\n",
      "[I 13:32:50 InstallContribNbextensionsApp] Copying: /anaconda3/lib/python3.6/site-packages/jupyter_contrib_nbextensions/nbextensions/varInspector/var_list.py -> /anaconda3/share/jupyter/nbextensions/varInspector/var_list.py\n",
      "[I 13:32:50 InstallContribNbextensionsApp] Copying: /anaconda3/lib/python3.6/site-packages/jupyter_contrib_nbextensions/nbextensions/varInspector/var_list.r -> /anaconda3/share/jupyter/nbextensions/varInspector/var_list.r\n",
      "[I 13:32:50 InstallContribNbextensionsApp] Copying: /anaconda3/lib/python3.6/site-packages/jupyter_contrib_nbextensions/nbextensions/varInspector/varInspector.yaml -> /anaconda3/share/jupyter/nbextensions/varInspector/varInspector.yaml\n",
      "[I 13:32:50 InstallContribNbextensionsApp] Making directory: /anaconda3/share/jupyter/nbextensions/varInspector/__pycache__\n",
      "[I 13:32:50 InstallContribNbextensionsApp] Copying: /anaconda3/lib/python3.6/site-packages/jupyter_contrib_nbextensions/nbextensions/varInspector/__pycache__/var_list.cpython-36.pyc -> /anaconda3/share/jupyter/nbextensions/varInspector/__pycache__/var_list.cpython-36.pyc\n",
      "[I 13:32:50 InstallContribNbextensionsApp] - Validating: \u001b[32mOK\u001b[0m\n",
      "[I 13:32:50 InstallContribNbextensionsApp] Installing /anaconda3/lib/python3.6/site-packages/jupyter_contrib_nbextensions/nbextensions/zenmode -> zenmode\n",
      "[I 13:32:50 InstallContribNbextensionsApp] Making directory: /anaconda3/share/jupyter/nbextensions/zenmode/\n",
      "[I 13:32:50 InstallContribNbextensionsApp] Copying: /anaconda3/lib/python3.6/site-packages/jupyter_contrib_nbextensions/nbextensions/zenmode/main.css -> /anaconda3/share/jupyter/nbextensions/zenmode/main.css\n",
      "[I 13:32:50 InstallContribNbextensionsApp] Copying: /anaconda3/lib/python3.6/site-packages/jupyter_contrib_nbextensions/nbextensions/zenmode/main.js -> /anaconda3/share/jupyter/nbextensions/zenmode/main.js\n",
      "[I 13:32:50 InstallContribNbextensionsApp] Copying: /anaconda3/lib/python3.6/site-packages/jupyter_contrib_nbextensions/nbextensions/zenmode/README.md -> /anaconda3/share/jupyter/nbextensions/zenmode/README.md\n",
      "[I 13:32:50 InstallContribNbextensionsApp] Copying: /anaconda3/lib/python3.6/site-packages/jupyter_contrib_nbextensions/nbextensions/zenmode/zenmode.yaml -> /anaconda3/share/jupyter/nbextensions/zenmode/zenmode.yaml\n",
      "[I 13:32:50 InstallContribNbextensionsApp] Making directory: /anaconda3/share/jupyter/nbextensions/zenmode/images\n",
      "[I 13:32:50 InstallContribNbextensionsApp] Copying: /anaconda3/lib/python3.6/site-packages/jupyter_contrib_nbextensions/nbextensions/zenmode/images/back1.jpg -> /anaconda3/share/jupyter/nbextensions/zenmode/images/back1.jpg\n",
      "[I 13:32:50 InstallContribNbextensionsApp] Copying: /anaconda3/lib/python3.6/site-packages/jupyter_contrib_nbextensions/nbextensions/zenmode/images/back11.jpg -> /anaconda3/share/jupyter/nbextensions/zenmode/images/back11.jpg\n",
      "[I 13:32:50 InstallContribNbextensionsApp] Copying: /anaconda3/lib/python3.6/site-packages/jupyter_contrib_nbextensions/nbextensions/zenmode/images/back12.jpg -> /anaconda3/share/jupyter/nbextensions/zenmode/images/back12.jpg\n",
      "[I 13:32:50 InstallContribNbextensionsApp] Copying: /anaconda3/lib/python3.6/site-packages/jupyter_contrib_nbextensions/nbextensions/zenmode/images/back2.jpg -> /anaconda3/share/jupyter/nbextensions/zenmode/images/back2.jpg\n",
      "[I 13:32:50 InstallContribNbextensionsApp] Copying: /anaconda3/lib/python3.6/site-packages/jupyter_contrib_nbextensions/nbextensions/zenmode/images/back21.jpg -> /anaconda3/share/jupyter/nbextensions/zenmode/images/back21.jpg\n",
      "[I 13:32:50 InstallContribNbextensionsApp] Copying: /anaconda3/lib/python3.6/site-packages/jupyter_contrib_nbextensions/nbextensions/zenmode/images/back22.jpg -> /anaconda3/share/jupyter/nbextensions/zenmode/images/back22.jpg\n",
      "[I 13:32:50 InstallContribNbextensionsApp] Copying: /anaconda3/lib/python3.6/site-packages/jupyter_contrib_nbextensions/nbextensions/zenmode/images/back3.jpg -> /anaconda3/share/jupyter/nbextensions/zenmode/images/back3.jpg\n",
      "[I 13:32:50 InstallContribNbextensionsApp] Copying: /anaconda3/lib/python3.6/site-packages/jupyter_contrib_nbextensions/nbextensions/zenmode/images/ipynblogo0.png -> /anaconda3/share/jupyter/nbextensions/zenmode/images/ipynblogo0.png\n",
      "[I 13:32:50 InstallContribNbextensionsApp] Copying: /anaconda3/lib/python3.6/site-packages/jupyter_contrib_nbextensions/nbextensions/zenmode/images/ipynblogo1.png -> /anaconda3/share/jupyter/nbextensions/zenmode/images/ipynblogo1.png\n",
      "[I 13:32:50 InstallContribNbextensionsApp] - Validating: \u001b[32mOK\u001b[0m\n",
      "[I 13:32:50 InstallContribNbextensionsApp] Installing /anaconda3/lib/python3.6/site-packages/jupyter_highlight_selected_word/static/highlight_selected_word -> highlight_selected_word\n",
      "[I 13:32:50 InstallContribNbextensionsApp] Making directory: /anaconda3/share/jupyter/nbextensions/highlight_selected_word/\n",
      "[I 13:32:50 InstallContribNbextensionsApp] Copying: /anaconda3/lib/python3.6/site-packages/jupyter_highlight_selected_word/static/highlight_selected_word/configurator.yaml -> /anaconda3/share/jupyter/nbextensions/highlight_selected_word/configurator.yaml\n",
      "[I 13:32:50 InstallContribNbextensionsApp] Copying: /anaconda3/lib/python3.6/site-packages/jupyter_highlight_selected_word/static/highlight_selected_word/main.css -> /anaconda3/share/jupyter/nbextensions/highlight_selected_word/main.css\n",
      "[I 13:32:50 InstallContribNbextensionsApp] Copying: /anaconda3/lib/python3.6/site-packages/jupyter_highlight_selected_word/static/highlight_selected_word/main.js -> /anaconda3/share/jupyter/nbextensions/highlight_selected_word/main.js\n",
      "[I 13:32:50 InstallContribNbextensionsApp] Copying: /anaconda3/lib/python3.6/site-packages/jupyter_highlight_selected_word/static/highlight_selected_word/package.json -> /anaconda3/share/jupyter/nbextensions/highlight_selected_word/package.json\n",
      "[I 13:32:50 InstallContribNbextensionsApp] Copying: /anaconda3/lib/python3.6/site-packages/jupyter_highlight_selected_word/static/highlight_selected_word/README.md -> /anaconda3/share/jupyter/nbextensions/highlight_selected_word/README.md\n",
      "[I 13:32:50 InstallContribNbextensionsApp] - Validating: \u001b[32mOK\u001b[0m\n",
      "[I 13:32:50 InstallContribNbextensionsApp] Installing /anaconda3/lib/python3.6/site-packages/latex_envs/static -> latex_envs\n",
      "[I 13:32:50 InstallContribNbextensionsApp] Making directory: /anaconda3/share/jupyter/nbextensions/latex_envs/\n",
      "[I 13:32:50 InstallContribNbextensionsApp] Copying: /anaconda3/lib/python3.6/site-packages/latex_envs/static/bibInNb4.js -> /anaconda3/share/jupyter/nbextensions/latex_envs/bibInNb4.js\n",
      "[I 13:32:50 InstallContribNbextensionsApp] Copying: /anaconda3/lib/python3.6/site-packages/latex_envs/static/bibtex2.js -> /anaconda3/share/jupyter/nbextensions/latex_envs/bibtex2.js\n",
      "[I 13:32:50 InstallContribNbextensionsApp] Copying: /anaconda3/lib/python3.6/site-packages/latex_envs/static/configuration_toolbar.png -> /anaconda3/share/jupyter/nbextensions/latex_envs/configuration_toolbar.png\n",
      "[I 13:32:50 InstallContribNbextensionsApp] Copying: /anaconda3/lib/python3.6/site-packages/latex_envs/static/envsLatex.json -> /anaconda3/share/jupyter/nbextensions/latex_envs/envsLatex.json\n",
      "[I 13:32:50 InstallContribNbextensionsApp] Copying: /anaconda3/lib/python3.6/site-packages/latex_envs/static/example.png -> /anaconda3/share/jupyter/nbextensions/latex_envs/example.png\n",
      "[I 13:32:50 InstallContribNbextensionsApp] Copying: /anaconda3/lib/python3.6/site-packages/latex_envs/static/example_user_envs.json -> /anaconda3/share/jupyter/nbextensions/latex_envs/example_user_envs.json\n",
      "[I 13:32:50 InstallContribNbextensionsApp] Copying: /anaconda3/lib/python3.6/site-packages/latex_envs/static/icon.png -> /anaconda3/share/jupyter/nbextensions/latex_envs/icon.png\n",
      "[I 13:32:50 InstallContribNbextensionsApp] Copying: /anaconda3/lib/python3.6/site-packages/latex_envs/static/initNb.js -> /anaconda3/share/jupyter/nbextensions/latex_envs/initNb.js\n",
      "[I 13:32:50 InstallContribNbextensionsApp] Copying: /anaconda3/lib/python3.6/site-packages/latex_envs/static/latex_envs.css -> /anaconda3/share/jupyter/nbextensions/latex_envs/latex_envs.css\n",
      "[I 13:32:50 InstallContribNbextensionsApp] Copying: /anaconda3/lib/python3.6/site-packages/latex_envs/static/latex_envs.js -> /anaconda3/share/jupyter/nbextensions/latex_envs/latex_envs.js\n",
      "[I 13:32:50 InstallContribNbextensionsApp] Copying: /anaconda3/lib/python3.6/site-packages/latex_envs/static/latex_envs.yaml -> /anaconda3/share/jupyter/nbextensions/latex_envs/latex_envs.yaml\n",
      "[I 13:32:50 InstallContribNbextensionsApp] Copying: /anaconda3/lib/python3.6/site-packages/latex_envs/static/main_toolbar.png -> /anaconda3/share/jupyter/nbextensions/latex_envs/main_toolbar.png\n",
      "[I 13:32:50 InstallContribNbextensionsApp] Copying: /anaconda3/lib/python3.6/site-packages/latex_envs/static/README.md -> /anaconda3/share/jupyter/nbextensions/latex_envs/README.md\n",
      "[I 13:32:50 InstallContribNbextensionsApp] Copying: /anaconda3/lib/python3.6/site-packages/latex_envs/static/thmsInNb4.js -> /anaconda3/share/jupyter/nbextensions/latex_envs/thmsInNb4.js\n",
      "[I 13:32:50 InstallContribNbextensionsApp] Making directory: /anaconda3/share/jupyter/nbextensions/latex_envs/doc\n",
      "[I 13:32:50 InstallContribNbextensionsApp] Copying: /anaconda3/lib/python3.6/site-packages/latex_envs/static/doc/biblio_ipython.bib -> /anaconda3/share/jupyter/nbextensions/latex_envs/doc/biblio_ipython.bib\n",
      "[I 13:32:50 InstallContribNbextensionsApp] Copying: /anaconda3/lib/python3.6/site-packages/latex_envs/static/doc/config_toolbar.png -> /anaconda3/share/jupyter/nbextensions/latex_envs/doc/config_toolbar.png\n",
      "[I 13:32:50 InstallContribNbextensionsApp] Copying: /anaconda3/lib/python3.6/site-packages/latex_envs/static/doc/configuration_toolbar.png -> /anaconda3/share/jupyter/nbextensions/latex_envs/doc/configuration_toolbar.png\n",
      "[I 13:32:50 InstallContribNbextensionsApp] Copying: /anaconda3/lib/python3.6/site-packages/latex_envs/static/doc/documentation.pdf -> /anaconda3/share/jupyter/nbextensions/latex_envs/doc/documentation.pdf\n",
      "[I 13:32:50 InstallContribNbextensionsApp] Copying: /anaconda3/lib/python3.6/site-packages/latex_envs/static/doc/documentation.tex -> /anaconda3/share/jupyter/nbextensions/latex_envs/doc/documentation.tex\n",
      "[I 13:32:50 InstallContribNbextensionsApp] Copying: /anaconda3/lib/python3.6/site-packages/latex_envs/static/doc/example.png -> /anaconda3/share/jupyter/nbextensions/latex_envs/doc/example.png\n",
      "[I 13:32:50 InstallContribNbextensionsApp] Copying: /anaconda3/lib/python3.6/site-packages/latex_envs/static/doc/header.tex -> /anaconda3/share/jupyter/nbextensions/latex_envs/doc/header.tex\n",
      "[I 13:32:50 InstallContribNbextensionsApp] Copying: /anaconda3/lib/python3.6/site-packages/latex_envs/static/doc/IEEEtran.bst -> /anaconda3/share/jupyter/nbextensions/latex_envs/doc/IEEEtran.bst\n",
      "[I 13:32:50 InstallContribNbextensionsApp] Copying: /anaconda3/lib/python3.6/site-packages/latex_envs/static/doc/latex_env_doc.html -> /anaconda3/share/jupyter/nbextensions/latex_envs/doc/latex_env_doc.html\n",
      "[I 13:32:50 InstallContribNbextensionsApp] Copying: /anaconda3/lib/python3.6/site-packages/latex_envs/static/doc/latex_env_doc.ipynb -> /anaconda3/share/jupyter/nbextensions/latex_envs/doc/latex_env_doc.ipynb\n",
      "[I 13:32:50 InstallContribNbextensionsApp] Copying: /anaconda3/lib/python3.6/site-packages/latex_envs/static/doc/latex_env_doc.tex -> /anaconda3/share/jupyter/nbextensions/latex_envs/doc/latex_env_doc.tex\n",
      "[I 13:32:50 InstallContribNbextensionsApp] Copying: /anaconda3/lib/python3.6/site-packages/latex_envs/static/doc/LaTeX_envs_menu.png -> /anaconda3/share/jupyter/nbextensions/latex_envs/doc/LaTeX_envs_menu.png\n",
      "[I 13:32:50 InstallContribNbextensionsApp] Copying: /anaconda3/lib/python3.6/site-packages/latex_envs/static/doc/main_toolbar.png -> /anaconda3/share/jupyter/nbextensions/latex_envs/doc/main_toolbar.png\n",
      "[I 13:32:50 InstallContribNbextensionsApp] Copying: /anaconda3/lib/python3.6/site-packages/latex_envs/static/doc/README.md -> /anaconda3/share/jupyter/nbextensions/latex_envs/doc/README.md\n",
      "[I 13:32:50 InstallContribNbextensionsApp] Copying: /anaconda3/lib/python3.6/site-packages/latex_envs/static/doc/Toggles.png -> /anaconda3/share/jupyter/nbextensions/latex_envs/doc/Toggles.png\n",
      "[I 13:32:50 InstallContribNbextensionsApp] Making directory: /anaconda3/share/jupyter/nbextensions/latex_envs/doc/.ipynb_checkpoints\n",
      "[I 13:32:50 InstallContribNbextensionsApp] Copying: /anaconda3/lib/python3.6/site-packages/latex_envs/static/doc/.ipynb_checkpoints/latex_env_doc-checkpoint.ipynb -> /anaconda3/share/jupyter/nbextensions/latex_envs/doc/.ipynb_checkpoints/latex_env_doc-checkpoint.ipynb\n",
      "[I 13:32:50 InstallContribNbextensionsApp] Making directory: /anaconda3/share/jupyter/nbextensions/latex_envs/doc/latex_env_doc_files\n",
      "[I 13:32:50 InstallContribNbextensionsApp] Copying: /anaconda3/lib/python3.6/site-packages/latex_envs/static/doc/latex_env_doc_files/latex_env_doc_23_2.png -> /anaconda3/share/jupyter/nbextensions/latex_envs/doc/latex_env_doc_files/latex_env_doc_23_2.png\n",
      "[I 13:32:50 InstallContribNbextensionsApp] Copying: /anaconda3/lib/python3.6/site-packages/latex_envs/static/doc/latex_env_doc_files/latex_env_doc_24_2.png -> /anaconda3/share/jupyter/nbextensions/latex_envs/doc/latex_env_doc_files/latex_env_doc_24_2.png\n",
      "[I 13:32:50 InstallContribNbextensionsApp] Copying: /anaconda3/lib/python3.6/site-packages/latex_envs/static/doc/latex_env_doc_files/latex_env_doc_26_2.png -> /anaconda3/share/jupyter/nbextensions/latex_envs/doc/latex_env_doc_files/latex_env_doc_26_2.png\n",
      "[I 13:32:50 InstallContribNbextensionsApp] Copying: /anaconda3/lib/python3.6/site-packages/latex_envs/static/doc/latex_env_doc_files/latex_env_doc_27_2.png -> /anaconda3/share/jupyter/nbextensions/latex_envs/doc/latex_env_doc_files/latex_env_doc_27_2.png\n",
      "[I 13:32:50 InstallContribNbextensionsApp] Copying: /anaconda3/lib/python3.6/site-packages/latex_envs/static/doc/latex_env_doc_files/latex_env_doc_41_0.png -> /anaconda3/share/jupyter/nbextensions/latex_envs/doc/latex_env_doc_files/latex_env_doc_41_0.png\n",
      "[I 13:32:50 InstallContribNbextensionsApp] Copying: /anaconda3/lib/python3.6/site-packages/latex_envs/static/doc/latex_env_doc_files/latex_env_doc_42_0.png -> /anaconda3/share/jupyter/nbextensions/latex_envs/doc/latex_env_doc_files/latex_env_doc_42_0.png\n",
      "[I 13:32:50 InstallContribNbextensionsApp] Copying: /anaconda3/lib/python3.6/site-packages/latex_envs/static/doc/latex_env_doc_files/latex_env_doc_43_0.png -> /anaconda3/share/jupyter/nbextensions/latex_envs/doc/latex_env_doc_files/latex_env_doc_43_0.png\n",
      "[I 13:32:50 InstallContribNbextensionsApp] Copying: /anaconda3/lib/python3.6/site-packages/latex_envs/static/doc/latex_env_doc_files/latex_env_doc_44_0.png -> /anaconda3/share/jupyter/nbextensions/latex_envs/doc/latex_env_doc_files/latex_env_doc_44_0.png\n",
      "[I 13:32:50 InstallContribNbextensionsApp] Copying: /anaconda3/lib/python3.6/site-packages/latex_envs/static/doc/latex_env_doc_files/latex_env_doc_45_0.png -> /anaconda3/share/jupyter/nbextensions/latex_envs/doc/latex_env_doc_files/latex_env_doc_45_0.png\n",
      "[I 13:32:50 InstallContribNbextensionsApp] Copying: /anaconda3/lib/python3.6/site-packages/latex_envs/static/doc/latex_env_doc_files/latex_env_doc_46_0.png -> /anaconda3/share/jupyter/nbextensions/latex_envs/doc/latex_env_doc_files/latex_env_doc_46_0.png\n",
      "[I 13:32:50 InstallContribNbextensionsApp] Copying: /anaconda3/lib/python3.6/site-packages/latex_envs/static/doc/latex_env_doc_files/latex_env_doc_47_0.png -> /anaconda3/share/jupyter/nbextensions/latex_envs/doc/latex_env_doc_files/latex_env_doc_47_0.png\n",
      "[I 13:32:50 InstallContribNbextensionsApp] Copying: /anaconda3/lib/python3.6/site-packages/latex_envs/static/doc/latex_env_doc_files/latex_env_doc_48_0.png -> /anaconda3/share/jupyter/nbextensions/latex_envs/doc/latex_env_doc_files/latex_env_doc_48_0.png\n",
      "[I 13:32:50 InstallContribNbextensionsApp] Copying: /anaconda3/lib/python3.6/site-packages/latex_envs/static/doc/latex_env_doc_files/latex_env_doc_49_0.png -> /anaconda3/share/jupyter/nbextensions/latex_envs/doc/latex_env_doc_files/latex_env_doc_49_0.png\n",
      "[I 13:32:50 InstallContribNbextensionsApp] Copying: /anaconda3/lib/python3.6/site-packages/latex_envs/static/doc/latex_env_doc_files/latex_env_doc_50_0.png -> /anaconda3/share/jupyter/nbextensions/latex_envs/doc/latex_env_doc_files/latex_env_doc_50_0.png\n",
      "[I 13:32:50 InstallContribNbextensionsApp] Copying: /anaconda3/lib/python3.6/site-packages/latex_envs/static/doc/latex_env_doc_files/latex_env_doc_51_0.png -> /anaconda3/share/jupyter/nbextensions/latex_envs/doc/latex_env_doc_files/latex_env_doc_51_0.png\n",
      "[I 13:32:50 InstallContribNbextensionsApp] Copying: /anaconda3/lib/python3.6/site-packages/latex_envs/static/doc/latex_env_doc_files/latex_env_doc_52_0.png -> /anaconda3/share/jupyter/nbextensions/latex_envs/doc/latex_env_doc_files/latex_env_doc_52_0.png\n",
      "[I 13:32:50 InstallContribNbextensionsApp] - Validating: \u001b[32mOK\u001b[0m\n",
      "[I 13:32:50 InstallContribNbextensionsApp] Installing jupyter_contrib_nbextensions items to config in /anaconda3/etc/jupyter\n",
      "Enabling: jupyter_nbextensions_configurator\n",
      "- Writing config: /anaconda3/etc/jupyter\n",
      "    - Validating...\n",
      "      jupyter_nbextensions_configurator  \u001b[32mOK\u001b[0m\n",
      "Enabling notebook nbextension nbextensions_configurator/config_menu/main...\n",
      "Enabling tree nbextension nbextensions_configurator/tree_tab/main...\n",
      "[I 13:32:50 InstallContribNbextensionsApp] Enabling notebook extension contrib_nbextensions_help_item/main...\n",
      "[I 13:32:50 InstallContribNbextensionsApp]       - Validating: \u001b[32mOK\u001b[0m\n",
      "[I 13:32:50 InstallContribNbextensionsApp] - Editing config: /anaconda3/etc/jupyter/jupyter_nbconvert_config.json\n",
      "[I 13:32:50 InstallContribNbextensionsApp] --  Configuring nbconvert template path\n",
      "[I 13:32:50 InstallContribNbextensionsApp] --  Configuring nbconvert preprocessors\n",
      "[I 13:32:50 InstallContribNbextensionsApp] - Writing config: /anaconda3/etc/jupyter/jupyter_nbconvert_config.json\n",
      "[I 13:32:50 InstallContribNbextensionsApp] --  Writing updated config file /anaconda3/etc/jupyter/jupyter_nbconvert_config.json\n"
     ]
    }
   ],
   "source": [
    "%%bash\n",
    "jupyter contrib nbextensions install --sys-prefix --skip-running-check"
   ]
  },
  {
   "cell_type": "code",
   "execution_count": 63,
   "metadata": {
    "collapsed": true
   },
   "outputs": [
    {
     "name": "stdout",
     "output_type": "stream",
     "text": [
      "Requirement already satisfied: jupyter_nbextensions_configurator in /anaconda3/lib/python3.6/site-packages\n",
      "Requirement already satisfied: notebook>=4.0 in /anaconda3/lib/python3.6/site-packages (from jupyter_nbextensions_configurator)\n",
      "Requirement already satisfied: tornado in /anaconda3/lib/python3.6/site-packages (from jupyter_nbextensions_configurator)\n",
      "Requirement already satisfied: jupyter-core in /anaconda3/lib/python3.6/site-packages (from jupyter_nbextensions_configurator)\n",
      "Requirement already satisfied: traitlets in /anaconda3/lib/python3.6/site-packages (from jupyter_nbextensions_configurator)\n",
      "Requirement already satisfied: jupyter-contrib-core>=0.3.3 in /anaconda3/lib/python3.6/site-packages (from jupyter_nbextensions_configurator)\n",
      "Requirement already satisfied: pyyaml in /anaconda3/lib/python3.6/site-packages (from jupyter_nbextensions_configurator)\n",
      "Requirement already satisfied: ipython_genutils in /anaconda3/lib/python3.6/site-packages (from traitlets->jupyter_nbextensions_configurator)\n",
      "Requirement already satisfied: six in /anaconda3/lib/python3.6/site-packages (from traitlets->jupyter_nbextensions_configurator)\n",
      "Requirement already satisfied: decorator in /anaconda3/lib/python3.6/site-packages (from traitlets->jupyter_nbextensions_configurator)\n",
      "Requirement already satisfied: setuptools in /anaconda3/lib/python3.6/site-packages (from jupyter-contrib-core>=0.3.3->jupyter_nbextensions_configurator)\n"
     ]
    }
   ],
   "source": [
    "%%bash\n",
    "pip install jupyter_nbextensions_configurator"
   ]
  },
  {
   "cell_type": "code",
   "execution_count": 64,
   "metadata": {
    "collapsed": true
   },
   "outputs": [
    {
     "name": "stderr",
     "output_type": "stream",
     "text": [
      "Enabling: jupyter_nbextensions_configurator\n",
      "- Writing config: /Users/justinlongo 1/.jupyter\n",
      "    - Validating...\n",
      "      jupyter_nbextensions_configurator  \u001b[32mOK\u001b[0m\n",
      "Enabling notebook nbextension nbextensions_configurator/config_menu/main...\n",
      "Enabling tree nbextension nbextensions_configurator/tree_tab/main...\n"
     ]
    }
   ],
   "source": [
    "%%bash\n",
    "jupyter nbextensions_configurator enable --user"
   ]
  },
  {
   "cell_type": "markdown",
   "metadata": {},
   "source": [
    "Lab 7 is an exercise to get acquainted with `Jupyter Notebooks`, using the familiarity of a policy briefing note as a framework. \n",
    "\n",
    "Notebooks allow for a mix of code, text, and graphics, making them an ideal platform for policy analytics briefing notes. \n",
    "\n",
    "Start by renaming this notebook template \"JSGS 867 Lab 7 *Your Name*\", and then edit this template to produce your own interactive briefing notebook. \n",
    "\n",
    "In this document, wherever you see *italicized text*, replace it with your own text.\n",
    "\n",
    "This is a toy problem to illustrate how a briefing note might be written in Jupyter Notebook. The final briefing note you create won't necessarily make sense, but it will illustrate how markdown text and code can be combined into a dynamic policy analytics briefing note. Don't spend long writing the text in the note below. The task involves mostly cutting-and-pasting your work from lab #5 In the format of a briefing note. \n",
    "\n",
    "When you are done reading these introductory instructions, delete this cell and the one above it."
   ]
  },
  {
   "cell_type": "markdown",
   "metadata": {},
   "source": [
    "Date: *(enter the date of your submission)*\n",
    "\n",
    "File: *(make up a file number)*"
   ]
  },
  {
   "cell_type": "markdown",
   "metadata": {
    "slideshow": {
     "slide_type": "-"
    }
   },
   "source": [
    "MINISTRY of CENTRAL SERVICES\n",
    "\n",
    "BRIEFING NOTE FOR INFORMATION"
   ]
  },
  {
   "cell_type": "markdown",
   "metadata": {},
   "source": [
    "In the cell above, change the name of the Ministry to \"MINISTRY of CORPORATE SERVICES\" then delete this cell."
   ]
  },
  {
   "cell_type": "markdown",
   "metadata": {
    "collapsed": true
   },
   "source": [
    "I. PREPARED FOR: Paula C. Anilitics, Deputy Minister"
   ]
  },
  {
   "cell_type": "markdown",
   "metadata": {},
   "source": [
    "insert a Python command in the next cell that prints the output \"PREPARED BY: *Your Name*\". Then delete this cell."
   ]
  },
  {
   "cell_type": "code",
   "execution_count": null,
   "metadata": {
    "collapsed": true
   },
   "outputs": [],
   "source": []
  },
  {
   "cell_type": "markdown",
   "metadata": {},
   "source": [
    "II. ISSUE"
   ]
  },
  {
   "cell_type": "code",
   "execution_count": null,
   "metadata": {},
   "outputs": [],
   "source": [
    "%%bash\n",
    "pip install requests"
   ]
  },
  {
   "cell_type": "code",
   "execution_count": null,
   "metadata": {},
   "outputs": [],
   "source": [
    "#copy-and-paste Python code from lab 5"
   ]
  },
  {
   "cell_type": "markdown",
   "metadata": {},
   "source": [
    "III. ANALYSIS"
   ]
  },
  {
   "cell_type": "code",
   "execution_count": null,
   "metadata": {
    "collapsed": true
   },
   "outputs": [],
   "source": [
    "#copy-and-Paste more Python code"
   ]
  },
  {
   "cell_type": "markdown",
   "metadata": {},
   "source": [
    "IV. DISCUSSION"
   ]
  },
  {
   "cell_type": "code",
   "execution_count": null,
   "metadata": {
    "collapsed": true
   },
   "outputs": [],
   "source": [
    "#do something new with Python"
   ]
  },
  {
   "cell_type": "markdown",
   "metadata": {},
   "source": [
    "V. RECOMMENDATION\n",
    "\n",
    "| Option | Description |\n",
    "| :------:| -----------:|\n",
    "| data   | path to data files to supply the data that will be passed into templates. |\n",
    "| engine | engine to be used for processing templates. Handlebars is the default. |\n",
    "| ext    | extension to be used for dest files. |"
   ]
  },
  {
   "cell_type": "code",
   "execution_count": null,
   "metadata": {
    "collapsed": true
   },
   "outputs": [],
   "source": [
    "#do something with a magic command"
   ]
  },
  {
   "cell_type": "markdown",
   "metadata": {},
   "source": [
    "## Code cells allow you to enter and run code"
   ]
  },
  {
   "cell_type": "markdown",
   "metadata": {},
   "source": [
    "Run a code cell using `Shift-Enter` or pressing the <button class='btn btn-default btn-xs'><i class=\"icon-step-forward fa fa-step-forward\"></i></button> button in the toolbar above:"
   ]
  },
  {
   "cell_type": "code",
   "execution_count": null,
   "metadata": {
    "collapsed": true
   },
   "outputs": [],
   "source": [
    "a = 20"
   ]
  },
  {
   "cell_type": "code",
   "execution_count": null,
   "metadata": {},
   "outputs": [],
   "source": [
    "print(a)"
   ]
  },
  {
   "cell_type": "code",
   "execution_count": null,
   "metadata": {},
   "outputs": [],
   "source": [
    "'Hello World'"
   ]
  },
  {
   "cell_type": "code",
   "execution_count": null,
   "metadata": {},
   "outputs": [],
   "source": [
    "print('Hello World!')"
   ]
  },
  {
   "cell_type": "markdown",
   "metadata": {},
   "source": [
    "## Magic Commands"
   ]
  },
  {
   "cell_type": "code",
   "execution_count": null,
   "metadata": {},
   "outputs": [],
   "source": [
    "%lsmagic"
   ]
  },
  {
   "cell_type": "code",
   "execution_count": null,
   "metadata": {},
   "outputs": [],
   "source": [
    "%pwd"
   ]
  },
  {
   "cell_type": "markdown",
   "metadata": {},
   "source": [
    "There are two other keyboard shortcuts for running code:\n",
    "\n",
    "* `Alt-Enter` runs the current cell and inserts a new one below.\n",
    "* `Ctrl-Enter` run the current cell and enters command mode."
   ]
  },
  {
   "cell_type": "code",
   "execution_count": null,
   "metadata": {},
   "outputs": [],
   "source": [
    "%%HTML\n",
    "<iframe width=\"560\" height=\"315\" src=\"https://www.youtube.com/embed/HW29067qVWk\" frameborder=\"0\" allowfullscreen></iframe>"
   ]
  },
  {
   "cell_type": "markdown",
   "metadata": {},
   "source": [
    "## Managing the Kernel"
   ]
  },
  {
   "cell_type": "markdown",
   "metadata": {},
   "source": [
    "Code is run in a separate process called the Kernel.  The Kernel can be interrupted or restarted.  Try running the following cell and then hit the <button class='btn btn-default btn-xs'><i class='icon-stop fa fa-stop'></i></button> button in the toolbar above."
   ]
  },
  {
   "cell_type": "code",
   "execution_count": null,
   "metadata": {
    "collapsed": true
   },
   "outputs": [],
   "source": [
    "import time\n",
    "time.sleep(10)"
   ]
  },
  {
   "cell_type": "markdown",
   "metadata": {},
   "source": [
    "If the Kernel dies you will be prompted to restart it. Here we call the low-level system libc.time routine with the wrong argument via\n",
    "ctypes to segfault the Python interpreter:"
   ]
  },
  {
   "cell_type": "code",
   "execution_count": null,
   "metadata": {
    "collapsed": true
   },
   "outputs": [],
   "source": [
    "import sys\n",
    "from ctypes import CDLL\n",
    "# This will crash a Linux or Mac system\n",
    "# equivalent calls can be made on Windows\n",
    "\n",
    "# Uncomment these lines if you would like to see the segfault\n",
    "\n",
    "# dll = 'dylib' if sys.platform == 'darwin' else 'so.6'\n",
    "# libc = CDLL(\"libc.%s\" % dll) \n",
    "# libc.time(-1)  # BOOM!!"
   ]
  },
  {
   "cell_type": "markdown",
   "metadata": {},
   "source": [
    "## Cell menu"
   ]
  },
  {
   "cell_type": "markdown",
   "metadata": {},
   "source": [
    "The \"Cell\" menu has a number of menu items for running code in different ways. These includes:\n",
    "\n",
    "* Run and Select Below\n",
    "* Run and Insert Below\n",
    "* Run All\n",
    "* Run All Above\n",
    "* Run All Below"
   ]
  },
  {
   "cell_type": "markdown",
   "metadata": {},
   "source": [
    "## Restarting the kernels"
   ]
  },
  {
   "cell_type": "markdown",
   "metadata": {},
   "source": [
    "The kernel maintains the state of a notebook's computations. You can reset this state by restarting the kernel. This is done by clicking on the <button class='btn btn-default btn-xs'><i class='fa fa-repeat icon-repeat'></i></button> in the toolbar above."
   ]
  },
  {
   "cell_type": "markdown",
   "metadata": {},
   "source": [
    "## sys.stdout and sys.stderr"
   ]
  },
  {
   "cell_type": "markdown",
   "metadata": {},
   "source": [
    "The stdout and stderr streams are displayed as text in the output area."
   ]
  },
  {
   "cell_type": "code",
   "execution_count": null,
   "metadata": {},
   "outputs": [],
   "source": [
    "print(\"hi, stdout\")"
   ]
  },
  {
   "cell_type": "code",
   "execution_count": null,
   "metadata": {},
   "outputs": [],
   "source": [
    "from __future__ import print_function\n",
    "print('hi, stderr', file=sys.stderr)"
   ]
  },
  {
   "cell_type": "markdown",
   "metadata": {},
   "source": [
    "## Output is asynchronous"
   ]
  },
  {
   "cell_type": "markdown",
   "metadata": {},
   "source": [
    "All output is displayed asynchronously as it is generated in the Kernel. If you execute the next cell, you will see the output one piece at a time, not all at the end."
   ]
  },
  {
   "cell_type": "code",
   "execution_count": null,
   "metadata": {},
   "outputs": [],
   "source": [
    "import time, sys\n",
    "for i in range(8):\n",
    "    print(i)\n",
    "    time.sleep(0.5)"
   ]
  },
  {
   "cell_type": "markdown",
   "metadata": {},
   "source": [
    "## Large outputs"
   ]
  },
  {
   "cell_type": "markdown",
   "metadata": {},
   "source": [
    "To better handle large outputs, the output area can be collapsed. Run the following cell and then single- or double- click on the active area to the left of the output:"
   ]
  },
  {
   "cell_type": "code",
   "execution_count": null,
   "metadata": {},
   "outputs": [],
   "source": [
    "for i in range(5000):\n",
    "    print(i)"
   ]
  },
  {
   "cell_type": "markdown",
   "metadata": {},
   "source": [
    "Beyond a certain point, output will scroll automatically:"
   ]
  },
  {
   "cell_type": "code",
   "execution_count": null,
   "metadata": {},
   "outputs": [],
   "source": [
    "for i in range(500):\n",
    "    print(2**i - 1)"
   ]
  }
 ],
 "metadata": {
  "kernelspec": {
   "display_name": "Python 3",
   "language": "python",
   "name": "python3"
  },
  "language_info": {
   "codemirror_mode": {
    "name": "ipython",
    "version": 3
   },
   "file_extension": ".py",
   "mimetype": "text/x-python",
   "name": "python",
   "nbconvert_exporter": "python",
   "pygments_lexer": "ipython3",
   "version": "3.6.3"
  }
 },
 "nbformat": 4,
 "nbformat_minor": 1
}
