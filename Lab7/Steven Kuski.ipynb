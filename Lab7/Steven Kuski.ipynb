{
 "cells": [
  {
   "cell_type": "markdown",
   "metadata": {},
   "source": [
    "Date: November 4th, 2017\n",
    "\n",
    "File: 3141592653589"
   ]
  },
  {
   "cell_type": "markdown",
   "metadata": {
    "slideshow": {
     "slide_type": "-"
    }
   },
   "source": [
    "MINISTRY of CORPORATE SERVICES\n",
    "\n",
    "BRIEFING NOTE FOR INFORMATION"
   ]
  },
  {
   "cell_type": "markdown",
   "metadata": {
    "collapsed": true
   },
   "source": [
    "I. PREPARED FOR: Paula C. Anilitics, Deputy Minister"
   ]
  },
  {
   "cell_type": "markdown",
   "metadata": {},
   "source": [
    "insert a Python command in the next cell that prints the output \"PREPARED BY: *Your Name*\"."
   ]
  },
  {
   "cell_type": "code",
   "execution_count": 6,
   "metadata": {},
   "outputs": [
    {
     "name": "stdout",
     "output_type": "stream",
     "text": [
      "PREPARED By: Steven Kuski\n"
     ]
    }
   ],
   "source": [
    "print \"PREPARED By: Steven Kuski\""
   ]
  },
  {
   "cell_type": "markdown",
   "metadata": {},
   "source": [
    "First, we have to prepare the environment we're working in."
   ]
  },
  {
   "cell_type": "markdown",
   "metadata": {},
   "source": [
    "\"Requests\" is a simple HTTP library for Python. Run the following command using Cell Magic"
   ]
  },
  {
   "cell_type": "code",
   "execution_count": 2,
   "metadata": {},
   "outputs": [
    {
     "name": "stdout",
     "output_type": "stream",
     "text": [
      "Microsoft Windows [Version 10.0.15063]\r\n",
      "(c) 2017 Microsoft Corporation. All rights reserved.\r\n",
      "\r\n",
      "C:\\Users\\steve_000\\Documents\\Python Scripts>pip install requests\n",
      "Requirement already satisfied: requests in c:\\class\\lib\\site-packages\r\n",
      "Requirement already satisfied: chardet<3.1.0,>=3.0.2 in c:\\class\\lib\\site-packages (from requests)\r\n",
      "Requirement already satisfied: idna<2.7,>=2.5 in c:\\class\\lib\\site-packages (from requests)\r\n",
      "Requirement already satisfied: urllib3<1.23,>=1.21.1 in c:\\class\\lib\\site-packages (from requests)\r\n",
      "Requirement already satisfied: certifi>=2017.4.17 in c:\\class\\lib\\site-packages (from requests)\r\n",
      "\r\n",
      "C:\\Users\\steve_000\\Documents\\Python Scripts>"
     ]
    }
   ],
   "source": [
    "%%cmd\n",
    "pip install requests"
   ]
  },
  {
   "cell_type": "markdown",
   "metadata": {},
   "source": [
    "Now install Python Twitter Tools (as we did with Lab 5)\n",
    "\n",
    "Download and uncompress twitter-1.17.1.tar.gz from https://pypi.python.org/packages/75/30/86a053e40068daece37a8167edc710fd6630ee58d14bcf2aa0997d79bfd4/twitter-1.17.1.tar.gz#md5=65219549f09a030719bac6e20b12c3eb \n",
    "\n",
    "Move the twitter-1.17.1 folder to the folder you're working in. (Use your desktop file manager). "
   ]
  },
  {
   "cell_type": "code",
   "execution_count": 20,
   "metadata": {},
   "outputs": [
    {
     "data": {
      "text/plain": [
       "'C:\\\\Users\\\\steve_000\\\\Documents\\\\Python Scripts'"
      ]
     },
     "execution_count": 20,
     "metadata": {},
     "output_type": "execute_result"
    }
   ],
   "source": [
    "# find out what directory you are in using the following Magic command\n",
    "%pwd"
   ]
  },
  {
   "cell_type": "code",
   "execution_count": 5,
   "metadata": {},
   "outputs": [
    {
     "data": {
      "application/json": {
       "cell": {
        "!": "OSMagics",
        "HTML": "Other",
        "SVG": "Other",
        "bash": "Other",
        "capture": "ExecutionMagics",
        "cmd": "Other",
        "debug": "ExecutionMagics",
        "file": "Other",
        "html": "DisplayMagics",
        "javascript": "DisplayMagics",
        "js": "DisplayMagics",
        "latex": "DisplayMagics",
        "markdown": "DisplayMagics",
        "perl": "Other",
        "prun": "ExecutionMagics",
        "pypy": "Other",
        "python": "Other",
        "python2": "Other",
        "python3": "Other",
        "ruby": "Other",
        "script": "ScriptMagics",
        "sh": "Other",
        "svg": "DisplayMagics",
        "sx": "OSMagics",
        "system": "OSMagics",
        "time": "ExecutionMagics",
        "timeit": "ExecutionMagics",
        "writefile": "OSMagics"
       },
       "line": {
        "alias": "OSMagics",
        "alias_magic": "BasicMagics",
        "autocall": "AutoMagics",
        "automagic": "AutoMagics",
        "autosave": "KernelMagics",
        "bookmark": "OSMagics",
        "cd": "OSMagics",
        "clear": "KernelMagics",
        "cls": "KernelMagics",
        "colors": "BasicMagics",
        "config": "ConfigMagics",
        "connect_info": "KernelMagics",
        "copy": "Other",
        "ddir": "Other",
        "debug": "ExecutionMagics",
        "dhist": "OSMagics",
        "dirs": "OSMagics",
        "doctest_mode": "BasicMagics",
        "echo": "Other",
        "ed": "Other",
        "edit": "KernelMagics",
        "env": "OSMagics",
        "gui": "BasicMagics",
        "hist": "Other",
        "history": "HistoryMagics",
        "killbgscripts": "ScriptMagics",
        "ldir": "Other",
        "less": "KernelMagics",
        "load": "CodeMagics",
        "load_ext": "ExtensionMagics",
        "loadpy": "CodeMagics",
        "logoff": "LoggingMagics",
        "logon": "LoggingMagics",
        "logstart": "LoggingMagics",
        "logstate": "LoggingMagics",
        "logstop": "LoggingMagics",
        "ls": "Other",
        "lsmagic": "BasicMagics",
        "macro": "ExecutionMagics",
        "magic": "BasicMagics",
        "matplotlib": "PylabMagics",
        "mkdir": "Other",
        "more": "KernelMagics",
        "notebook": "BasicMagics",
        "page": "BasicMagics",
        "pastebin": "CodeMagics",
        "pdb": "ExecutionMagics",
        "pdef": "NamespaceMagics",
        "pdoc": "NamespaceMagics",
        "pfile": "NamespaceMagics",
        "pinfo": "NamespaceMagics",
        "pinfo2": "NamespaceMagics",
        "pip": "BasicMagics",
        "popd": "OSMagics",
        "pprint": "BasicMagics",
        "precision": "BasicMagics",
        "profile": "BasicMagics",
        "prun": "ExecutionMagics",
        "psearch": "NamespaceMagics",
        "psource": "NamespaceMagics",
        "pushd": "OSMagics",
        "pwd": "OSMagics",
        "pycat": "OSMagics",
        "pylab": "PylabMagics",
        "qtconsole": "KernelMagics",
        "quickref": "BasicMagics",
        "recall": "HistoryMagics",
        "rehashx": "OSMagics",
        "reload_ext": "ExtensionMagics",
        "ren": "Other",
        "rep": "Other",
        "rerun": "HistoryMagics",
        "reset": "NamespaceMagics",
        "reset_selective": "NamespaceMagics",
        "rmdir": "Other",
        "run": "ExecutionMagics",
        "save": "CodeMagics",
        "sc": "OSMagics",
        "set_env": "OSMagics",
        "store": "StoreMagics",
        "sx": "OSMagics",
        "system": "OSMagics",
        "tb": "ExecutionMagics",
        "time": "ExecutionMagics",
        "timeit": "ExecutionMagics",
        "unalias": "OSMagics",
        "unload_ext": "ExtensionMagics",
        "who": "NamespaceMagics",
        "who_ls": "NamespaceMagics",
        "whos": "NamespaceMagics",
        "xdel": "NamespaceMagics",
        "xmode": "BasicMagics"
       }
      },
      "text/plain": [
       "Available line magics:\n",
       "%alias  %alias_magic  %autocall  %automagic  %autosave  %bookmark  %cd  %clear  %cls  %colors  %config  %connect_info  %copy  %ddir  %debug  %dhist  %dirs  %doctest_mode  %echo  %ed  %edit  %env  %gui  %hist  %history  %killbgscripts  %ldir  %less  %load  %load_ext  %loadpy  %logoff  %logon  %logstart  %logstate  %logstop  %ls  %lsmagic  %macro  %magic  %matplotlib  %mkdir  %more  %notebook  %page  %pastebin  %pdb  %pdef  %pdoc  %pfile  %pinfo  %pinfo2  %popd  %pprint  %precision  %profile  %prun  %psearch  %psource  %pushd  %pwd  %pycat  %pylab  %qtconsole  %quickref  %recall  %rehashx  %reload_ext  %ren  %rep  %rerun  %reset  %reset_selective  %rmdir  %run  %save  %sc  %set_env  %store  %sx  %system  %tb  %time  %timeit  %unalias  %unload_ext  %who  %who_ls  %whos  %xdel  %xmode\n",
       "\n",
       "Available cell magics:\n",
       "%%!  %%HTML  %%SVG  %%bash  %%capture  %%cmd  %%debug  %%file  %%html  %%javascript  %%js  %%latex  %%markdown  %%perl  %%prun  %%pypy  %%python  %%python2  %%python3  %%ruby  %%script  %%sh  %%svg  %%sx  %%system  %%time  %%timeit  %%writefile\n",
       "\n",
       "Automagic is ON, % prefix IS NOT needed for line magics."
      ]
     },
     "execution_count": 5,
     "metadata": {},
     "output_type": "execute_result"
    }
   ],
   "source": [
    "# N.B.: The following command will list all magic commands\n",
    "%lsmagic"
   ]
  },
  {
   "cell_type": "code",
   "execution_count": 6,
   "metadata": {},
   "outputs": [
    {
     "name": "stdout",
     "output_type": "stream",
     "text": [
      "C:\\Users\\steve_000\\Documents\\Python Scripts\n"
     ]
    }
   ],
   "source": [
    "# change to the directory with the twitter-1.17.1Setup.py file\n",
    "%cd C:\\Users\\steve_000\\Documents\\Python Scripts"
   ]
  },
  {
   "cell_type": "markdown",
   "metadata": {},
   "source": [
    "Install the Python Twitter Tools package using three separate commands. Delete this comment and the three commands when done. "
   ]
  },
  {
   "cell_type": "code",
   "execution_count": 3,
   "metadata": {},
   "outputs": [
    {
     "name": "stdout",
     "output_type": "stream",
     "text": [
      "Microsoft Windows [Version 10.0.15063]\r\n",
      "(c) 2017 Microsoft Corporation. All rights reserved.\r\n",
      "\r\n",
      "C:\\Users\\steve_000\\Documents\\Python Scripts>setup.py --help\n",
      "\r\n",
      "C:\\Users\\steve_000\\Documents\\Python Scripts>"
     ]
    }
   ],
   "source": [
    "%%cmd\n",
    "setup.py --help"
   ]
  },
  {
   "cell_type": "code",
   "execution_count": 7,
   "metadata": {},
   "outputs": [
    {
     "name": "stdout",
     "output_type": "stream",
     "text": [
      "Microsoft Windows [Version 10.0.15063]\r\n",
      "(c) 2017 Microsoft Corporation. All rights reserved.\r\n",
      "\r\n",
      "C:\\Users\\steve_000\\Documents\\Python Scripts>python setup.py build\n",
      "running build\r\n",
      "\r\n",
      "C:\\Users\\steve_000\\Documents\\Python Scripts>"
     ]
    }
   ],
   "source": [
    "%%cmd\n",
    "python setup.py build"
   ]
  },
  {
   "cell_type": "code",
   "execution_count": 8,
   "metadata": {},
   "outputs": [
    {
     "name": "stdout",
     "output_type": "stream",
     "text": [
      "Microsoft Windows [Version 10.0.15063]\r\n",
      "(c) 2017 Microsoft Corporation. All rights reserved.\r\n",
      "\r\n",
      "C:\\Users\\steve_000\\Documents\\Python Scripts>python setup.py install\n",
      "running install\r\n",
      "running bdist_egg\r\n",
      "running egg_info\r\n",
      "creating twitter.egg-info\r\n",
      "writing twitter.egg-info\\PKG-INFO\r\n",
      "writing dependency_links to twitter.egg-info\\dependency_links.txt\r\n",
      "writing entry points to twitter.egg-info\\entry_points.txt\r\n",
      "writing top-level names to twitter.egg-info\\top_level.txt\r\n",
      "writing manifest file 'twitter.egg-info\\SOURCES.txt'\r\n",
      "reading manifest file 'twitter.egg-info\\SOURCES.txt'\r\n",
      "writing manifest file 'twitter.egg-info\\SOURCES.txt'\r\n",
      "installing library code to build\\bdist.win-amd64\\egg\r\n",
      "running install_lib\r\n",
      "creating build\r\n",
      "creating build\\bdist.win-amd64\r\n",
      "creating build\\bdist.win-amd64\\egg\r\n",
      "creating build\\bdist.win-amd64\\egg\\EGG-INFO\r\n",
      "copying twitter.egg-info\\PKG-INFO -> build\\bdist.win-amd64\\egg\\EGG-INFO\r\n",
      "copying twitter.egg-info\\SOURCES.txt -> build\\bdist.win-amd64\\egg\\EGG-INFO\r\n",
      "copying twitter.egg-info\\dependency_links.txt -> build\\bdist.win-amd64\\egg\\EGG-INFO\r\n",
      "copying twitter.egg-info\\entry_points.txt -> build\\bdist.win-amd64\\egg\\EGG-INFO\r\n",
      "copying twitter.egg-info\\top_level.txt -> build\\bdist.win-amd64\\egg\\EGG-INFO\r\n",
      "copying twitter.egg-info\\zip-safe -> build\\bdist.win-amd64\\egg\\EGG-INFO\r\n",
      "creating dist\r\n",
      "creating 'dist\\twitter-1.17.1-py3.6.egg' and adding 'build\\bdist.win-amd64\\egg' to it\r\n",
      "removing 'build\\bdist.win-amd64\\egg' (and everything under it)\r\n",
      "Processing twitter-1.17.1-py3.6.egg\r\n",
      "Copying twitter-1.17.1-py3.6.egg to c:\\class\\lib\\site-packages\r\n",
      "Adding twitter 1.17.1 to easy-install.pth file\r\n",
      "Installing twitter-script.py script to C:\\class\\Scripts\r\n",
      "Installing twitter.exe script to C:\\class\\Scripts\r\n",
      "Installing twitterbot-script.py script to C:\\class\\Scripts\r\n",
      "Installing twitterbot.exe script to C:\\class\\Scripts\r\n",
      "Installing twitter-log-script.py script to C:\\class\\Scripts\r\n",
      "Installing twitter-log.exe script to C:\\class\\Scripts\r\n",
      "Installing twitter-archiver-script.py script to C:\\class\\Scripts\r\n",
      "Installing twitter-archiver.exe script to C:\\class\\Scripts\r\n",
      "Installing twitter-follow-script.py script to C:\\class\\Scripts\r\n",
      "Installing twitter-follow.exe script to C:\\class\\Scripts\r\n",
      "Installing twitter-stream-example-script.py script to C:\\class\\Scripts\r\n",
      "Installing twitter-stream-example.exe script to C:\\class\\Scripts\r\n",
      "\r\n",
      "Installed c:\\class\\lib\\site-packages\\twitter-1.17.1-py3.6.egg\r\n",
      "Processing dependencies for twitter==1.17.1\r\n",
      "Finished processing dependencies for twitter==1.17.1\r\n",
      "\r\n",
      "C:\\Users\\steve_000\\Documents\\Python Scripts>"
     ]
    },
    {
     "name": "stderr",
     "output_type": "stream",
     "text": [
      "warning: install_lib: 'build\\lib' does not exist -- no Python modules to install\r\n",
      "\r\n"
     ]
    }
   ],
   "source": [
    "%%cmd\n",
    "python setup.py install"
   ]
  },
  {
   "cell_type": "markdown",
   "metadata": {},
   "source": [
    "II. ISSUE"
   ]
  },
  {
   "cell_type": "code",
   "execution_count": 15,
   "metadata": {
    "code_folding": []
   },
   "outputs": [
    {
     "ename": "ModuleNotFoundError",
     "evalue": "No module named 'twitter'",
     "output_type": "error",
     "traceback": [
      "\u001b[1;31m---------------------------------------------------------------------------\u001b[0m",
      "\u001b[1;31mModuleNotFoundError\u001b[0m                       Traceback (most recent call last)",
      "\u001b[1;32m<ipython-input-15-5a85cd1e085f>\u001b[0m in \u001b[0;36m<module>\u001b[1;34m()\u001b[0m\n\u001b[0;32m      6\u001b[0m \u001b[1;33m\u001b[0m\u001b[0m\n\u001b[0;32m      7\u001b[0m \u001b[1;31m# Import the necessary methods from \"twitter\" library\u001b[0m\u001b[1;33m\u001b[0m\u001b[1;33m\u001b[0m\u001b[0m\n\u001b[1;32m----> 8\u001b[1;33m \u001b[1;32mfrom\u001b[0m \u001b[0mtwitter\u001b[0m \u001b[1;32mimport\u001b[0m \u001b[0mTwitter\u001b[0m\u001b[1;33m\u001b[0m\u001b[0m\n\u001b[0m\u001b[0;32m      9\u001b[0m \u001b[1;32mfrom\u001b[0m \u001b[0mtwitter\u001b[0m \u001b[1;32mimport\u001b[0m \u001b[0mOAuth\u001b[0m\u001b[1;33m\u001b[0m\u001b[0m\n\u001b[0;32m     10\u001b[0m \u001b[1;32mfrom\u001b[0m \u001b[0mtwitter\u001b[0m \u001b[1;32mimport\u001b[0m \u001b[0mTwitterHTTPError\u001b[0m\u001b[1;33m\u001b[0m\u001b[0m\n",
      "\u001b[1;31mModuleNotFoundError\u001b[0m: No module named 'twitter'"
     ]
    }
   ],
   "source": [
    "# Import the necessary package to process data in JSON format\n",
    "try:\n",
    "    import json\n",
    "except ImportError:\n",
    "    import simplejson as json\n",
    "\n",
    "# Import the necessary methods from \"twitter\" library\n",
    "from twitter import Twitter\n",
    "from twitter import OAuth\n",
    "from twitter import TwitterHTTPError\n",
    "from twitter import TwitterStream\n",
    "\n",
    "# Variables that contains the user credentials to access Twitter API \n",
    "ACCESS_TOKEN = '775502771348840448-UUC3ugXEAcygAQlKSS0AovKeDPcjfI7'\n",
    "ACCESS_SECRET = 'CsYBpuriZO8n496ZmwEDmCGMgGfqcLt3e87PNS43eOk1h'\n",
    "CONSUMER_KEY = 'MJBBc2CdMmgYONJOMAq8yvmwB'\n",
    "CONSUMER_SECRET = 'QRx9yntsVKVH1Tbcn2qcxEPVyjT6k6AnHlgV0LSZPjWlqVUn39'\n",
    "\n",
    "oauth = OAuth(ACCESS_TOKEN, ACCESS_SECRET, CONSUMER_KEY, CONSUMER_SECRET)\n",
    "\n",
    "# Initiate the connection to Twitter Streaming API\n",
    "twitter_stream = TwitterStream(auth=oauth)\n",
    "\n",
    "# Get a sample of the public data following through Twitter\n",
    "iterator = twitter_stream.statuses.sample()\n",
    "\n",
    "# Print each tweet in the stream to the screen \n",
    "# Here we set it to stop after getting 1000 tweets. \n",
    "# You don't have to set it to stop, but can continue running \n",
    "# the Twitter API to collect data for days or even longer. \n",
    "tweet_count = 1000\n",
    "for tweet in iterator:\n",
    "    tweet_count -= 1\n",
    "    # Twitter Python Tool wraps the data returned by Twitter \n",
    "    # as a TwitterDictResponse object.\n",
    "    # We convert it back to the JSON format to print/score\n",
    "    print (json.dumps(tweet, indent=4))\n",
    "    \n",
    "    # The command below will do pretty printing for JSON data, try it out\n",
    "    # print json.dumps(tweet, indent=4)\n",
    "       \n",
    "    if tweet_count <= 0:\n",
    "        break"
   ]
  },
  {
   "cell_type": "markdown",
   "metadata": {},
   "source": [
    "III. ANALYSIS"
   ]
  },
  {
   "cell_type": "code",
   "execution_count": 19,
   "metadata": {},
   "outputs": [
    {
     "ename": "SyntaxError",
     "evalue": "Missing parentheses in call to 'print'. Did you mean print(print tweet ['id'] # This is the tweet's id)? (<ipython-input-19-8a4d6b185f50>, line 16)",
     "output_type": "error",
     "traceback": [
      "\u001b[1;36m  File \u001b[1;32m\"<ipython-input-19-8a4d6b185f50>\"\u001b[1;36m, line \u001b[1;32m16\u001b[0m\n\u001b[1;33m    print tweet ['id'] # This is the tweet's id\u001b[0m\n\u001b[1;37m              ^\u001b[0m\n\u001b[1;31mSyntaxError\u001b[0m\u001b[1;31m:\u001b[0m Missing parentheses in call to 'print'. Did you mean print(print tweet ['id'] # This is the tweet's id)?\n"
     ]
    }
   ],
   "source": [
    "# Import the necessary package to process data in JSON format\n",
    "try:\n",
    "    import json\n",
    "except ImportError:\n",
    "    import simplejson as json\n",
    "\n",
    "# We use the file saved from last step as example\n",
    "tweets_filename = 'twitter_stream_1000tweets.txt'\n",
    "tweets_file = open(tweets_filename, \"r\")\n",
    "\n",
    "for line in tweets_file:\n",
    "    try:\n",
    "        # Read in one line of the file, convert it into a json object \n",
    "        tweet = json.loads(line.strip())\n",
    "        if 'text' in tweet: # only messages contains 'text' field is a tweet\n",
    "            print tweet['id'] # This is the tweet's id\n",
    "            print tweet['created_at'] # when the tweet posted\n",
    "            print tweet['text'] # content of the tweet\n",
    "                        \n",
    "            print tweet['user']['id'] # id of the user who posted the tweet\n",
    "            print tweet['user']['name'] # name of the user, e.g. \"Wei Xu\"\n",
    "            print tweet['user']['screen_name'] # name of the user account, e.g. \"cocoweixu\"\n",
    "\n",
    "            hashtags = []\n",
    "            for hashtag in tweet['entities']['hashtags']:\n",
    "            \thashtags.append(hashtag['text'])\n",
    "            print hashtags\n",
    "\n",
    "    except:\n",
    "        # read in a line is not in JSON format (sometimes error occured)\n",
    "        continue"
   ]
  },
  {
   "cell_type": "markdown",
   "metadata": {},
   "source": [
    "V. RECOMMENDATION\n",
    "\n",
    "| Option | Description |\n",
    "| :------:| -----------:|\n",
    "| 1   | Markdown does not allow for a lot of formatting. |\n",
    "| 2 | This is one way. |\n",
    "| 3    | You can look up other formatting tricks. |"
   ]
  },
  {
   "cell_type": "markdown",
   "metadata": {},
   "source": [
    "Submit your notebook file by email to justin.longo.phd@gmail.com or put online (e.g., GitHub) and send me the URL."
   ]
  }
 ],
 "metadata": {
  "kernelspec": {
   "display_name": "Python 3",
   "language": "python",
   "name": "python3"
  },
  "language_info": {
   "codemirror_mode": {
    "name": "ipython",
    "version": 3
   },
   "file_extension": ".py",
   "mimetype": "text/x-python",
   "name": "python",
   "nbconvert_exporter": "python",
   "pygments_lexer": "ipython3",
   "version": "3.6.3"
  }
 },
 "nbformat": 4,
 "nbformat_minor": 1
}
