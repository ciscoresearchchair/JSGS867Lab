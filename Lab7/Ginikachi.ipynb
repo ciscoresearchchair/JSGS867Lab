{
 "cells": [
  {
   "cell_type": "markdown",
   "metadata": {},
   "source": [
    "Date: *(5-11-17)*\n",
    "\n",
    "File: *(0123)*"
   ]
  },
  {
   "cell_type": "markdown",
   "metadata": {
    "slideshow": {
     "slide_type": "-"
    }
   },
   "source": [
    "MINISTRY of CORPORATE SERVICES\n",
    "\n",
    "BRIEFING NOTE FOR INFORMATION"
   ]
  },
  {
   "cell_type": "markdown",
   "metadata": {
    "collapsed": true
   },
   "source": [
    "I. PREPARED FOR: Paula C. Anilitics, Deputy Minister"
   ]
  },
  {
   "cell_type": "code",
   "execution_count": 3,
   "metadata": {},
   "outputs": [
    {
     "name": "stdout",
     "output_type": "stream",
     "text": [
      "PREPARED BY: Kachi Ugwuegbu\n"
     ]
    }
   ],
   "source": [
    "print('PREPARED BY: Kachi Ugwuegbu')"
   ]
  },
  {
   "cell_type": "code",
   "execution_count": null,
   "metadata": {},
   "outputs": [],
   "source": [
    "%pwd"
   ]
  },
  {
   "cell_type": "code",
   "execution_count": null,
   "metadata": {
    "collapsed": true
   },
   "outputs": [],
   "source": [
    "%%script bash\n",
    "pip install requests"
   ]
  },
  {
   "cell_type": "code",
   "execution_count": null,
   "metadata": {
    "collapsed": true
   },
   "outputs": [],
   "source": [
    "# find out what directory you are in using the following Magic command\n",
    "%pwd"
   ]
  },
  {
   "cell_type": "code",
   "execution_count": null,
   "metadata": {
    "collapsed": true
   },
   "outputs": [],
   "source": [
    "# N.B.: The following command will list all magic commands\n",
    "%lsmagic"
   ]
  },
  {
   "cell_type": "code",
   "execution_count": null,
   "metadata": {
    "collapsed": true
   },
   "outputs": [],
   "source": [
    "# change to the directory with the twitter-1.17.1Setup.py file\n",
    "%cd C:\\\\Users\\\\ugwuegbg\\\\Desktop\\\\JSGS867Lab-master\\\\JSGS867Lab-master\\\\twitter-1.17.1"
   ]
  },
  {
   "cell_type": "markdown",
   "metadata": {},
   "source": [
    "II. ISSUE"
   ]
  },
  {
   "cell_type": "code",
   "execution_count": null,
   "metadata": {
    "code_folding": [],
    "collapsed": true
   },
   "outputs": [],
   "source": [
    "# copy-and-paste Python code from lab 5 - the first twitter_streaming.py file\n",
    "# (it starts with the line \"# Import the necessary package to process data in JSON format),\" \n",
    "# and can be found in the tutorial at http://socialmedia-class.org/twittertutorial.html under\n",
    "# \"Basic Uses of Streaming APIs\" and before the \"Advanced Uses of Streaming APIs\"\n",
    "\n",
    "# if you get an error at \"print json.dumps(tweet, indent=4)\", \n",
    "# it may be because you are Using Python 3. \n",
    "# Try \"print (json.dumps(tweet, indent=4))\" instead\n",
    "\n",
    "# You'll have a large output area. Double-click on the active area to the left of the output to minimize it.\n",
    "# Import the necessary package to process data in JSON format\n",
    "try:\n",
    "    import twitter\n",
    "    import json\n",
    "except ImportError:\n",
    "    import simplejson as json\n",
    "\n",
    "# Import the necessary methods from \"twitter\" library\n",
    "from twitter import Twitter, OAuth, TwitterHTTPError, TwitterStream\n",
    "\n",
    "# Variables that contains the user credentials to access Twitter API \n",
    "ACCESS_TOKEN = '3182562113-pLF8I6GKxRyUgdISbjPHywvBYRUizTvsY1oTRXU'\n",
    "ACCESS_SECRET = '4z9BxwbQteyuf1frTxgGxZTblf9hTn9X9cYhSVVjJL96k'\n",
    "CONSUMER_KEY = 'xzZIWXARuiLrI96SzoNDhckmF'\n",
    "CONSUMER_SECRET = 'rAQUrrQo0XWAOwQXY4H0LXhdDQtq8UTgjhmlhfkqmqsy4UCTzD'\n",
    "\n",
    "oauth = OAuth(ACCESS_TOKEN, ACCESS_SECRET, CONSUMER_KEY, CONSUMER_SECRET)\n",
    "\n",
    "# Initiate the connection to Twitter Streaming API\n",
    "twitter_stream = TwitterStream(auth=oauth)\n",
    "\n",
    "# Get a sample of the public data following through Twitter\n",
    "iterator = twitter_stream.statuses.sample()\n",
    "\n",
    "# Print each tweet in the stream to the screen \n",
    "# Here we set it to stop after getting 1000 tweets. \n",
    "# You don't have to set it to stop, but can continue running \n",
    "# the Twitter API to collect data for days or even longer. \n",
    "tweet_count = 1000\n",
    "for tweet in iterator:\n",
    "    tweet_count -= 1\n",
    "    # Twitter Python Tool wraps the data returned by Twitter \n",
    "    # as a TwitterDictResponse object.\n",
    "    # We convert it back to the JSON format to print/score\n",
    "    #print json.dumps(tweet)  \n",
    "    \n",
    "    # The command below will do pretty printing for JSON data, try it out\n",
    "    print json.dumps(tweet, indent=4)\n",
    "       \n",
    "    if tweet_count <= 0:\n",
    "        break \n",
    "\n"
   ]
  },
  {
   "cell_type": "markdown",
   "metadata": {},
   "source": [
    "III. ANALYSIS"
   ]
  },
  {
   "cell_type": "code",
   "execution_count": null,
   "metadata": {
    "collapsed": true
   },
   "outputs": [],
   "source": [
    "# copy-and-paste Python code from lab 5 - the final twitter_streaming.py file you submitted\n",
    "# implementing the \"Advanced Uses of Streaming APIs\" (i.e., searching by keyword and geolocation)\n",
    "# Import the necessary package to process data in JSON format\n",
    "try:\n",
    "    import twitter\n",
    "    import json\n",
    "except ImportError:\n",
    "    import simplejson as json\n",
    "\n",
    "# Import the necessary methods from \"twitter\" library\n",
    "from twitter import Twitter, OAuth, TwitterHTTPError, TwitterStream\n",
    "\n",
    "# Variables that contains the user credentials to access Twitter API \n",
    "ACCESS_TOKEN = '3182562113-pLF8I6GKxRyUgdISbjPHywvBYRUizTvsY1oTRXU'\n",
    "ACCESS_SECRET = '4z9BxwbQteyuf1frTxgGxZTblf9hTn9X9cYhSVVjJL96k'\n",
    "CONSUMER_KEY = 'xzZIWXARuiLrI96SzoNDhckmF'\n",
    "CONSUMER_SECRET = 'rAQUrrQo0XWAOwQXY4H0LXhdDQtq8UTgjhmlhfkqmqsy4UCTzD'\n",
    "\n",
    "oauth = OAuth(ACCESS_TOKEN, ACCESS_SECRET, CONSUMER_KEY, CONSUMER_SECRET)\n",
    "\n",
    "# Initiate the connection to Twitter Streaming API\n",
    "twitter_stream = TwitterStream(auth=oauth)\n",
    "\n",
    "# Get a sample of the public data following through Twitter\n",
    "#iterator = twitter_stream.statuses.sample()\n",
    "iterator= twitter_stream.statuses.filter(track=\"Nigeria\",geocode= \"5.554400, 5.793201,150km\")\n",
    "\n",
    "# Print each tweet in the stream to the screen \n",
    "# Here we set it to stop after getting 1000 tweets. \n",
    "# You don't have to set it to stop, but can continue running \n",
    "# the Twitter API to collect data for days or even longer. \n",
    "tweet_count = 1000\n",
    "for tweet in iterator:\n",
    "    tweet_count -= 1\n",
    "    # Twitter Python Tool wraps the data returned by Twitter \n",
    "    # as a TwitterDictResponse object.\n",
    "    # We convert it back to the JSON format to print/score\n",
    "    #print json.dumps(tweet)  \n",
    "    \n",
    "    # The command below will do pretty printing for JSON data, try it out\n",
    "    print json.dumps(tweet, indent=4)\n",
    "       \n",
    "    if tweet_count <= 0:\n",
    "        break "
   ]
  },
  {
   "cell_type": "markdown",
   "metadata": {},
   "source": [
    "V. RECOMMENDATION\n",
    "\n",
    "| Option | Description |\n",
    "| :------:| -----------:|\n",
    "| 1   | Markdown does not allow for a lot of formatting. |\n",
    "| 2 | This is one way. |\n",
    "| 3    | You can look up other formatting tricks. |"
   ]
  },
  {
   "cell_type": "markdown",
   "metadata": {},
   "source": [
    "Submit your notebook file by email to justin.longo.phd@gmail.com or put online (e.g., GitHub) and send me the URL."
   ]
  }
 ],
 "metadata": {
  "kernelspec": {
   "display_name": "Python 3",
   "language": "python",
   "name": "python3"
  },
  "language_info": {
   "codemirror_mode": {
    "name": "ipython",
    "version": 3
   },
   "file_extension": ".py",
   "mimetype": "text/x-python",
   "name": "python",
   "nbconvert_exporter": "python",
   "pygments_lexer": "ipython3",
   "version": "3.6.3"
  }
 },
 "nbformat": 4,
 "nbformat_minor": 1
}
