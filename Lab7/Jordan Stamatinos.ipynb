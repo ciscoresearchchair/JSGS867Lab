{
 "cells": [
  {
   "cell_type": "markdown",
   "metadata": {},
   "source": [
    "# An Interactive Briefing Note(book)"
   ]
  },
  {
   "cell_type": "markdown",
   "metadata": {},
   "source": [
    "Lab 7 is an exercise to get acquainted with `Jupyter Notebooks`, using the familiarity of a policy briefing note as a framework. \n",
    "\n",
    "Notebooks allow for a mix of code, text, and graphics, making them an ideal platform for policy analytics briefing notes. \n",
    "\n",
    "Start by renaming this notebook template \"JSGS 867 Lab 7 *Your Name*\", and then edit this template to produce your own interactive briefing notebook. \n",
    "\n",
    "In this document, wherever you see *italicized text*, replace it with your own text.\n",
    "\n",
    "This is a toy problem to illustrate how a briefing note might be written in Jupyter Notebook. The final briefing note you create won't necessarily make sense, but it will illustrate how markdown text and code can be combined into a dynamic policy analytics briefing note. Don't spend long writing the text in the note below. The task involves mostly cutting-and-pasting your work from lab #5 In the format of a briefing note. \n",
    "\n",
    "When you are done reading these introductory instructions, delete this cell and the one above it (the title).\n",
    "\n",
    "For any of the following Markdown or Code cells, delete whatever is unnEcessary after you have run the commands. Leave other code and markdown cells needed for the final briefing note."
   ]
  },
  {
   "cell_type": "markdown",
   "metadata": {},
   "source": [
    "Date: November 7th, 2017\n",
    "\n",
    "File: K11319"
   ]
  },
  {
   "cell_type": "markdown",
   "metadata": {
    "slideshow": {
     "slide_type": "-"
    }
   },
   "source": [
    "MINISTRY of CENTRAL SERVICES\n",
    "\n",
    "BRIEFING NOTE FOR INFORMATION"
   ]
  },
  {
   "cell_type": "markdown",
   "metadata": {},
   "source": [
    "In the cell above, change the name of the Ministry to \"MINISTRY of CORPORATE SERVICES\" then delete this cell."
   ]
  },
  {
   "cell_type": "markdown",
   "metadata": {
    "collapsed": true
   },
   "source": [
    "I. PREPARED FOR: Paula C. Anilitics, Deputy Minister"
   ]
  },
  {
   "cell_type": "markdown",
   "metadata": {},
   "source": [
    "insert a Python command in the next cell that prints the output \"PREPARED BY: *Your Name*\"."
   ]
  },
  {
   "cell_type": "code",
   "execution_count": null,
   "metadata": {
    "collapsed": true
   },
   "outputs": [],
   "source": [
    "\"PREPARED BY: Jordan Stamatinos\""
   ]
  },
  {
   "cell_type": "code",
   "execution_count": 2,
   "metadata": {},
   "outputs": [
    {
     "name": "stdout",
     "output_type": "stream",
     "text": [
      "PREPARED BY: Jordan Stamatinos\n"
     ]
    }
   ],
   "source": [
    "print (\"PREPARED BY: Jordan Stamatinos\")"
   ]
  },
  {
   "cell_type": "markdown",
   "metadata": {},
   "source": [
    "First, we have to prepare the environment we're working in."
   ]
  },
  {
   "cell_type": "markdown",
   "metadata": {},
   "source": [
    "\"Requests\" is a simple HTTP library for Python. Run the following command using Cell Magic"
   ]
  },
  {
   "cell_type": "code",
   "execution_count": 4,
   "metadata": {},
   "outputs": [
    {
     "name": "stdout",
     "output_type": "stream",
     "text": [
      "Microsoft Windows [Version 6.1.7601]\r\n",
      "Copyright (c) 2009 Microsoft Corporation.  All rights reserved.\r\n",
      "\r\n",
      "(C:\\Users\\stamatij\\Anaconda3) C:\\Users\\stamatij\\Desktop>pip install requests\n",
      "Requirement already satisfied: requests in c:\\users\\stamatij\\anaconda3\\lib\\site-packages\r\n",
      "Requirement already satisfied: chardet<3.1.0,>=3.0.2 in c:\\users\\stamatij\\anaconda3\\lib\\site-packages (from requests)\r\n",
      "Requirement already satisfied: idna<2.7,>=2.5 in c:\\users\\stamatij\\anaconda3\\lib\\site-packages (from requests)\r\n",
      "Requirement already satisfied: urllib3<1.23,>=1.21.1 in c:\\users\\stamatij\\anaconda3\\lib\\site-packages (from requests)\r\n",
      "Requirement already satisfied: certifi>=2017.4.17 in c:\\users\\stamatij\\anaconda3\\lib\\site-packages (from requests)\r\n",
      "\r\n",
      "(C:\\Users\\stamatij\\Anaconda3) C:\\Users\\stamatij\\Desktop>"
     ]
    }
   ],
   "source": [
    "%%cmd\n",
    "pip install requests"
   ]
  },
  {
   "cell_type": "markdown",
   "metadata": {},
   "source": [
    "Now install Python Twitter Tools (as we did with Lab 5)\n",
    "\n",
    "Download and uncompress twitter-1.17.1.tar.gz from https://pypi.python.org/packages/75/30/86a053e40068daece37a8167edc710fd6630ee58d14bcf2aa0997d79bfd4/twitter-1.17.1.tar.gz#md5=65219549f09a030719bac6e20b12c3eb \n",
    "\n",
    "Move the twitter-1.17.1 folder to the folder you're working in. (Use your desktop file manager). "
   ]
  },
  {
   "cell_type": "code",
   "execution_count": 5,
   "metadata": {},
   "outputs": [
    {
     "data": {
      "text/plain": [
       "'C:\\\\Users\\\\stamatij\\\\Desktop'"
      ]
     },
     "execution_count": 5,
     "metadata": {},
     "output_type": "execute_result"
    }
   ],
   "source": [
    "# find out what directory you are in using the following Magic command\n",
    "%pwd"
   ]
  },
  {
   "cell_type": "code",
   "execution_count": 6,
   "metadata": {},
   "outputs": [
    {
     "data": {
      "application/json": {
       "cell": {
        "!": "OSMagics",
        "HTML": "Other",
        "SVG": "Other",
        "bash": "Other",
        "capture": "ExecutionMagics",
        "cmd": "Other",
        "debug": "ExecutionMagics",
        "file": "Other",
        "html": "DisplayMagics",
        "javascript": "DisplayMagics",
        "js": "DisplayMagics",
        "latex": "DisplayMagics",
        "markdown": "DisplayMagics",
        "perl": "Other",
        "prun": "ExecutionMagics",
        "pypy": "Other",
        "python": "Other",
        "python2": "Other",
        "python3": "Other",
        "ruby": "Other",
        "script": "ScriptMagics",
        "sh": "Other",
        "svg": "DisplayMagics",
        "sx": "OSMagics",
        "system": "OSMagics",
        "time": "ExecutionMagics",
        "timeit": "ExecutionMagics",
        "writefile": "OSMagics"
       },
       "line": {
        "alias": "OSMagics",
        "alias_magic": "BasicMagics",
        "autocall": "AutoMagics",
        "automagic": "AutoMagics",
        "autosave": "KernelMagics",
        "bookmark": "OSMagics",
        "cd": "OSMagics",
        "clear": "KernelMagics",
        "cls": "KernelMagics",
        "colors": "BasicMagics",
        "config": "ConfigMagics",
        "connect_info": "KernelMagics",
        "copy": "Other",
        "ddir": "Other",
        "debug": "ExecutionMagics",
        "dhist": "OSMagics",
        "dirs": "OSMagics",
        "doctest_mode": "BasicMagics",
        "echo": "Other",
        "ed": "Other",
        "edit": "KernelMagics",
        "env": "OSMagics",
        "gui": "BasicMagics",
        "hist": "Other",
        "history": "HistoryMagics",
        "killbgscripts": "ScriptMagics",
        "ldir": "Other",
        "less": "KernelMagics",
        "load": "CodeMagics",
        "load_ext": "ExtensionMagics",
        "loadpy": "CodeMagics",
        "logoff": "LoggingMagics",
        "logon": "LoggingMagics",
        "logstart": "LoggingMagics",
        "logstate": "LoggingMagics",
        "logstop": "LoggingMagics",
        "ls": "Other",
        "lsmagic": "BasicMagics",
        "macro": "ExecutionMagics",
        "magic": "BasicMagics",
        "matplotlib": "PylabMagics",
        "mkdir": "Other",
        "more": "KernelMagics",
        "notebook": "BasicMagics",
        "page": "BasicMagics",
        "pastebin": "CodeMagics",
        "pdb": "ExecutionMagics",
        "pdef": "NamespaceMagics",
        "pdoc": "NamespaceMagics",
        "pfile": "NamespaceMagics",
        "pinfo": "NamespaceMagics",
        "pinfo2": "NamespaceMagics",
        "pip": "BasicMagics",
        "popd": "OSMagics",
        "pprint": "BasicMagics",
        "precision": "BasicMagics",
        "profile": "BasicMagics",
        "prun": "ExecutionMagics",
        "psearch": "NamespaceMagics",
        "psource": "NamespaceMagics",
        "pushd": "OSMagics",
        "pwd": "OSMagics",
        "pycat": "OSMagics",
        "pylab": "PylabMagics",
        "qtconsole": "KernelMagics",
        "quickref": "BasicMagics",
        "recall": "HistoryMagics",
        "rehashx": "OSMagics",
        "reload_ext": "ExtensionMagics",
        "ren": "Other",
        "rep": "Other",
        "rerun": "HistoryMagics",
        "reset": "NamespaceMagics",
        "reset_selective": "NamespaceMagics",
        "rmdir": "Other",
        "run": "ExecutionMagics",
        "save": "CodeMagics",
        "sc": "OSMagics",
        "set_env": "OSMagics",
        "store": "StoreMagics",
        "sx": "OSMagics",
        "system": "OSMagics",
        "tb": "ExecutionMagics",
        "time": "ExecutionMagics",
        "timeit": "ExecutionMagics",
        "unalias": "OSMagics",
        "unload_ext": "ExtensionMagics",
        "who": "NamespaceMagics",
        "who_ls": "NamespaceMagics",
        "whos": "NamespaceMagics",
        "xdel": "NamespaceMagics",
        "xmode": "BasicMagics"
       }
      },
      "text/plain": [
       "Available line magics:\n",
       "%alias  %alias_magic  %autocall  %automagic  %autosave  %bookmark  %cd  %clear  %cls  %colors  %config  %connect_info  %copy  %ddir  %debug  %dhist  %dirs  %doctest_mode  %echo  %ed  %edit  %env  %gui  %hist  %history  %killbgscripts  %ldir  %less  %load  %load_ext  %loadpy  %logoff  %logon  %logstart  %logstate  %logstop  %ls  %lsmagic  %macro  %magic  %matplotlib  %mkdir  %more  %notebook  %page  %pastebin  %pdb  %pdef  %pdoc  %pfile  %pinfo  %pinfo2  %popd  %pprint  %precision  %profile  %prun  %psearch  %psource  %pushd  %pwd  %pycat  %pylab  %qtconsole  %quickref  %recall  %rehashx  %reload_ext  %ren  %rep  %rerun  %reset  %reset_selective  %rmdir  %run  %save  %sc  %set_env  %store  %sx  %system  %tb  %time  %timeit  %unalias  %unload_ext  %who  %who_ls  %whos  %xdel  %xmode\n",
       "\n",
       "Available cell magics:\n",
       "%%!  %%HTML  %%SVG  %%bash  %%capture  %%cmd  %%debug  %%file  %%html  %%javascript  %%js  %%latex  %%markdown  %%perl  %%prun  %%pypy  %%python  %%python2  %%python3  %%ruby  %%script  %%sh  %%svg  %%sx  %%system  %%time  %%timeit  %%writefile\n",
       "\n",
       "Automagic is ON, % prefix IS NOT needed for line magics."
      ]
     },
     "execution_count": 6,
     "metadata": {},
     "output_type": "execute_result"
    }
   ],
   "source": [
    "# N.B.: The following command will list all magic commands\n",
    "%lsmagic"
   ]
  },
  {
   "cell_type": "code",
   "execution_count": 14,
   "metadata": {},
   "outputs": [
    {
     "name": "stdout",
     "output_type": "stream",
     "text": [
      "C:\\Users\\stamatij\\Desktop\\Twitter 1.17\n"
     ]
    }
   ],
   "source": [
    "# change to the directory with the twitter-1.17.1Setup.py file\n",
    "%cd C:\\Users\\stamatij\\Desktop\\Twitter 1.17"
   ]
  },
  {
   "cell_type": "markdown",
   "metadata": {},
   "source": [
    "Install the Python Twitter Tools package using three separate commands. Delete this comment and the three commands when done. "
   ]
  },
  {
   "cell_type": "code",
   "execution_count": 15,
   "metadata": {},
   "outputs": [
    {
     "name": "stdout",
     "output_type": "stream",
     "text": [
      "Microsoft Windows [Version 6.1.7601]\r\n",
      "Copyright (c) 2009 Microsoft Corporation.  All rights reserved.\r\n",
      "\r\n",
      "(C:\\Users\\stamatij\\Anaconda3) C:\\Users\\stamatij\\Desktop\\Twitter 1.17>python setup.py --help\n",
      "Common commands: (see '--help-commands' for more)\r\n",
      "\r\n",
      "  setup.py build      will build the package underneath 'build/'\r\n",
      "  setup.py install    will install the package\r\n",
      "\r\n",
      "Global options:\r\n",
      "  --verbose (-v)      run verbosely (default)\r\n",
      "  --quiet (-q)        run quietly (turns verbosity off)\r\n",
      "  --dry-run (-n)      don't actually do anything\r\n",
      "  --help (-h)         show detailed help message\r\n",
      "  --no-user-cfg       ignore pydistutils.cfg in your home directory\r\n",
      "  --command-packages  list of packages that provide distutils commands\r\n",
      "\r\n",
      "Information display options (just display information, ignore any commands)\r\n",
      "  --help-commands     list all available commands\r\n",
      "  --name              print package name\r\n",
      "  --version (-V)      print package version\r\n",
      "  --fullname          print <package name>-<version>\r\n",
      "  --author            print the author's name\r\n",
      "  --author-email      print the author's email address\r\n",
      "  --maintainer        print the maintainer's name\r\n",
      "  --maintainer-email  print the maintainer's email address\r\n",
      "  --contact           print the maintainer's name if known, else the author's\r\n",
      "  --contact-email     print the maintainer's email address if known, else the\r\n",
      "                      author's\r\n",
      "  --url               print the URL for this package\r\n",
      "  --license           print the license of the package\r\n",
      "  --licence           alias for --license\r\n",
      "  --description       print the package description\r\n",
      "  --long-description  print the long package description\r\n",
      "  --platforms         print the list of platforms\r\n",
      "  --classifiers       print the list of classifiers\r\n",
      "  --keywords          print the list of keywords\r\n",
      "  --provides          print the list of packages/modules provided\r\n",
      "  --requires          print the list of packages/modules required\r\n",
      "  --obsoletes         print the list of packages/modules made obsolete\r\n",
      "\r\n",
      "usage: setup.py [global_opts] cmd1 [cmd1_opts] [cmd2 [cmd2_opts] ...]\r\n",
      "   or: setup.py --help [cmd1 cmd2 ...]\r\n",
      "   or: setup.py --help-commands\r\n",
      "   or: setup.py cmd --help\r\n",
      "\r\n",
      "\r\n",
      "(C:\\Users\\stamatij\\Anaconda3) C:\\Users\\stamatij\\Desktop\\Twitter 1.17>"
     ]
    }
   ],
   "source": [
    "%%cmd\n",
    "python setup.py --help"
   ]
  },
  {
   "cell_type": "code",
   "execution_count": 16,
   "metadata": {},
   "outputs": [
    {
     "name": "stdout",
     "output_type": "stream",
     "text": [
      "Microsoft Windows [Version 6.1.7601]\r\n",
      "Copyright (c) 2009 Microsoft Corporation.  All rights reserved.\r\n",
      "\r\n",
      "(C:\\Users\\stamatij\\Anaconda3) C:\\Users\\stamatij\\Desktop\\Twitter 1.17>python setup.py build\n",
      "running build\r\n",
      "\r\n",
      "(C:\\Users\\stamatij\\Anaconda3) C:\\Users\\stamatij\\Desktop\\Twitter 1.17>"
     ]
    }
   ],
   "source": [
    "%%cmd\n",
    "python setup.py build"
   ]
  },
  {
   "cell_type": "code",
   "execution_count": 17,
   "metadata": {},
   "outputs": [
    {
     "name": "stdout",
     "output_type": "stream",
     "text": [
      "Microsoft Windows [Version 6.1.7601]\r\n",
      "Copyright (c) 2009 Microsoft Corporation.  All rights reserved.\r\n",
      "\r\n",
      "(C:\\Users\\stamatij\\Anaconda3) C:\\Users\\stamatij\\Desktop\\Twitter 1.17>python setup.py install\n",
      "running install\r\n",
      "running bdist_egg\r\n",
      "running egg_info\r\n",
      "creating twitter.egg-info\r\n",
      "writing twitter.egg-info\\PKG-INFO\r\n",
      "writing dependency_links to twitter.egg-info\\dependency_links.txt\r\n",
      "writing entry points to twitter.egg-info\\entry_points.txt\r\n",
      "writing top-level names to twitter.egg-info\\top_level.txt\r\n",
      "writing manifest file 'twitter.egg-info\\SOURCES.txt'\r\n",
      "reading manifest file 'twitter.egg-info\\SOURCES.txt'\r\n",
      "writing manifest file 'twitter.egg-info\\SOURCES.txt'\r\n",
      "installing library code to build\\bdist.win-amd64\\egg\r\n",
      "running install_lib\r\n",
      "creating build\r\n",
      "creating build\\bdist.win-amd64\r\n",
      "creating build\\bdist.win-amd64\\egg\r\n",
      "creating build\\bdist.win-amd64\\egg\\EGG-INFO\r\n",
      "copying twitter.egg-info\\PKG-INFO -> build\\bdist.win-amd64\\egg\\EGG-INFO\r\n",
      "copying twitter.egg-info\\SOURCES.txt -> build\\bdist.win-amd64\\egg\\EGG-INFO\r\n",
      "copying twitter.egg-info\\dependency_links.txt -> build\\bdist.win-amd64\\egg\\EGG-INFO\r\n",
      "copying twitter.egg-info\\entry_points.txt -> build\\bdist.win-amd64\\egg\\EGG-INFO\r\n",
      "copying twitter.egg-info\\top_level.txt -> build\\bdist.win-amd64\\egg\\EGG-INFO\r\n",
      "copying twitter.egg-info\\zip-safe -> build\\bdist.win-amd64\\egg\\EGG-INFO\r\n",
      "creating dist\r\n",
      "creating 'dist\\twitter-1.17.1-py3.6.egg' and adding 'build\\bdist.win-amd64\\egg' to it\r\n",
      "removing 'build\\bdist.win-amd64\\egg' (and everything under it)\r\n",
      "Processing twitter-1.17.1-py3.6.egg\r\n",
      "Copying twitter-1.17.1-py3.6.egg to c:\\users\\stamatij\\anaconda3\\lib\\site-packages\r\n",
      "Adding twitter 1.17.1 to easy-install.pth file\r\n",
      "Installing twitter-script.py script to C:\\Users\\stamatij\\Anaconda3\\Scripts\r\n",
      "Installing twitter.exe script to C:\\Users\\stamatij\\Anaconda3\\Scripts\r\n",
      "Installing twitterbot-script.py script to C:\\Users\\stamatij\\Anaconda3\\Scripts\r\n",
      "Installing twitterbot.exe script to C:\\Users\\stamatij\\Anaconda3\\Scripts\r\n",
      "Installing twitter-log-script.py script to C:\\Users\\stamatij\\Anaconda3\\Scripts\r\n",
      "Installing twitter-log.exe script to C:\\Users\\stamatij\\Anaconda3\\Scripts\r\n",
      "Installing twitter-archiver-script.py script to C:\\Users\\stamatij\\Anaconda3\\Scripts\r\n",
      "Installing twitter-archiver.exe script to C:\\Users\\stamatij\\Anaconda3\\Scripts\r\n",
      "Installing twitter-follow-script.py script to C:\\Users\\stamatij\\Anaconda3\\Scripts\r\n",
      "Installing twitter-follow.exe script to C:\\Users\\stamatij\\Anaconda3\\Scripts\r\n",
      "Installing twitter-stream-example-script.py script to C:\\Users\\stamatij\\Anaconda3\\Scripts\r\n",
      "Installing twitter-stream-example.exe script to C:\\Users\\stamatij\\Anaconda3\\Scripts\r\n",
      "\r\n",
      "Installed c:\\users\\stamatij\\anaconda3\\lib\\site-packages\\twitter-1.17.1-py3.6.egg\r\n",
      "Processing dependencies for twitter==1.17.1\r\n",
      "Finished processing dependencies for twitter==1.17.1\r\n",
      "\r\n",
      "(C:\\Users\\stamatij\\Anaconda3) C:\\Users\\stamatij\\Desktop\\Twitter 1.17>"
     ]
    },
    {
     "name": "stderr",
     "output_type": "stream",
     "text": [
      "warning: install_lib: 'build\\lib' does not exist -- no Python modules to install\r\n",
      "\r\n"
     ]
    }
   ],
   "source": [
    "%%cmd\n",
    "python setup.py install"
   ]
  },
  {
   "cell_type": "markdown",
   "metadata": {},
   "source": [
    "II. ISSUE"
   ]
  },
  {
   "cell_type": "code",
   "execution_count": 30,
   "metadata": {},
   "outputs": [
    {
     "ename": "ModuleNotFoundError",
     "evalue": "No module named 'twitter'",
     "output_type": "error",
     "traceback": [
      "\u001b[1;31m---------------------------------------------------------------------------\u001b[0m",
      "\u001b[1;31mModuleNotFoundError\u001b[0m                       Traceback (most recent call last)",
      "\u001b[1;32m<ipython-input-30-d2a20d3b2637>\u001b[0m in \u001b[0;36m<module>\u001b[1;34m()\u001b[0m\n\u001b[0;32m      6\u001b[0m \u001b[1;33m\u001b[0m\u001b[0m\n\u001b[0;32m      7\u001b[0m \u001b[1;31m# Import the necessary methods from \"twitter\" library\u001b[0m\u001b[1;33m\u001b[0m\u001b[1;33m\u001b[0m\u001b[0m\n\u001b[1;32m----> 8\u001b[1;33m \u001b[1;32mfrom\u001b[0m \u001b[0mtwitter\u001b[0m \u001b[1;32mimport\u001b[0m \u001b[0mTwitter\u001b[0m\u001b[1;33m,\u001b[0m \u001b[0mOAuth\u001b[0m\u001b[1;33m,\u001b[0m \u001b[0mTwitterHTTPError\u001b[0m\u001b[1;33m,\u001b[0m \u001b[0mTwitterStream\u001b[0m\u001b[1;33m\u001b[0m\u001b[0m\n\u001b[0m\u001b[0;32m      9\u001b[0m \u001b[1;33m\u001b[0m\u001b[0m\n\u001b[0;32m     10\u001b[0m \u001b[1;31m# Variables that contains the user credentials to access Twitter API\u001b[0m\u001b[1;33m\u001b[0m\u001b[1;33m\u001b[0m\u001b[0m\n",
      "\u001b[1;31mModuleNotFoundError\u001b[0m: No module named 'twitter'"
     ]
    }
   ],
   "source": [
    "# Import the necessary package to process data in JSON format\n",
    "try:\n",
    "    import json\n",
    "except ImportError:\n",
    "    import simplejson as json\n",
    "\n",
    "# Import the necessary methods from \"twitter\" library\n",
    "from twitter import Twitter, OAuth, TwitterHTTPError, TwitterStream\n",
    "\n",
    "# Variables that contains the user credentials to access Twitter API \n",
    "ACCESS_TOKEN = '495139749-KbjRT9Bri8PQx3qeNV4e15hJ3JQFI7K3tI36pz9i'\n",
    "ACCESS_SECRET = 'fEzuLJQGqoAYz07bfaV7nVqCV01Mz8kFYUc3ZG0vU39yW'\n",
    "CONSUMER_KEY = '2Nh755tawtHRVemY09AvqF9tx'\n",
    "CONSUMER_SECRET = 'zZ4TrpqXhuVOEF7ihYDDd89WyK9vDJ0WmUE5bNuyqWkbrV5vNF'\n",
    "\n",
    "oauth = OAuth(ACCESS_TOKEN, ACCESS_SECRET, CONSUMER_KEY, CONSUMER_SECRET)\n",
    "\n",
    "# Initiate the connection to Twitter Streaming API\n",
    "twitter_stream = TwitterStream(auth=oauth)\n",
    "\n",
    "# Get a sample of the public data following through Twitter\n",
    "iterator = twitter_stream.statuses.filter(track=\"falcons\", geocode=\"33.748995,-84.387982,150km\")\n",
    "\n",
    "# Print each tweet in the stream to the screen \n",
    "# Here we set it to stop after getting 1000 tweets. \n",
    "# You don't have to set it to stop, but can continue running \n",
    "# the Twitter API to collect data for days or even longer. \n",
    "tweet_count = 1000\n",
    "for tweet in iterator:\n",
    "    tweet_count -= 1\n",
    "    # Twitter Python Tool wraps the data returned by Twitter \n",
    "    # as a TwitterDictResponse object.\n",
    "    # We convert it back to the JSON format to print/score\n",
    "    print (json.dumps(tweet, indent=4))\n",
    "    \n",
    "    # The command below will do pretty printing for JSON data, try it out\n",
    "    # print json.dumps(tweet, indent=4)\n",
    "       \n",
    "    if tweet_count <= 0:\n",
    "        break \n"
   ]
  },
  {
   "cell_type": "code",
   "execution_count": 18,
   "metadata": {
    "code_folding": []
   },
   "outputs": [
    {
     "ename": "SyntaxError",
     "evalue": "invalid syntax (<ipython-input-18-5e62fbe0c274>, line 36)",
     "output_type": "error",
     "traceback": [
      "\u001b[1;36m  File \u001b[1;32m\"<ipython-input-18-5e62fbe0c274>\"\u001b[1;36m, line \u001b[1;32m36\u001b[0m\n\u001b[1;33m    print json.dumps(tweet)\u001b[0m\n\u001b[1;37m             ^\u001b[0m\n\u001b[1;31mSyntaxError\u001b[0m\u001b[1;31m:\u001b[0m invalid syntax\n"
     ]
    }
   ],
   "source": [
    "# copy-and-paste Python code from lab 5 - the first twitter_streaming.py file\n",
    "# (it starts with the line \"# Import the necessary package to process data in JSON format),\" \n",
    "# and can be found in the tutorial at http://socialmedia-class.org/twittertutorial.html under\n",
    "# \"Basic Uses of Streaming APIs\" and before the \"Advanced Uses of Streaming APIs\"\n",
    "\n",
    "# if you get an error at \"print json.dumps(tweet, indent=4)\", \n",
    "# it may be because you are Using Python 3. \n",
    "# Try \"print (json.dumps(tweet, indent=4))\" instead\n",
    "\n",
    "# You'll have a large output area. Double-click on the active area to the left of the output to minimize it.\n",
    "\n"
   ]
  },
  {
   "cell_type": "markdown",
   "metadata": {},
   "source": [
    "III. ANALYSIS"
   ]
  },
  {
   "cell_type": "code",
   "execution_count": null,
   "metadata": {
    "collapsed": true
   },
   "outputs": [],
   "source": [
    "# copy-and-paste Python code from lab 5 - the final twitter_streaming.py file you submitted\n",
    "# implementing the \"Advanced Uses of Streaming APIs\" (i.e., searching by keyword and geolocation)\n",
    "\n"
   ]
  },
  {
   "cell_type": "markdown",
   "metadata": {},
   "source": [
    "V. RECOMMENDATION\n",
    "\n",
    "| Option | Description |\n",
    "| :------:| -----------:|\n",
    "| 1   | Markdown does not allow for a lot of formatting. |\n",
    "| 2 | This is one way. |\n",
    "| 3    | You can look up other formatting tricks. |"
   ]
  },
  {
   "cell_type": "markdown",
   "metadata": {},
   "source": [
    "Submit your notebook file by email to justin.longo.phd@gmail.com or put online (e.g., GitHub) and send me the URL."
   ]
  }
 ],
 "metadata": {
  "kernelspec": {
   "display_name": "Python 3",
   "language": "python",
   "name": "python3"
  },
  "language_info": {
   "codemirror_mode": {
    "name": "ipython",
    "version": 3
   },
   "file_extension": ".py",
   "mimetype": "text/x-python",
   "name": "python",
   "nbconvert_exporter": "python",
   "pygments_lexer": "ipython3",
   "version": "3.6.3"
  }
 },
 "nbformat": 4,
 "nbformat_minor": 1
}
